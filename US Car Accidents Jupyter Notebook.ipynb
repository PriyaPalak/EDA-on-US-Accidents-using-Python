{
  "cells": [
    {
      "cell_type": "markdown",
      "metadata": {
        "id": "ZXMYKwlxvewq"
      },
      "source": [
        "# US Accidents Exploratory Data Analysis Project\n",
        "\n"
      ]
    },
    {
      "cell_type": "markdown",
      "metadata": {
        "id": "qu8YM1rBzsJ6"
      },
      "source": [
        "The dataset used in this project contains records of Car accidents in the 49 states of USA between the period February 2016 to December 2021. The data has been collected using multiple APIs that provide streaming traffic incident (or event) data. Currently, there are about 2.8 million records in this dataset.\n",
        "\n"
      ]
    },
    {
      "cell_type": "markdown",
      "metadata": {
        "id": "oj_p9125zsZ6"
      },
      "source": [
        "Whiile the dataset contains huge wealth of information, this project is mainly focused on 3 aspects of these accidents.\n",
        "1. Per City Analysis\n",
        "2. Daily , Monthly and Yearly trends\n",
        "3. Severity"
      ]
    },
    {
      "cell_type": "markdown",
      "metadata": {
        "id": "PV1L9cy6zsz6"
      },
      "source": [
        "Let's begin by installing the jovian module to save our work to jovia.ai."
      ]
    },
    {
      "cell_type": "code",
      "execution_count": null,
      "metadata": {
        "id": "VPQVOzVdvewt"
      },
      "outputs": [],
      "source": [
        "!pip install jovian --upgrade --quiet"
      ]
    },
    {
      "cell_type": "code",
      "execution_count": null,
      "metadata": {
        "id": "KY23eeG2vewt"
      },
      "outputs": [],
      "source": [
        "import jovian"
      ]
    },
    {
      "cell_type": "code",
      "execution_count": null,
      "metadata": {
        "colab": {
          "base_uri": "https://localhost:8080/",
          "height": 88
        },
        "id": "K7f1VLv4vewu",
        "outputId": "bef4bc1b-392e-422b-d8ae-44d4c91efb64"
      },
      "outputs": [
        {
          "name": "stdout",
          "output_type": "stream",
          "text": [
            "[jovian] Detected Colab notebook...\u001b[0m\n",
            "[jovian] Uploading colab notebook to Jovian...\u001b[0m\n",
            "Committed successfully! https://jovian.ai/palak780nain/us-accidents-eda-project\n"
          ]
        },
        {
          "data": {
            "application/vnd.google.colaboratory.intrinsic+json": {
              "type": "string"
            },
            "text/plain": [
              "'https://jovian.ai/palak780nain/us-accidents-eda-project'"
            ]
          },
          "execution_count": 37,
          "metadata": {},
          "output_type": "execute_result"
        }
      ],
      "source": [
        "# Execute this to save new versions of the notebook\n",
        "jovian.commit(project=\"us-accidents-eda-project\")"
      ]
    },
    {
      "cell_type": "markdown",
      "metadata": {
        "id": "b67Nkac0vewu"
      },
      "source": [
        "## Downloading the Dataset"
      ]
    },
    {
      "cell_type": "markdown",
      "metadata": {
        "id": "Z2dYW6nAE9iP"
      },
      "source": [
        "I have used the `opendatasets` module to download the dataset from kaggle website."
      ]
    },
    {
      "cell_type": "code",
      "execution_count": null,
      "metadata": {
        "id": "UPnhXsMSvewv"
      },
      "outputs": [],
      "source": [
        "!pip install opendatasets --upgrade --quiet"
      ]
    },
    {
      "cell_type": "code",
      "execution_count": null,
      "metadata": {
        "id": "vtcpZiE1vewv"
      },
      "outputs": [],
      "source": [
        "import opendatasets as od"
      ]
    },
    {
      "cell_type": "code",
      "execution_count": null,
      "metadata": {
        "colab": {
          "base_uri": "https://localhost:8080/"
        },
        "id": "pLIXq26svewv",
        "outputId": "ad6589f0-359c-4f40-fff3-1a284308e946"
      },
      "outputs": [
        {
          "name": "stdout",
          "output_type": "stream",
          "text": [
            "Please provide your Kaggle credentials to download this dataset. Learn more: http://bit.ly/kaggle-creds\n",
            "Your Kaggle username: priyapalak\n",
            "Your Kaggle Key: ··········\n",
            "Downloading us-accidents.zip to ./us-accidents\n"
          ]
        },
        {
          "name": "stderr",
          "output_type": "stream",
          "text": [
            "100%|██████████| 269M/269M [00:01<00:00, 175MB/s]\n"
          ]
        },
        {
          "name": "stdout",
          "output_type": "stream",
          "text": [
            "\n"
          ]
        }
      ],
      "source": [
        "download_url = 'https://www.kaggle.com/datasets/sobhanmoosavi/us-accidents'\n",
        "od.download(download_url)"
      ]
    },
    {
      "cell_type": "markdown",
      "metadata": {
        "id": "I73PYD1jFO8-"
      },
      "source": [
        "It's always good to save your file path to a variable, that can be used later."
      ]
    },
    {
      "cell_type": "code",
      "execution_count": null,
      "metadata": {
        "id": "c3H5yBJNveww"
      },
      "outputs": [],
      "source": [
        "data_filename = './us-accidents/US_Accidents_Dec21_updated.csv'"
      ]
    },
    {
      "cell_type": "markdown",
      "metadata": {
        "id": "Qqa39XF2vewx"
      },
      "source": [
        "## Data Preparation and Cleaning"
      ]
    },
    {
      "cell_type": "markdown",
      "metadata": {
        "id": "J3j8HnYCFsnY"
      },
      "source": [
        "Now that we have downloaded the dataset, the next step is to load it as a pandas dataframe so that we can analyse the tabular data."
      ]
    },
    {
      "cell_type": "code",
      "execution_count": null,
      "metadata": {
        "id": "AOUlNOmfvewx"
      },
      "outputs": [],
      "source": [
        "import pandas as pd"
      ]
    },
    {
      "cell_type": "code",
      "execution_count": null,
      "metadata": {
        "id": "rFB5L5uYvewx"
      },
      "outputs": [],
      "source": [
        "df = pd.read_csv(data_filename)"
      ]
    },
    {
      "cell_type": "code",
      "execution_count": null,
      "metadata": {
        "colab": {
          "base_uri": "https://localhost:8080/",
          "height": 939
        },
        "id": "B8xax2nKvewy",
        "outputId": "068812ca-a526-42fb-86c4-a2c48743c781"
      },
      "outputs": [
        {
          "data": {
            "text/html": [
              "\n",
              "  <div id=\"df-5d09a921-93d8-4a54-9729-45789fd93445\">\n",
              "    <div class=\"colab-df-container\">\n",
              "      <div>\n",
              "<style scoped>\n",
              "    .dataframe tbody tr th:only-of-type {\n",
              "        vertical-align: middle;\n",
              "    }\n",
              "\n",
              "    .dataframe tbody tr th {\n",
              "        vertical-align: top;\n",
              "    }\n",
              "\n",
              "    .dataframe thead th {\n",
              "        text-align: right;\n",
              "    }\n",
              "</style>\n",
              "<table border=\"1\" class=\"dataframe\">\n",
              "  <thead>\n",
              "    <tr style=\"text-align: right;\">\n",
              "      <th></th>\n",
              "      <th>ID</th>\n",
              "      <th>Severity</th>\n",
              "      <th>Start_Time</th>\n",
              "      <th>End_Time</th>\n",
              "      <th>Start_Lat</th>\n",
              "      <th>Start_Lng</th>\n",
              "      <th>End_Lat</th>\n",
              "      <th>End_Lng</th>\n",
              "      <th>Distance(mi)</th>\n",
              "      <th>Description</th>\n",
              "      <th>...</th>\n",
              "      <th>Roundabout</th>\n",
              "      <th>Station</th>\n",
              "      <th>Stop</th>\n",
              "      <th>Traffic_Calming</th>\n",
              "      <th>Traffic_Signal</th>\n",
              "      <th>Turning_Loop</th>\n",
              "      <th>Sunrise_Sunset</th>\n",
              "      <th>Civil_Twilight</th>\n",
              "      <th>Nautical_Twilight</th>\n",
              "      <th>Astronomical_Twilight</th>\n",
              "    </tr>\n",
              "  </thead>\n",
              "  <tbody>\n",
              "    <tr>\n",
              "      <th>0</th>\n",
              "      <td>A-1</td>\n",
              "      <td>3</td>\n",
              "      <td>2016-02-08 00:37:08</td>\n",
              "      <td>2016-02-08 06:37:08</td>\n",
              "      <td>40.108910</td>\n",
              "      <td>-83.092860</td>\n",
              "      <td>40.112060</td>\n",
              "      <td>-83.031870</td>\n",
              "      <td>3.230</td>\n",
              "      <td>Between Sawmill Rd/Exit 20 and OH-315/Olentang...</td>\n",
              "      <td>...</td>\n",
              "      <td>False</td>\n",
              "      <td>False</td>\n",
              "      <td>False</td>\n",
              "      <td>False</td>\n",
              "      <td>False</td>\n",
              "      <td>False</td>\n",
              "      <td>Night</td>\n",
              "      <td>Night</td>\n",
              "      <td>Night</td>\n",
              "      <td>Night</td>\n",
              "    </tr>\n",
              "    <tr>\n",
              "      <th>1</th>\n",
              "      <td>A-2</td>\n",
              "      <td>2</td>\n",
              "      <td>2016-02-08 05:56:20</td>\n",
              "      <td>2016-02-08 11:56:20</td>\n",
              "      <td>39.865420</td>\n",
              "      <td>-84.062800</td>\n",
              "      <td>39.865010</td>\n",
              "      <td>-84.048730</td>\n",
              "      <td>0.747</td>\n",
              "      <td>At OH-4/OH-235/Exit 41 - Accident.</td>\n",
              "      <td>...</td>\n",
              "      <td>False</td>\n",
              "      <td>False</td>\n",
              "      <td>False</td>\n",
              "      <td>False</td>\n",
              "      <td>False</td>\n",
              "      <td>False</td>\n",
              "      <td>Night</td>\n",
              "      <td>Night</td>\n",
              "      <td>Night</td>\n",
              "      <td>Night</td>\n",
              "    </tr>\n",
              "    <tr>\n",
              "      <th>2</th>\n",
              "      <td>A-3</td>\n",
              "      <td>2</td>\n",
              "      <td>2016-02-08 06:15:39</td>\n",
              "      <td>2016-02-08 12:15:39</td>\n",
              "      <td>39.102660</td>\n",
              "      <td>-84.524680</td>\n",
              "      <td>39.102090</td>\n",
              "      <td>-84.523960</td>\n",
              "      <td>0.055</td>\n",
              "      <td>At I-71/US-50/Exit 1 - Accident.</td>\n",
              "      <td>...</td>\n",
              "      <td>False</td>\n",
              "      <td>False</td>\n",
              "      <td>False</td>\n",
              "      <td>False</td>\n",
              "      <td>False</td>\n",
              "      <td>False</td>\n",
              "      <td>Night</td>\n",
              "      <td>Night</td>\n",
              "      <td>Night</td>\n",
              "      <td>Day</td>\n",
              "    </tr>\n",
              "    <tr>\n",
              "      <th>3</th>\n",
              "      <td>A-4</td>\n",
              "      <td>2</td>\n",
              "      <td>2016-02-08 06:51:45</td>\n",
              "      <td>2016-02-08 12:51:45</td>\n",
              "      <td>41.062130</td>\n",
              "      <td>-81.537840</td>\n",
              "      <td>41.062170</td>\n",
              "      <td>-81.535470</td>\n",
              "      <td>0.123</td>\n",
              "      <td>At Dart Ave/Exit 21 - Accident.</td>\n",
              "      <td>...</td>\n",
              "      <td>False</td>\n",
              "      <td>False</td>\n",
              "      <td>False</td>\n",
              "      <td>False</td>\n",
              "      <td>False</td>\n",
              "      <td>False</td>\n",
              "      <td>Night</td>\n",
              "      <td>Night</td>\n",
              "      <td>Day</td>\n",
              "      <td>Day</td>\n",
              "    </tr>\n",
              "    <tr>\n",
              "      <th>4</th>\n",
              "      <td>A-5</td>\n",
              "      <td>3</td>\n",
              "      <td>2016-02-08 07:53:43</td>\n",
              "      <td>2016-02-08 13:53:43</td>\n",
              "      <td>39.172393</td>\n",
              "      <td>-84.492792</td>\n",
              "      <td>39.170476</td>\n",
              "      <td>-84.501798</td>\n",
              "      <td>0.500</td>\n",
              "      <td>At Mitchell Ave/Exit 6 - Accident.</td>\n",
              "      <td>...</td>\n",
              "      <td>False</td>\n",
              "      <td>False</td>\n",
              "      <td>False</td>\n",
              "      <td>False</td>\n",
              "      <td>False</td>\n",
              "      <td>False</td>\n",
              "      <td>Day</td>\n",
              "      <td>Day</td>\n",
              "      <td>Day</td>\n",
              "      <td>Day</td>\n",
              "    </tr>\n",
              "    <tr>\n",
              "      <th>...</th>\n",
              "      <td>...</td>\n",
              "      <td>...</td>\n",
              "      <td>...</td>\n",
              "      <td>...</td>\n",
              "      <td>...</td>\n",
              "      <td>...</td>\n",
              "      <td>...</td>\n",
              "      <td>...</td>\n",
              "      <td>...</td>\n",
              "      <td>...</td>\n",
              "      <td>...</td>\n",
              "      <td>...</td>\n",
              "      <td>...</td>\n",
              "      <td>...</td>\n",
              "      <td>...</td>\n",
              "      <td>...</td>\n",
              "      <td>...</td>\n",
              "      <td>...</td>\n",
              "      <td>...</td>\n",
              "      <td>...</td>\n",
              "      <td>...</td>\n",
              "    </tr>\n",
              "    <tr>\n",
              "      <th>2845337</th>\n",
              "      <td>A-2845338</td>\n",
              "      <td>2</td>\n",
              "      <td>2019-08-23 18:03:25</td>\n",
              "      <td>2019-08-23 18:32:01</td>\n",
              "      <td>34.002480</td>\n",
              "      <td>-117.379360</td>\n",
              "      <td>33.998880</td>\n",
              "      <td>-117.370940</td>\n",
              "      <td>0.543</td>\n",
              "      <td>At Market St - Accident.</td>\n",
              "      <td>...</td>\n",
              "      <td>False</td>\n",
              "      <td>False</td>\n",
              "      <td>False</td>\n",
              "      <td>False</td>\n",
              "      <td>False</td>\n",
              "      <td>False</td>\n",
              "      <td>Day</td>\n",
              "      <td>Day</td>\n",
              "      <td>Day</td>\n",
              "      <td>Day</td>\n",
              "    </tr>\n",
              "    <tr>\n",
              "      <th>2845338</th>\n",
              "      <td>A-2845339</td>\n",
              "      <td>2</td>\n",
              "      <td>2019-08-23 19:11:30</td>\n",
              "      <td>2019-08-23 19:38:23</td>\n",
              "      <td>32.766960</td>\n",
              "      <td>-117.148060</td>\n",
              "      <td>32.765550</td>\n",
              "      <td>-117.153630</td>\n",
              "      <td>0.338</td>\n",
              "      <td>At Camino Del Rio/Mission Center Rd - Accident.</td>\n",
              "      <td>...</td>\n",
              "      <td>False</td>\n",
              "      <td>False</td>\n",
              "      <td>False</td>\n",
              "      <td>False</td>\n",
              "      <td>False</td>\n",
              "      <td>False</td>\n",
              "      <td>Day</td>\n",
              "      <td>Day</td>\n",
              "      <td>Day</td>\n",
              "      <td>Day</td>\n",
              "    </tr>\n",
              "    <tr>\n",
              "      <th>2845339</th>\n",
              "      <td>A-2845340</td>\n",
              "      <td>2</td>\n",
              "      <td>2019-08-23 19:00:21</td>\n",
              "      <td>2019-08-23 19:28:49</td>\n",
              "      <td>33.775450</td>\n",
              "      <td>-117.847790</td>\n",
              "      <td>33.777400</td>\n",
              "      <td>-117.857270</td>\n",
              "      <td>0.561</td>\n",
              "      <td>At Glassell St/Grand Ave - Accident. in the ri...</td>\n",
              "      <td>...</td>\n",
              "      <td>False</td>\n",
              "      <td>False</td>\n",
              "      <td>False</td>\n",
              "      <td>False</td>\n",
              "      <td>False</td>\n",
              "      <td>False</td>\n",
              "      <td>Day</td>\n",
              "      <td>Day</td>\n",
              "      <td>Day</td>\n",
              "      <td>Day</td>\n",
              "    </tr>\n",
              "    <tr>\n",
              "      <th>2845340</th>\n",
              "      <td>A-2845341</td>\n",
              "      <td>2</td>\n",
              "      <td>2019-08-23 19:00:21</td>\n",
              "      <td>2019-08-23 19:29:42</td>\n",
              "      <td>33.992460</td>\n",
              "      <td>-118.403020</td>\n",
              "      <td>33.983110</td>\n",
              "      <td>-118.395650</td>\n",
              "      <td>0.772</td>\n",
              "      <td>At CA-90/Marina Fwy/Jefferson Blvd - Accident.</td>\n",
              "      <td>...</td>\n",
              "      <td>False</td>\n",
              "      <td>False</td>\n",
              "      <td>False</td>\n",
              "      <td>False</td>\n",
              "      <td>False</td>\n",
              "      <td>False</td>\n",
              "      <td>Day</td>\n",
              "      <td>Day</td>\n",
              "      <td>Day</td>\n",
              "      <td>Day</td>\n",
              "    </tr>\n",
              "    <tr>\n",
              "      <th>2845341</th>\n",
              "      <td>A-2845342</td>\n",
              "      <td>2</td>\n",
              "      <td>2019-08-23 18:52:06</td>\n",
              "      <td>2019-08-23 19:21:31</td>\n",
              "      <td>34.133930</td>\n",
              "      <td>-117.230920</td>\n",
              "      <td>34.137360</td>\n",
              "      <td>-117.239340</td>\n",
              "      <td>0.537</td>\n",
              "      <td>At Highland Ave/Arden Ave - Accident.</td>\n",
              "      <td>...</td>\n",
              "      <td>False</td>\n",
              "      <td>False</td>\n",
              "      <td>False</td>\n",
              "      <td>False</td>\n",
              "      <td>False</td>\n",
              "      <td>False</td>\n",
              "      <td>Day</td>\n",
              "      <td>Day</td>\n",
              "      <td>Day</td>\n",
              "      <td>Day</td>\n",
              "    </tr>\n",
              "  </tbody>\n",
              "</table>\n",
              "<p>2845342 rows × 47 columns</p>\n",
              "</div>\n",
              "      <button class=\"colab-df-convert\" onclick=\"convertToInteractive('df-5d09a921-93d8-4a54-9729-45789fd93445')\"\n",
              "              title=\"Convert this dataframe to an interactive table.\"\n",
              "              style=\"display:none;\">\n",
              "        \n",
              "  <svg xmlns=\"http://www.w3.org/2000/svg\" height=\"24px\"viewBox=\"0 0 24 24\"\n",
              "       width=\"24px\">\n",
              "    <path d=\"M0 0h24v24H0V0z\" fill=\"none\"/>\n",
              "    <path d=\"M18.56 5.44l.94 2.06.94-2.06 2.06-.94-2.06-.94-.94-2.06-.94 2.06-2.06.94zm-11 1L8.5 8.5l.94-2.06 2.06-.94-2.06-.94L8.5 2.5l-.94 2.06-2.06.94zm10 10l.94 2.06.94-2.06 2.06-.94-2.06-.94-.94-2.06-.94 2.06-2.06.94z\"/><path d=\"M17.41 7.96l-1.37-1.37c-.4-.4-.92-.59-1.43-.59-.52 0-1.04.2-1.43.59L10.3 9.45l-7.72 7.72c-.78.78-.78 2.05 0 2.83L4 21.41c.39.39.9.59 1.41.59.51 0 1.02-.2 1.41-.59l7.78-7.78 2.81-2.81c.8-.78.8-2.07 0-2.86zM5.41 20L4 18.59l7.72-7.72 1.47 1.35L5.41 20z\"/>\n",
              "  </svg>\n",
              "      </button>\n",
              "      \n",
              "  <style>\n",
              "    .colab-df-container {\n",
              "      display:flex;\n",
              "      flex-wrap:wrap;\n",
              "      gap: 12px;\n",
              "    }\n",
              "\n",
              "    .colab-df-convert {\n",
              "      background-color: #E8F0FE;\n",
              "      border: none;\n",
              "      border-radius: 50%;\n",
              "      cursor: pointer;\n",
              "      display: none;\n",
              "      fill: #1967D2;\n",
              "      height: 32px;\n",
              "      padding: 0 0 0 0;\n",
              "      width: 32px;\n",
              "    }\n",
              "\n",
              "    .colab-df-convert:hover {\n",
              "      background-color: #E2EBFA;\n",
              "      box-shadow: 0px 1px 2px rgba(60, 64, 67, 0.3), 0px 1px 3px 1px rgba(60, 64, 67, 0.15);\n",
              "      fill: #174EA6;\n",
              "    }\n",
              "\n",
              "    [theme=dark] .colab-df-convert {\n",
              "      background-color: #3B4455;\n",
              "      fill: #D2E3FC;\n",
              "    }\n",
              "\n",
              "    [theme=dark] .colab-df-convert:hover {\n",
              "      background-color: #434B5C;\n",
              "      box-shadow: 0px 1px 3px 1px rgba(0, 0, 0, 0.15);\n",
              "      filter: drop-shadow(0px 1px 2px rgba(0, 0, 0, 0.3));\n",
              "      fill: #FFFFFF;\n",
              "    }\n",
              "  </style>\n",
              "\n",
              "      <script>\n",
              "        const buttonEl =\n",
              "          document.querySelector('#df-5d09a921-93d8-4a54-9729-45789fd93445 button.colab-df-convert');\n",
              "        buttonEl.style.display =\n",
              "          google.colab.kernel.accessAllowed ? 'block' : 'none';\n",
              "\n",
              "        async function convertToInteractive(key) {\n",
              "          const element = document.querySelector('#df-5d09a921-93d8-4a54-9729-45789fd93445');\n",
              "          const dataTable =\n",
              "            await google.colab.kernel.invokeFunction('convertToInteractive',\n",
              "                                                     [key], {});\n",
              "          if (!dataTable) return;\n",
              "\n",
              "          const docLinkHtml = 'Like what you see? Visit the ' +\n",
              "            '<a target=\"_blank\" href=https://colab.research.google.com/notebooks/data_table.ipynb>data table notebook</a>'\n",
              "            + ' to learn more about interactive tables.';\n",
              "          element.innerHTML = '';\n",
              "          dataTable['output_type'] = 'display_data';\n",
              "          await google.colab.output.renderOutput(dataTable, element);\n",
              "          const docLink = document.createElement('div');\n",
              "          docLink.innerHTML = docLinkHtml;\n",
              "          element.appendChild(docLink);\n",
              "        }\n",
              "      </script>\n",
              "    </div>\n",
              "  </div>\n",
              "  "
            ],
            "text/plain": [
              "                ID  Severity           Start_Time             End_Time  \\\n",
              "0              A-1         3  2016-02-08 00:37:08  2016-02-08 06:37:08   \n",
              "1              A-2         2  2016-02-08 05:56:20  2016-02-08 11:56:20   \n",
              "2              A-3         2  2016-02-08 06:15:39  2016-02-08 12:15:39   \n",
              "3              A-4         2  2016-02-08 06:51:45  2016-02-08 12:51:45   \n",
              "4              A-5         3  2016-02-08 07:53:43  2016-02-08 13:53:43   \n",
              "...            ...       ...                  ...                  ...   \n",
              "2845337  A-2845338         2  2019-08-23 18:03:25  2019-08-23 18:32:01   \n",
              "2845338  A-2845339         2  2019-08-23 19:11:30  2019-08-23 19:38:23   \n",
              "2845339  A-2845340         2  2019-08-23 19:00:21  2019-08-23 19:28:49   \n",
              "2845340  A-2845341         2  2019-08-23 19:00:21  2019-08-23 19:29:42   \n",
              "2845341  A-2845342         2  2019-08-23 18:52:06  2019-08-23 19:21:31   \n",
              "\n",
              "         Start_Lat   Start_Lng    End_Lat     End_Lng  Distance(mi)  \\\n",
              "0        40.108910  -83.092860  40.112060  -83.031870         3.230   \n",
              "1        39.865420  -84.062800  39.865010  -84.048730         0.747   \n",
              "2        39.102660  -84.524680  39.102090  -84.523960         0.055   \n",
              "3        41.062130  -81.537840  41.062170  -81.535470         0.123   \n",
              "4        39.172393  -84.492792  39.170476  -84.501798         0.500   \n",
              "...            ...         ...        ...         ...           ...   \n",
              "2845337  34.002480 -117.379360  33.998880 -117.370940         0.543   \n",
              "2845338  32.766960 -117.148060  32.765550 -117.153630         0.338   \n",
              "2845339  33.775450 -117.847790  33.777400 -117.857270         0.561   \n",
              "2845340  33.992460 -118.403020  33.983110 -118.395650         0.772   \n",
              "2845341  34.133930 -117.230920  34.137360 -117.239340         0.537   \n",
              "\n",
              "                                               Description  ...  Roundabout  \\\n",
              "0        Between Sawmill Rd/Exit 20 and OH-315/Olentang...  ...       False   \n",
              "1                       At OH-4/OH-235/Exit 41 - Accident.  ...       False   \n",
              "2                         At I-71/US-50/Exit 1 - Accident.  ...       False   \n",
              "3                          At Dart Ave/Exit 21 - Accident.  ...       False   \n",
              "4                       At Mitchell Ave/Exit 6 - Accident.  ...       False   \n",
              "...                                                    ...  ...         ...   \n",
              "2845337                           At Market St - Accident.  ...       False   \n",
              "2845338    At Camino Del Rio/Mission Center Rd - Accident.  ...       False   \n",
              "2845339  At Glassell St/Grand Ave - Accident. in the ri...  ...       False   \n",
              "2845340     At CA-90/Marina Fwy/Jefferson Blvd - Accident.  ...       False   \n",
              "2845341              At Highland Ave/Arden Ave - Accident.  ...       False   \n",
              "\n",
              "        Station   Stop Traffic_Calming Traffic_Signal Turning_Loop  \\\n",
              "0         False  False           False          False        False   \n",
              "1         False  False           False          False        False   \n",
              "2         False  False           False          False        False   \n",
              "3         False  False           False          False        False   \n",
              "4         False  False           False          False        False   \n",
              "...         ...    ...             ...            ...          ...   \n",
              "2845337   False  False           False          False        False   \n",
              "2845338   False  False           False          False        False   \n",
              "2845339   False  False           False          False        False   \n",
              "2845340   False  False           False          False        False   \n",
              "2845341   False  False           False          False        False   \n",
              "\n",
              "        Sunrise_Sunset Civil_Twilight Nautical_Twilight Astronomical_Twilight  \n",
              "0                Night          Night             Night                 Night  \n",
              "1                Night          Night             Night                 Night  \n",
              "2                Night          Night             Night                   Day  \n",
              "3                Night          Night               Day                   Day  \n",
              "4                  Day            Day               Day                   Day  \n",
              "...                ...            ...               ...                   ...  \n",
              "2845337            Day            Day               Day                   Day  \n",
              "2845338            Day            Day               Day                   Day  \n",
              "2845339            Day            Day               Day                   Day  \n",
              "2845340            Day            Day               Day                   Day  \n",
              "2845341            Day            Day               Day                   Day  \n",
              "\n",
              "[2845342 rows x 47 columns]"
            ]
          },
          "execution_count": 10,
          "metadata": {},
          "output_type": "execute_result"
        }
      ],
      "source": [
        "df"
      ]
    },
    {
      "cell_type": "markdown",
      "metadata": {
        "id": "ITV8wVL80f-9"
      },
      "source": [
        "Here we can see that the dataset has around 2.8 Million records and 47 columns. We can only see the first and last five records because that's the default setting in Python."
      ]
    },
    {
      "cell_type": "markdown",
      "metadata": {
        "id": "O4uXWnKqGJfx"
      },
      "source": [
        "The next step is Data Preparation and Cleaning. This step involves checking the readiness of data for use. We'll look into these columns, find out if any data quality issues are present and try to eliminate them."
      ]
    },
    {
      "cell_type": "markdown",
      "metadata": {
        "id": "dU7wWF7q1YbX"
      },
      "source": [
        "Let's look at some more details regarding the columns contained in the dataset."
      ]
    },
    {
      "cell_type": "code",
      "execution_count": null,
      "metadata": {
        "colab": {
          "base_uri": "https://localhost:8080/"
        },
        "id": "ll2mat721f34",
        "outputId": "34d3510a-ba32-4769-d6ef-1700a26bcc17"
      },
      "outputs": [
        {
          "name": "stdout",
          "output_type": "stream",
          "text": [
            "<class 'pandas.core.frame.DataFrame'>\n",
            "RangeIndex: 2845342 entries, 0 to 2845341\n",
            "Data columns (total 47 columns):\n",
            " #   Column                 Dtype  \n",
            "---  ------                 -----  \n",
            " 0   ID                     object \n",
            " 1   Severity               int64  \n",
            " 2   Start_Time             object \n",
            " 3   End_Time               object \n",
            " 4   Start_Lat              float64\n",
            " 5   Start_Lng              float64\n",
            " 6   End_Lat                float64\n",
            " 7   End_Lng                float64\n",
            " 8   Distance(mi)           float64\n",
            " 9   Description            object \n",
            " 10  Number                 float64\n",
            " 11  Street                 object \n",
            " 12  Side                   object \n",
            " 13  City                   object \n",
            " 14  County                 object \n",
            " 15  State                  object \n",
            " 16  Zipcode                object \n",
            " 17  Country                object \n",
            " 18  Timezone               object \n",
            " 19  Airport_Code           object \n",
            " 20  Weather_Timestamp      object \n",
            " 21  Temperature(F)         float64\n",
            " 22  Wind_Chill(F)          float64\n",
            " 23  Humidity(%)            float64\n",
            " 24  Pressure(in)           float64\n",
            " 25  Visibility(mi)         float64\n",
            " 26  Wind_Direction         object \n",
            " 27  Wind_Speed(mph)        float64\n",
            " 28  Precipitation(in)      float64\n",
            " 29  Weather_Condition      object \n",
            " 30  Amenity                bool   \n",
            " 31  Bump                   bool   \n",
            " 32  Crossing               bool   \n",
            " 33  Give_Way               bool   \n",
            " 34  Junction               bool   \n",
            " 35  No_Exit                bool   \n",
            " 36  Railway                bool   \n",
            " 37  Roundabout             bool   \n",
            " 38  Station                bool   \n",
            " 39  Stop                   bool   \n",
            " 40  Traffic_Calming        bool   \n",
            " 41  Traffic_Signal         bool   \n",
            " 42  Turning_Loop           bool   \n",
            " 43  Sunrise_Sunset         object \n",
            " 44  Civil_Twilight         object \n",
            " 45  Nautical_Twilight      object \n",
            " 46  Astronomical_Twilight  object \n",
            "dtypes: bool(13), float64(13), int64(1), object(20)\n",
            "memory usage: 773.4+ MB\n"
          ]
        }
      ],
      "source": [
        "df.info()"
      ]
    },
    {
      "cell_type": "markdown",
      "metadata": {
        "id": "h9zCtOaC1YF0"
      },
      "source": [
        "Let's see how many numeric columns do we have."
      ]
    },
    {
      "cell_type": "code",
      "execution_count": null,
      "metadata": {
        "colab": {
          "base_uri": "https://localhost:8080/",
          "height": 488
        },
        "id": "kAeXiAcjvewy",
        "outputId": "8236e6f3-892f-479c-f3db-93f34fbc1653"
      },
      "outputs": [
        {
          "data": {
            "text/html": [
              "\n",
              "  <div id=\"df-b7d7b2fa-d9f5-4bea-9ed6-417b4b0b428c\">\n",
              "    <div class=\"colab-df-container\">\n",
              "      <div>\n",
              "<style scoped>\n",
              "    .dataframe tbody tr th:only-of-type {\n",
              "        vertical-align: middle;\n",
              "    }\n",
              "\n",
              "    .dataframe tbody tr th {\n",
              "        vertical-align: top;\n",
              "    }\n",
              "\n",
              "    .dataframe thead th {\n",
              "        text-align: right;\n",
              "    }\n",
              "</style>\n",
              "<table border=\"1\" class=\"dataframe\">\n",
              "  <thead>\n",
              "    <tr style=\"text-align: right;\">\n",
              "      <th></th>\n",
              "      <th>Severity</th>\n",
              "      <th>Start_Lat</th>\n",
              "      <th>Start_Lng</th>\n",
              "      <th>End_Lat</th>\n",
              "      <th>End_Lng</th>\n",
              "      <th>Distance(mi)</th>\n",
              "      <th>Number</th>\n",
              "      <th>Temperature(F)</th>\n",
              "      <th>Wind_Chill(F)</th>\n",
              "      <th>Humidity(%)</th>\n",
              "      <th>Pressure(in)</th>\n",
              "      <th>Visibility(mi)</th>\n",
              "      <th>Wind_Speed(mph)</th>\n",
              "      <th>Precipitation(in)</th>\n",
              "    </tr>\n",
              "  </thead>\n",
              "  <tbody>\n",
              "    <tr>\n",
              "      <th>0</th>\n",
              "      <td>3</td>\n",
              "      <td>40.108910</td>\n",
              "      <td>-83.092860</td>\n",
              "      <td>40.112060</td>\n",
              "      <td>-83.031870</td>\n",
              "      <td>3.230</td>\n",
              "      <td>NaN</td>\n",
              "      <td>42.1</td>\n",
              "      <td>36.1</td>\n",
              "      <td>58.0</td>\n",
              "      <td>29.76</td>\n",
              "      <td>10.0</td>\n",
              "      <td>10.4</td>\n",
              "      <td>0.00</td>\n",
              "    </tr>\n",
              "    <tr>\n",
              "      <th>1</th>\n",
              "      <td>2</td>\n",
              "      <td>39.865420</td>\n",
              "      <td>-84.062800</td>\n",
              "      <td>39.865010</td>\n",
              "      <td>-84.048730</td>\n",
              "      <td>0.747</td>\n",
              "      <td>NaN</td>\n",
              "      <td>36.9</td>\n",
              "      <td>NaN</td>\n",
              "      <td>91.0</td>\n",
              "      <td>29.68</td>\n",
              "      <td>10.0</td>\n",
              "      <td>NaN</td>\n",
              "      <td>0.02</td>\n",
              "    </tr>\n",
              "    <tr>\n",
              "      <th>2</th>\n",
              "      <td>2</td>\n",
              "      <td>39.102660</td>\n",
              "      <td>-84.524680</td>\n",
              "      <td>39.102090</td>\n",
              "      <td>-84.523960</td>\n",
              "      <td>0.055</td>\n",
              "      <td>NaN</td>\n",
              "      <td>36.0</td>\n",
              "      <td>NaN</td>\n",
              "      <td>97.0</td>\n",
              "      <td>29.70</td>\n",
              "      <td>10.0</td>\n",
              "      <td>NaN</td>\n",
              "      <td>0.02</td>\n",
              "    </tr>\n",
              "    <tr>\n",
              "      <th>3</th>\n",
              "      <td>2</td>\n",
              "      <td>41.062130</td>\n",
              "      <td>-81.537840</td>\n",
              "      <td>41.062170</td>\n",
              "      <td>-81.535470</td>\n",
              "      <td>0.123</td>\n",
              "      <td>NaN</td>\n",
              "      <td>39.0</td>\n",
              "      <td>NaN</td>\n",
              "      <td>55.0</td>\n",
              "      <td>29.65</td>\n",
              "      <td>10.0</td>\n",
              "      <td>NaN</td>\n",
              "      <td>NaN</td>\n",
              "    </tr>\n",
              "    <tr>\n",
              "      <th>4</th>\n",
              "      <td>3</td>\n",
              "      <td>39.172393</td>\n",
              "      <td>-84.492792</td>\n",
              "      <td>39.170476</td>\n",
              "      <td>-84.501798</td>\n",
              "      <td>0.500</td>\n",
              "      <td>NaN</td>\n",
              "      <td>37.0</td>\n",
              "      <td>29.8</td>\n",
              "      <td>93.0</td>\n",
              "      <td>29.69</td>\n",
              "      <td>10.0</td>\n",
              "      <td>10.4</td>\n",
              "      <td>0.01</td>\n",
              "    </tr>\n",
              "    <tr>\n",
              "      <th>...</th>\n",
              "      <td>...</td>\n",
              "      <td>...</td>\n",
              "      <td>...</td>\n",
              "      <td>...</td>\n",
              "      <td>...</td>\n",
              "      <td>...</td>\n",
              "      <td>...</td>\n",
              "      <td>...</td>\n",
              "      <td>...</td>\n",
              "      <td>...</td>\n",
              "      <td>...</td>\n",
              "      <td>...</td>\n",
              "      <td>...</td>\n",
              "      <td>...</td>\n",
              "    </tr>\n",
              "    <tr>\n",
              "      <th>2845337</th>\n",
              "      <td>2</td>\n",
              "      <td>34.002480</td>\n",
              "      <td>-117.379360</td>\n",
              "      <td>33.998880</td>\n",
              "      <td>-117.370940</td>\n",
              "      <td>0.543</td>\n",
              "      <td>NaN</td>\n",
              "      <td>86.0</td>\n",
              "      <td>86.0</td>\n",
              "      <td>40.0</td>\n",
              "      <td>28.92</td>\n",
              "      <td>10.0</td>\n",
              "      <td>13.0</td>\n",
              "      <td>0.00</td>\n",
              "    </tr>\n",
              "    <tr>\n",
              "      <th>2845338</th>\n",
              "      <td>2</td>\n",
              "      <td>32.766960</td>\n",
              "      <td>-117.148060</td>\n",
              "      <td>32.765550</td>\n",
              "      <td>-117.153630</td>\n",
              "      <td>0.338</td>\n",
              "      <td>NaN</td>\n",
              "      <td>70.0</td>\n",
              "      <td>70.0</td>\n",
              "      <td>73.0</td>\n",
              "      <td>29.39</td>\n",
              "      <td>10.0</td>\n",
              "      <td>6.0</td>\n",
              "      <td>0.00</td>\n",
              "    </tr>\n",
              "    <tr>\n",
              "      <th>2845339</th>\n",
              "      <td>2</td>\n",
              "      <td>33.775450</td>\n",
              "      <td>-117.847790</td>\n",
              "      <td>33.777400</td>\n",
              "      <td>-117.857270</td>\n",
              "      <td>0.561</td>\n",
              "      <td>NaN</td>\n",
              "      <td>73.0</td>\n",
              "      <td>73.0</td>\n",
              "      <td>64.0</td>\n",
              "      <td>29.74</td>\n",
              "      <td>10.0</td>\n",
              "      <td>10.0</td>\n",
              "      <td>0.00</td>\n",
              "    </tr>\n",
              "    <tr>\n",
              "      <th>2845340</th>\n",
              "      <td>2</td>\n",
              "      <td>33.992460</td>\n",
              "      <td>-118.403020</td>\n",
              "      <td>33.983110</td>\n",
              "      <td>-118.395650</td>\n",
              "      <td>0.772</td>\n",
              "      <td>NaN</td>\n",
              "      <td>71.0</td>\n",
              "      <td>71.0</td>\n",
              "      <td>81.0</td>\n",
              "      <td>29.62</td>\n",
              "      <td>10.0</td>\n",
              "      <td>8.0</td>\n",
              "      <td>0.00</td>\n",
              "    </tr>\n",
              "    <tr>\n",
              "      <th>2845341</th>\n",
              "      <td>2</td>\n",
              "      <td>34.133930</td>\n",
              "      <td>-117.230920</td>\n",
              "      <td>34.137360</td>\n",
              "      <td>-117.239340</td>\n",
              "      <td>0.537</td>\n",
              "      <td>NaN</td>\n",
              "      <td>79.0</td>\n",
              "      <td>79.0</td>\n",
              "      <td>47.0</td>\n",
              "      <td>28.63</td>\n",
              "      <td>7.0</td>\n",
              "      <td>7.0</td>\n",
              "      <td>0.00</td>\n",
              "    </tr>\n",
              "  </tbody>\n",
              "</table>\n",
              "<p>2845342 rows × 14 columns</p>\n",
              "</div>\n",
              "      <button class=\"colab-df-convert\" onclick=\"convertToInteractive('df-b7d7b2fa-d9f5-4bea-9ed6-417b4b0b428c')\"\n",
              "              title=\"Convert this dataframe to an interactive table.\"\n",
              "              style=\"display:none;\">\n",
              "        \n",
              "  <svg xmlns=\"http://www.w3.org/2000/svg\" height=\"24px\"viewBox=\"0 0 24 24\"\n",
              "       width=\"24px\">\n",
              "    <path d=\"M0 0h24v24H0V0z\" fill=\"none\"/>\n",
              "    <path d=\"M18.56 5.44l.94 2.06.94-2.06 2.06-.94-2.06-.94-.94-2.06-.94 2.06-2.06.94zm-11 1L8.5 8.5l.94-2.06 2.06-.94-2.06-.94L8.5 2.5l-.94 2.06-2.06.94zm10 10l.94 2.06.94-2.06 2.06-.94-2.06-.94-.94-2.06-.94 2.06-2.06.94z\"/><path d=\"M17.41 7.96l-1.37-1.37c-.4-.4-.92-.59-1.43-.59-.52 0-1.04.2-1.43.59L10.3 9.45l-7.72 7.72c-.78.78-.78 2.05 0 2.83L4 21.41c.39.39.9.59 1.41.59.51 0 1.02-.2 1.41-.59l7.78-7.78 2.81-2.81c.8-.78.8-2.07 0-2.86zM5.41 20L4 18.59l7.72-7.72 1.47 1.35L5.41 20z\"/>\n",
              "  </svg>\n",
              "      </button>\n",
              "      \n",
              "  <style>\n",
              "    .colab-df-container {\n",
              "      display:flex;\n",
              "      flex-wrap:wrap;\n",
              "      gap: 12px;\n",
              "    }\n",
              "\n",
              "    .colab-df-convert {\n",
              "      background-color: #E8F0FE;\n",
              "      border: none;\n",
              "      border-radius: 50%;\n",
              "      cursor: pointer;\n",
              "      display: none;\n",
              "      fill: #1967D2;\n",
              "      height: 32px;\n",
              "      padding: 0 0 0 0;\n",
              "      width: 32px;\n",
              "    }\n",
              "\n",
              "    .colab-df-convert:hover {\n",
              "      background-color: #E2EBFA;\n",
              "      box-shadow: 0px 1px 2px rgba(60, 64, 67, 0.3), 0px 1px 3px 1px rgba(60, 64, 67, 0.15);\n",
              "      fill: #174EA6;\n",
              "    }\n",
              "\n",
              "    [theme=dark] .colab-df-convert {\n",
              "      background-color: #3B4455;\n",
              "      fill: #D2E3FC;\n",
              "    }\n",
              "\n",
              "    [theme=dark] .colab-df-convert:hover {\n",
              "      background-color: #434B5C;\n",
              "      box-shadow: 0px 1px 3px 1px rgba(0, 0, 0, 0.15);\n",
              "      filter: drop-shadow(0px 1px 2px rgba(0, 0, 0, 0.3));\n",
              "      fill: #FFFFFF;\n",
              "    }\n",
              "  </style>\n",
              "\n",
              "      <script>\n",
              "        const buttonEl =\n",
              "          document.querySelector('#df-b7d7b2fa-d9f5-4bea-9ed6-417b4b0b428c button.colab-df-convert');\n",
              "        buttonEl.style.display =\n",
              "          google.colab.kernel.accessAllowed ? 'block' : 'none';\n",
              "\n",
              "        async function convertToInteractive(key) {\n",
              "          const element = document.querySelector('#df-b7d7b2fa-d9f5-4bea-9ed6-417b4b0b428c');\n",
              "          const dataTable =\n",
              "            await google.colab.kernel.invokeFunction('convertToInteractive',\n",
              "                                                     [key], {});\n",
              "          if (!dataTable) return;\n",
              "\n",
              "          const docLinkHtml = 'Like what you see? Visit the ' +\n",
              "            '<a target=\"_blank\" href=https://colab.research.google.com/notebooks/data_table.ipynb>data table notebook</a>'\n",
              "            + ' to learn more about interactive tables.';\n",
              "          element.innerHTML = '';\n",
              "          dataTable['output_type'] = 'display_data';\n",
              "          await google.colab.output.renderOutput(dataTable, element);\n",
              "          const docLink = document.createElement('div');\n",
              "          docLink.innerHTML = docLinkHtml;\n",
              "          element.appendChild(docLink);\n",
              "        }\n",
              "      </script>\n",
              "    </div>\n",
              "  </div>\n",
              "  "
            ],
            "text/plain": [
              "         Severity  Start_Lat   Start_Lng    End_Lat     End_Lng  Distance(mi)  \\\n",
              "0               3  40.108910  -83.092860  40.112060  -83.031870         3.230   \n",
              "1               2  39.865420  -84.062800  39.865010  -84.048730         0.747   \n",
              "2               2  39.102660  -84.524680  39.102090  -84.523960         0.055   \n",
              "3               2  41.062130  -81.537840  41.062170  -81.535470         0.123   \n",
              "4               3  39.172393  -84.492792  39.170476  -84.501798         0.500   \n",
              "...           ...        ...         ...        ...         ...           ...   \n",
              "2845337         2  34.002480 -117.379360  33.998880 -117.370940         0.543   \n",
              "2845338         2  32.766960 -117.148060  32.765550 -117.153630         0.338   \n",
              "2845339         2  33.775450 -117.847790  33.777400 -117.857270         0.561   \n",
              "2845340         2  33.992460 -118.403020  33.983110 -118.395650         0.772   \n",
              "2845341         2  34.133930 -117.230920  34.137360 -117.239340         0.537   \n",
              "\n",
              "         Number  Temperature(F)  Wind_Chill(F)  Humidity(%)  Pressure(in)  \\\n",
              "0           NaN            42.1           36.1         58.0         29.76   \n",
              "1           NaN            36.9            NaN         91.0         29.68   \n",
              "2           NaN            36.0            NaN         97.0         29.70   \n",
              "3           NaN            39.0            NaN         55.0         29.65   \n",
              "4           NaN            37.0           29.8         93.0         29.69   \n",
              "...         ...             ...            ...          ...           ...   \n",
              "2845337     NaN            86.0           86.0         40.0         28.92   \n",
              "2845338     NaN            70.0           70.0         73.0         29.39   \n",
              "2845339     NaN            73.0           73.0         64.0         29.74   \n",
              "2845340     NaN            71.0           71.0         81.0         29.62   \n",
              "2845341     NaN            79.0           79.0         47.0         28.63   \n",
              "\n",
              "         Visibility(mi)  Wind_Speed(mph)  Precipitation(in)  \n",
              "0                  10.0             10.4               0.00  \n",
              "1                  10.0              NaN               0.02  \n",
              "2                  10.0              NaN               0.02  \n",
              "3                  10.0              NaN                NaN  \n",
              "4                  10.0             10.4               0.01  \n",
              "...                 ...              ...                ...  \n",
              "2845337            10.0             13.0               0.00  \n",
              "2845338            10.0              6.0               0.00  \n",
              "2845339            10.0             10.0               0.00  \n",
              "2845340            10.0              8.0               0.00  \n",
              "2845341             7.0              7.0               0.00  \n",
              "\n",
              "[2845342 rows x 14 columns]"
            ]
          },
          "execution_count": 19,
          "metadata": {},
          "output_type": "execute_result"
        }
      ],
      "source": [
        "df.select_dtypes(include= 'number')"
      ]
    },
    {
      "cell_type": "markdown",
      "metadata": {
        "id": "5-0EJt9bWXFv"
      },
      "source": [
        "So, we have 14 numerical columns out of the total 47 columns in our dataset."
      ]
    },
    {
      "cell_type": "markdown",
      "metadata": {
        "id": "0Wok4yZOXCyE"
      },
      "source": [
        "Let's find out if we have any null values in the dataset."
      ]
    },
    {
      "cell_type": "code",
      "execution_count": null,
      "metadata": {
        "colab": {
          "base_uri": "https://localhost:8080/"
        },
        "id": "-2xG5XsRXL97",
        "outputId": "cd4f933c-b06e-4441-95ca-8fdea3d6a0bb"
      },
      "outputs": [
        {
          "data": {
            "text/plain": [
              "3414349"
            ]
          },
          "execution_count": 20,
          "metadata": {},
          "output_type": "execute_result"
        }
      ],
      "source": [
        "df.isnull().sum().sum()"
      ]
    },
    {
      "cell_type": "markdown",
      "metadata": {
        "id": "Etq2vOX9XjV_"
      },
      "source": [
        "This was the total number of null values in the whole dataset. Let's look at it column-wise."
      ]
    },
    {
      "cell_type": "code",
      "execution_count": null,
      "metadata": {
        "colab": {
          "base_uri": "https://localhost:8080/"
        },
        "id": "TH10oyCyXTGS",
        "outputId": "71ad8dc8-4691-49d0-8062-4a022373127a"
      },
      "outputs": [
        {
          "data": {
            "text/plain": [
              "ID                             0\n",
              "Severity                       0\n",
              "Start_Time                     0\n",
              "End_Time                       0\n",
              "Start_Lat                      0\n",
              "Start_Lng                      0\n",
              "End_Lat                        0\n",
              "End_Lng                        0\n",
              "Distance(mi)                   0\n",
              "Description                    0\n",
              "Number                   1743911\n",
              "Street                         2\n",
              "Side                           0\n",
              "City                         137\n",
              "County                         0\n",
              "State                          0\n",
              "Zipcode                     1319\n",
              "Country                        0\n",
              "Timezone                    3659\n",
              "Airport_Code                9549\n",
              "Weather_Timestamp          50736\n",
              "Temperature(F)             69274\n",
              "Wind_Chill(F)             469643\n",
              "Humidity(%)                73092\n",
              "Pressure(in)               59200\n",
              "Visibility(mi)             70546\n",
              "Wind_Direction             73775\n",
              "Wind_Speed(mph)           157944\n",
              "Precipitation(in)         549458\n",
              "Weather_Condition          70636\n",
              "Amenity                        0\n",
              "Bump                           0\n",
              "Crossing                       0\n",
              "Give_Way                       0\n",
              "Junction                       0\n",
              "No_Exit                        0\n",
              "Railway                        0\n",
              "Roundabout                     0\n",
              "Station                        0\n",
              "Stop                           0\n",
              "Traffic_Calming                0\n",
              "Traffic_Signal                 0\n",
              "Turning_Loop                   0\n",
              "Sunrise_Sunset              2867\n",
              "Civil_Twilight              2867\n",
              "Nautical_Twilight           2867\n",
              "Astronomical_Twilight       2867\n",
              "dtype: int64"
            ]
          },
          "execution_count": 21,
          "metadata": {},
          "output_type": "execute_result"
        }
      ],
      "source": [
        "df.isnull().sum()"
      ]
    },
    {
      "cell_type": "markdown",
      "metadata": {
        "id": "aebf3_3AXCZa"
      },
      "source": [
        "Percentage of null values per column"
      ]
    },
    {
      "cell_type": "code",
      "execution_count": null,
      "metadata": {
        "colab": {
          "base_uri": "https://localhost:8080/"
        },
        "id": "pEF9Hv-FXK_Z",
        "outputId": "b2febb6a-533b-49c7-d2fe-7284789ff0e6"
      },
      "outputs": [
        {
          "data": {
            "text/plain": [
              "Number                   61.290031\n",
              "Precipitation(in)        19.310789\n",
              "Wind_Chill(F)            16.505678\n",
              "Wind_Speed(mph)           5.550967\n",
              "Wind_Direction            2.592834\n",
              "Humidity(%)               2.568830\n",
              "Weather_Condition         2.482514\n",
              "Visibility(mi)            2.479350\n",
              "Temperature(F)            2.434646\n",
              "Pressure(in)              2.080593\n",
              "Weather_Timestamp         1.783125\n",
              "Airport_Code              0.335601\n",
              "Timezone                  0.128596\n",
              "Nautical_Twilight         0.100761\n",
              "Civil_Twilight            0.100761\n",
              "Sunrise_Sunset            0.100761\n",
              "Astronomical_Twilight     0.100761\n",
              "Zipcode                   0.046356\n",
              "City                      0.004815\n",
              "Street                    0.000070\n",
              "Country                   0.000000\n",
              "Junction                  0.000000\n",
              "Start_Time                0.000000\n",
              "End_Time                  0.000000\n",
              "Start_Lat                 0.000000\n",
              "Turning_Loop              0.000000\n",
              "Traffic_Signal            0.000000\n",
              "Traffic_Calming           0.000000\n",
              "Stop                      0.000000\n",
              "Station                   0.000000\n",
              "Roundabout                0.000000\n",
              "Railway                   0.000000\n",
              "No_Exit                   0.000000\n",
              "Crossing                  0.000000\n",
              "Give_Way                  0.000000\n",
              "Bump                      0.000000\n",
              "Amenity                   0.000000\n",
              "Start_Lng                 0.000000\n",
              "End_Lat                   0.000000\n",
              "End_Lng                   0.000000\n",
              "Distance(mi)              0.000000\n",
              "Description               0.000000\n",
              "Severity                  0.000000\n",
              "Side                      0.000000\n",
              "County                    0.000000\n",
              "State                     0.000000\n",
              "ID                        0.000000\n",
              "dtype: float64"
            ]
          },
          "execution_count": 13,
          "metadata": {},
          "output_type": "execute_result"
        }
      ],
      "source": [
        "null_percentages = df.isnull().sum().sort_values(ascending = False)*100/len(df)\n",
        "null_percentages"
      ]
    },
    {
      "cell_type": "code",
      "execution_count": null,
      "metadata": {
        "colab": {
          "base_uri": "https://localhost:8080/"
        },
        "id": "iYH0jGOvdTi9",
        "outputId": "f2b15a9f-c464-4176-cc59-541989a0b5e1"
      },
      "outputs": [
        {
          "data": {
            "text/plain": [
              "Number                   61.290031\n",
              "Precipitation(in)        19.310789\n",
              "Wind_Chill(F)            16.505678\n",
              "Wind_Speed(mph)           5.550967\n",
              "Wind_Direction            2.592834\n",
              "Humidity(%)               2.568830\n",
              "Weather_Condition         2.482514\n",
              "Visibility(mi)            2.479350\n",
              "Temperature(F)            2.434646\n",
              "Pressure(in)              2.080593\n",
              "Weather_Timestamp         1.783125\n",
              "Airport_Code              0.335601\n",
              "Timezone                  0.128596\n",
              "Nautical_Twilight         0.100761\n",
              "Civil_Twilight            0.100761\n",
              "Sunrise_Sunset            0.100761\n",
              "Astronomical_Twilight     0.100761\n",
              "Zipcode                   0.046356\n",
              "City                      0.004815\n",
              "Street                    0.000070\n",
              "dtype: float64"
            ]
          },
          "execution_count": 14,
          "metadata": {},
          "output_type": "execute_result"
        }
      ],
      "source": [
        "null_percentages[null_percentages != 0]"
      ]
    },
    {
      "cell_type": "markdown",
      "metadata": {
        "id": "PEENWoIJJ95y"
      },
      "source": [
        "Next, I have plotted a bar graph to visually depict the null values percentage of the columns."
      ]
    },
    {
      "cell_type": "code",
      "execution_count": null,
      "metadata": {
        "colab": {
          "base_uri": "https://localhost:8080/",
          "height": 265
        },
        "id": "6YtDGGTDbHV8",
        "outputId": "bc8e8520-1ce5-4c77-b8cb-0c6299cf4e48"
      },
      "outputs": [
        {
          "data": {
            "image/png": "[encoded data removed]",
            "text/plain": [
              "<Figure size 432x288 with 1 Axes>"
            ]
          },
          "metadata": {},
          "output_type": "display_data"
        }
      ],
      "source": [
        "null_percentages[null_percentages != 0].plot(kind = 'barh');"
      ]
    },
    {
      "cell_type": "markdown",
      "metadata": {
        "id": "1RHh2xFoiLC6"
      },
      "source": [
        "As we can see in the graph above, the column `Number` has more than 60% of data missing, followed by `Precipitation` and `Wind Chill` which have 18-20% of data missing. `Wind Speed` has around 6% of the data missing and the rest of the columns have less than 5% of the data missing."
      ]
    },
    {
      "cell_type": "markdown",
      "metadata": {
        "id": "QDcS6HriwbNv"
      },
      "source": [
        "## Exploratory Analysis and Visualizations"
      ]
    },
    {
      "cell_type": "markdown",
      "metadata": {
        "id": "l6M4bmxwIjCE"
      },
      "source": [
        "Now, after Data Preparation and Cleaning, we move to the Exploratory Analysis of our dataset.\n",
        "\n",
        "Exploratory Data Analysis refers to the critical process of performing initial investigations on data so as to discover patterns, to spot anomalies, to test hypothesis and to check assumptions with the help of summary statistics and graphical representations.\n",
        "\n",
        "It is a good practice to understand the data first and try to gather as many insights from it. EDA is all about making sense of data in hand, before getting them dirty with it."
      ]
    },
    {
      "cell_type": "markdown",
      "metadata": {
        "id": "8J8gb8pNJqci"
      },
      "source": [
        "\n",
        "\n",
        "Let's import the libraries required for creating visualisations."
      ]
    },
    {
      "cell_type": "code",
      "execution_count": null,
      "metadata": {
        "id": "yIQ8F7Pc97rd"
      },
      "outputs": [],
      "source": [
        "import matplotlib\n",
        "import matplotlib.pyplot as plt\n",
        "import seaborn as sns\n",
        "%matplotlib inline"
      ]
    },
    {
      "cell_type": "markdown",
      "metadata": {
        "id": "Xe8kQwlTjNVl"
      },
      "source": [
        "Okay, so now let's pick a subset of columns from this dataset that we'll be working on."
      ]
    },
    {
      "cell_type": "code",
      "execution_count": null,
      "metadata": {
        "id": "jxOV9juDjAGm"
      },
      "outputs": [],
      "source": [
        "selected_columns = [ 'Severity', 'Start_Time',\n",
        "                    'Start_Lat','Start_Lng',\n",
        "                    'City', 'State',\n",
        "                    'Temperature(F)' \n",
        "                   ]\n"
      ]
    },
    {
      "cell_type": "markdown",
      "metadata": {
        "id": "UZChm6rQKCKe"
      },
      "source": [
        "Now, let's create a dataframe `new_df` that contains only these selected columns."
      ]
    },
    {
      "cell_type": "code",
      "execution_count": null,
      "metadata": {
        "colab": {
          "base_uri": "https://localhost:8080/",
          "height": 424
        },
        "id": "3yluolw3k8lG",
        "outputId": "8edfe62a-2b6b-4aad-ed59-de7cedc0af3e"
      },
      "outputs": [
        {
          "data": {
            "text/html": [
              "\n",
              "  <div id=\"df-63bf44e9-9038-45b7-a7ce-b0eb9b8ac9ab\">\n",
              "    <div class=\"colab-df-container\">\n",
              "      <div>\n",
              "<style scoped>\n",
              "    .dataframe tbody tr th:only-of-type {\n",
              "        vertical-align: middle;\n",
              "    }\n",
              "\n",
              "    .dataframe tbody tr th {\n",
              "        vertical-align: top;\n",
              "    }\n",
              "\n",
              "    .dataframe thead th {\n",
              "        text-align: right;\n",
              "    }\n",
              "</style>\n",
              "<table border=\"1\" class=\"dataframe\">\n",
              "  <thead>\n",
              "    <tr style=\"text-align: right;\">\n",
              "      <th></th>\n",
              "      <th>Severity</th>\n",
              "      <th>Start_Time</th>\n",
              "      <th>Start_Lat</th>\n",
              "      <th>Start_Lng</th>\n",
              "      <th>City</th>\n",
              "      <th>State</th>\n",
              "      <th>Temperature(F)</th>\n",
              "    </tr>\n",
              "  </thead>\n",
              "  <tbody>\n",
              "    <tr>\n",
              "      <th>0</th>\n",
              "      <td>3</td>\n",
              "      <td>2016-02-08 00:37:08</td>\n",
              "      <td>40.108910</td>\n",
              "      <td>-83.092860</td>\n",
              "      <td>Dublin</td>\n",
              "      <td>OH</td>\n",
              "      <td>42.1</td>\n",
              "    </tr>\n",
              "    <tr>\n",
              "      <th>1</th>\n",
              "      <td>2</td>\n",
              "      <td>2016-02-08 05:56:20</td>\n",
              "      <td>39.865420</td>\n",
              "      <td>-84.062800</td>\n",
              "      <td>Dayton</td>\n",
              "      <td>OH</td>\n",
              "      <td>36.9</td>\n",
              "    </tr>\n",
              "    <tr>\n",
              "      <th>2</th>\n",
              "      <td>2</td>\n",
              "      <td>2016-02-08 06:15:39</td>\n",
              "      <td>39.102660</td>\n",
              "      <td>-84.524680</td>\n",
              "      <td>Cincinnati</td>\n",
              "      <td>OH</td>\n",
              "      <td>36.0</td>\n",
              "    </tr>\n",
              "    <tr>\n",
              "      <th>3</th>\n",
              "      <td>2</td>\n",
              "      <td>2016-02-08 06:51:45</td>\n",
              "      <td>41.062130</td>\n",
              "      <td>-81.537840</td>\n",
              "      <td>Akron</td>\n",
              "      <td>OH</td>\n",
              "      <td>39.0</td>\n",
              "    </tr>\n",
              "    <tr>\n",
              "      <th>4</th>\n",
              "      <td>3</td>\n",
              "      <td>2016-02-08 07:53:43</td>\n",
              "      <td>39.172393</td>\n",
              "      <td>-84.492792</td>\n",
              "      <td>Cincinnati</td>\n",
              "      <td>OH</td>\n",
              "      <td>37.0</td>\n",
              "    </tr>\n",
              "    <tr>\n",
              "      <th>...</th>\n",
              "      <td>...</td>\n",
              "      <td>...</td>\n",
              "      <td>...</td>\n",
              "      <td>...</td>\n",
              "      <td>...</td>\n",
              "      <td>...</td>\n",
              "      <td>...</td>\n",
              "    </tr>\n",
              "    <tr>\n",
              "      <th>2845337</th>\n",
              "      <td>2</td>\n",
              "      <td>2019-08-23 18:03:25</td>\n",
              "      <td>34.002480</td>\n",
              "      <td>-117.379360</td>\n",
              "      <td>Riverside</td>\n",
              "      <td>CA</td>\n",
              "      <td>86.0</td>\n",
              "    </tr>\n",
              "    <tr>\n",
              "      <th>2845338</th>\n",
              "      <td>2</td>\n",
              "      <td>2019-08-23 19:11:30</td>\n",
              "      <td>32.766960</td>\n",
              "      <td>-117.148060</td>\n",
              "      <td>San Diego</td>\n",
              "      <td>CA</td>\n",
              "      <td>70.0</td>\n",
              "    </tr>\n",
              "    <tr>\n",
              "      <th>2845339</th>\n",
              "      <td>2</td>\n",
              "      <td>2019-08-23 19:00:21</td>\n",
              "      <td>33.775450</td>\n",
              "      <td>-117.847790</td>\n",
              "      <td>Orange</td>\n",
              "      <td>CA</td>\n",
              "      <td>73.0</td>\n",
              "    </tr>\n",
              "    <tr>\n",
              "      <th>2845340</th>\n",
              "      <td>2</td>\n",
              "      <td>2019-08-23 19:00:21</td>\n",
              "      <td>33.992460</td>\n",
              "      <td>-118.403020</td>\n",
              "      <td>Culver City</td>\n",
              "      <td>CA</td>\n",
              "      <td>71.0</td>\n",
              "    </tr>\n",
              "    <tr>\n",
              "      <th>2845341</th>\n",
              "      <td>2</td>\n",
              "      <td>2019-08-23 18:52:06</td>\n",
              "      <td>34.133930</td>\n",
              "      <td>-117.230920</td>\n",
              "      <td>Highland</td>\n",
              "      <td>CA</td>\n",
              "      <td>79.0</td>\n",
              "    </tr>\n",
              "  </tbody>\n",
              "</table>\n",
              "<p>2845342 rows × 7 columns</p>\n",
              "</div>\n",
              "      <button class=\"colab-df-convert\" onclick=\"convertToInteractive('df-63bf44e9-9038-45b7-a7ce-b0eb9b8ac9ab')\"\n",
              "              title=\"Convert this dataframe to an interactive table.\"\n",
              "              style=\"display:none;\">\n",
              "        \n",
              "  <svg xmlns=\"http://www.w3.org/2000/svg\" height=\"24px\"viewBox=\"0 0 24 24\"\n",
              "       width=\"24px\">\n",
              "    <path d=\"M0 0h24v24H0V0z\" fill=\"none\"/>\n",
              "    <path d=\"M18.56 5.44l.94 2.06.94-2.06 2.06-.94-2.06-.94-.94-2.06-.94 2.06-2.06.94zm-11 1L8.5 8.5l.94-2.06 2.06-.94-2.06-.94L8.5 2.5l-.94 2.06-2.06.94zm10 10l.94 2.06.94-2.06 2.06-.94-2.06-.94-.94-2.06-.94 2.06-2.06.94z\"/><path d=\"M17.41 7.96l-1.37-1.37c-.4-.4-.92-.59-1.43-.59-.52 0-1.04.2-1.43.59L10.3 9.45l-7.72 7.72c-.78.78-.78 2.05 0 2.83L4 21.41c.39.39.9.59 1.41.59.51 0 1.02-.2 1.41-.59l7.78-7.78 2.81-2.81c.8-.78.8-2.07 0-2.86zM5.41 20L4 18.59l7.72-7.72 1.47 1.35L5.41 20z\"/>\n",
              "  </svg>\n",
              "      </button>\n",
              "      \n",
              "  <style>\n",
              "    .colab-df-container {\n",
              "      display:flex;\n",
              "      flex-wrap:wrap;\n",
              "      gap: 12px;\n",
              "    }\n",
              "\n",
              "    .colab-df-convert {\n",
              "      background-color: #E8F0FE;\n",
              "      border: none;\n",
              "      border-radius: 50%;\n",
              "      cursor: pointer;\n",
              "      display: none;\n",
              "      fill: #1967D2;\n",
              "      height: 32px;\n",
              "      padding: 0 0 0 0;\n",
              "      width: 32px;\n",
              "    }\n",
              "\n",
              "    .colab-df-convert:hover {\n",
              "      background-color: #E2EBFA;\n",
              "      box-shadow: 0px 1px 2px rgba(60, 64, 67, 0.3), 0px 1px 3px 1px rgba(60, 64, 67, 0.15);\n",
              "      fill: #174EA6;\n",
              "    }\n",
              "\n",
              "    [theme=dark] .colab-df-convert {\n",
              "      background-color: #3B4455;\n",
              "      fill: #D2E3FC;\n",
              "    }\n",
              "\n",
              "    [theme=dark] .colab-df-convert:hover {\n",
              "      background-color: #434B5C;\n",
              "      box-shadow: 0px 1px 3px 1px rgba(0, 0, 0, 0.15);\n",
              "      filter: drop-shadow(0px 1px 2px rgba(0, 0, 0, 0.3));\n",
              "      fill: #FFFFFF;\n",
              "    }\n",
              "  </style>\n",
              "\n",
              "      <script>\n",
              "        const buttonEl =\n",
              "          document.querySelector('#df-63bf44e9-9038-45b7-a7ce-b0eb9b8ac9ab button.colab-df-convert');\n",
              "        buttonEl.style.display =\n",
              "          google.colab.kernel.accessAllowed ? 'block' : 'none';\n",
              "\n",
              "        async function convertToInteractive(key) {\n",
              "          const element = document.querySelector('#df-63bf44e9-9038-45b7-a7ce-b0eb9b8ac9ab');\n",
              "          const dataTable =\n",
              "            await google.colab.kernel.invokeFunction('convertToInteractive',\n",
              "                                                     [key], {});\n",
              "          if (!dataTable) return;\n",
              "\n",
              "          const docLinkHtml = 'Like what you see? Visit the ' +\n",
              "            '<a target=\"_blank\" href=https://colab.research.google.com/notebooks/data_table.ipynb>data table notebook</a>'\n",
              "            + ' to learn more about interactive tables.';\n",
              "          element.innerHTML = '';\n",
              "          dataTable['output_type'] = 'display_data';\n",
              "          await google.colab.output.renderOutput(dataTable, element);\n",
              "          const docLink = document.createElement('div');\n",
              "          docLink.innerHTML = docLinkHtml;\n",
              "          element.appendChild(docLink);\n",
              "        }\n",
              "      </script>\n",
              "    </div>\n",
              "  </div>\n",
              "  "
            ],
            "text/plain": [
              "         Severity           Start_Time  Start_Lat   Start_Lng         City  \\\n",
              "0               3  2016-02-08 00:37:08  40.108910  -83.092860       Dublin   \n",
              "1               2  2016-02-08 05:56:20  39.865420  -84.062800       Dayton   \n",
              "2               2  2016-02-08 06:15:39  39.102660  -84.524680   Cincinnati   \n",
              "3               2  2016-02-08 06:51:45  41.062130  -81.537840        Akron   \n",
              "4               3  2016-02-08 07:53:43  39.172393  -84.492792   Cincinnati   \n",
              "...           ...                  ...        ...         ...          ...   \n",
              "2845337         2  2019-08-23 18:03:25  34.002480 -117.379360    Riverside   \n",
              "2845338         2  2019-08-23 19:11:30  32.766960 -117.148060    San Diego   \n",
              "2845339         2  2019-08-23 19:00:21  33.775450 -117.847790       Orange   \n",
              "2845340         2  2019-08-23 19:00:21  33.992460 -118.403020  Culver City   \n",
              "2845341         2  2019-08-23 18:52:06  34.133930 -117.230920     Highland   \n",
              "\n",
              "        State  Temperature(F)  \n",
              "0          OH            42.1  \n",
              "1          OH            36.9  \n",
              "2          OH            36.0  \n",
              "3          OH            39.0  \n",
              "4          OH            37.0  \n",
              "...       ...             ...  \n",
              "2845337    CA            86.0  \n",
              "2845338    CA            70.0  \n",
              "2845339    CA            73.0  \n",
              "2845340    CA            71.0  \n",
              "2845341    CA            79.0  \n",
              "\n",
              "[2845342 rows x 7 columns]"
            ]
          },
          "execution_count": 13,
          "metadata": {},
          "output_type": "execute_result"
        }
      ],
      "source": [
        "new_df = df[selected_columns]\n",
        "new_df"
      ]
    },
    {
      "cell_type": "code",
      "execution_count": null,
      "metadata": {
        "colab": {
          "base_uri": "https://localhost:8080/"
        },
        "id": "BejzC4y3ruzb",
        "outputId": "3342ca78-24e4-473d-9aa4-bbe3f20847f4"
      },
      "outputs": [
        {
          "data": {
            "text/plain": [
              "7"
            ]
          },
          "execution_count": 16,
          "metadata": {},
          "output_type": "execute_result"
        }
      ],
      "source": [
        "len(selected_columns)"
      ]
    },
    {
      "cell_type": "markdown",
      "metadata": {
        "id": "o8AlOUb0r036"
      },
      "source": [
        "So, I have selected 7 out of 47 columns to perform the analysis on this dataset. "
      ]
    },
    {
      "cell_type": "markdown",
      "metadata": {
        "id": "rhv4sG67LFy7"
      },
      "source": [
        "Let's begin our EDA with the column `City`."
      ]
    },
    {
      "cell_type": "markdown",
      "metadata": {
        "id": "XYEY4FJxHYR_"
      },
      "source": [
        "### City"
      ]
    },
    {
      "cell_type": "code",
      "execution_count": null,
      "metadata": {
        "colab": {
          "base_uri": "https://localhost:8080/"
        },
        "id": "LpeHP52C7Zns",
        "outputId": "784bea6f-1cb4-47dc-a808-d2229b4d9b09"
      },
      "outputs": [
        {
          "data": {
            "text/plain": [
              "11681"
            ]
          },
          "execution_count": 57,
          "metadata": {},
          "output_type": "execute_result"
        }
      ],
      "source": [
        "new_df.City.nunique()"
      ]
    },
    {
      "cell_type": "markdown",
      "metadata": {
        "id": "7CtMBlOE7rmn"
      },
      "source": [
        "So, it looks like we have accidents data from over 11,000 cities of USA. Let's check how many states are covered here."
      ]
    },
    {
      "cell_type": "code",
      "execution_count": null,
      "metadata": {
        "colab": {
          "base_uri": "https://localhost:8080/"
        },
        "id": "AArfqr6o72AZ",
        "outputId": "253fabe4-97f9-4a31-da74-68ef6ba68c15"
      },
      "outputs": [
        {
          "data": {
            "text/plain": [
              "49"
            ]
          },
          "execution_count": 58,
          "metadata": {},
          "output_type": "execute_result"
        }
      ],
      "source": [
        "new_df.State.nunique()"
      ]
    },
    {
      "cell_type": "markdown",
      "metadata": {
        "id": "DbdAiHjD8CBv"
      },
      "source": [
        "There are 50 states in USA and we have data from 49 of them, which is pretty impressive. I wonder which one state is left out here."
      ]
    },
    {
      "cell_type": "code",
      "execution_count": null,
      "metadata": {
        "colab": {
          "base_uri": "https://localhost:8080/"
        },
        "id": "qFa-iJLj8iMH",
        "outputId": "5f0d132b-fb23-4003-d6cc-499e0fd95989"
      },
      "outputs": [
        {
          "data": {
            "text/plain": [
              "array(['OH', 'IN', 'KY', 'WV', 'MI', 'PA', 'CA', 'NV', 'MN', 'TX', 'MO',\n",
              "       'CO', 'OK', 'LA', 'KS', 'WI', 'IA', 'MS', 'NE', 'ND', 'WY', 'SD',\n",
              "       'MT', 'NM', 'AR', 'IL', 'NJ', 'GA', 'FL', 'NY', 'CT', 'RI', 'SC',\n",
              "       'NC', 'MD', 'MA', 'TN', 'VA', 'DE', 'DC', 'ME', 'AL', 'NH', 'VT',\n",
              "       'AZ', 'UT', 'ID', 'OR', 'WA'], dtype=object)"
            ]
          },
          "execution_count": 59,
          "metadata": {},
          "output_type": "execute_result"
        }
      ],
      "source": [
        "new_df.State.unique()"
      ]
    },
    {
      "cell_type": "code",
      "execution_count": null,
      "metadata": {
        "colab": {
          "base_uri": "https://localhost:8080/"
        },
        "id": "aso9xu7B97gy",
        "outputId": "feebef9d-f26a-4c21-bef6-80d5703efe76"
      },
      "outputs": [
        {
          "data": {
            "text/plain": [
              "Miami                           106966\n",
              "Los Angeles                      68956\n",
              "Orlando                          54691\n",
              "Dallas                           41979\n",
              "Houston                          39448\n",
              "                                 ...  \n",
              "Ridgedale                            1\n",
              "Sekiu                                1\n",
              "Wooldridge                           1\n",
              "Bullock                              1\n",
              "American Fork-Pleasant Grove         1\n",
              "Name: City, Length: 11681, dtype: int64"
            ]
          },
          "execution_count": 14,
          "metadata": {},
          "output_type": "execute_result"
        }
      ],
      "source": [
        "cities_by_accidents = new_df.City.value_counts()\n",
        "cities_by_accidents"
      ]
    },
    {
      "cell_type": "markdown",
      "metadata": {
        "id": "-jZlVlWg-OBm"
      },
      "source": [
        "Let's look at the top 20 cities with maximum number of accidents."
      ]
    },
    {
      "cell_type": "code",
      "execution_count": null,
      "metadata": {
        "colab": {
          "base_uri": "https://localhost:8080/"
        },
        "id": "nImn3qJb97jh",
        "outputId": "18b9abc2-818f-4cfc-8f8c-277c2b98db8f"
      },
      "outputs": [
        {
          "data": {
            "text/plain": [
              "Miami           106966\n",
              "Los Angeles      68956\n",
              "Orlando          54691\n",
              "Dallas           41979\n",
              "Houston          39448\n",
              "Charlotte        33152\n",
              "Sacramento       32559\n",
              "San Diego        26627\n",
              "Raleigh          22840\n",
              "Minneapolis      22768\n",
              "Portland         20944\n",
              "Nashville        20267\n",
              "Austin           18301\n",
              "Baton Rouge      18182\n",
              "Phoenix          17143\n",
              "Saint Paul       16869\n",
              "New Orleans      16251\n",
              "Atlanta          15622\n",
              "Jacksonville     14967\n",
              "Richmond         14349\n",
              "Name: City, dtype: int64"
            ]
          },
          "execution_count": 14,
          "metadata": {},
          "output_type": "execute_result"
        }
      ],
      "source": [
        "cities_by_accidents.head(20)"
      ]
    },
    {
      "cell_type": "code",
      "execution_count": null,
      "metadata": {
        "colab": {
          "base_uri": "https://localhost:8080/",
          "height": 424
        },
        "id": "qUZlxJz197mT",
        "outputId": "d7cf9379-026c-483d-846d-232fe7f7a3a0"
      },
      "outputs": [
        {
          "data": {
            "text/html": [
              "\n",
              "  <div id=\"df-4a899259-4822-4482-9916-ad0d65a39982\">\n",
              "    <div class=\"colab-df-container\">\n",
              "      <div>\n",
              "<style scoped>\n",
              "    .dataframe tbody tr th:only-of-type {\n",
              "        vertical-align: middle;\n",
              "    }\n",
              "\n",
              "    .dataframe tbody tr th {\n",
              "        vertical-align: top;\n",
              "    }\n",
              "\n",
              "    .dataframe thead th {\n",
              "        text-align: right;\n",
              "    }\n",
              "</style>\n",
              "<table border=\"1\" class=\"dataframe\">\n",
              "  <thead>\n",
              "    <tr style=\"text-align: right;\">\n",
              "      <th></th>\n",
              "      <th>Severity</th>\n",
              "      <th>Start_Time</th>\n",
              "      <th>Start_Lat</th>\n",
              "      <th>Start_Lng</th>\n",
              "      <th>City</th>\n",
              "      <th>State</th>\n",
              "      <th>Temperature(F)</th>\n",
              "    </tr>\n",
              "  </thead>\n",
              "  <tbody>\n",
              "    <tr>\n",
              "      <th>31580</th>\n",
              "      <td>2</td>\n",
              "      <td>2016-11-30 15:58:59</td>\n",
              "      <td>40.850020</td>\n",
              "      <td>-73.943990</td>\n",
              "      <td>New York</td>\n",
              "      <td>NY</td>\n",
              "      <td>53.1</td>\n",
              "    </tr>\n",
              "    <tr>\n",
              "      <th>31625</th>\n",
              "      <td>2</td>\n",
              "      <td>2016-11-30 17:31:55</td>\n",
              "      <td>40.771460</td>\n",
              "      <td>-73.946580</td>\n",
              "      <td>New York</td>\n",
              "      <td>NY</td>\n",
              "      <td>53.1</td>\n",
              "    </tr>\n",
              "    <tr>\n",
              "      <th>31710</th>\n",
              "      <td>3</td>\n",
              "      <td>2016-11-26 22:57:16</td>\n",
              "      <td>40.762979</td>\n",
              "      <td>-73.973938</td>\n",
              "      <td>New York</td>\n",
              "      <td>NY</td>\n",
              "      <td>41.0</td>\n",
              "    </tr>\n",
              "    <tr>\n",
              "      <th>31901</th>\n",
              "      <td>3</td>\n",
              "      <td>2016-12-01 12:14:13</td>\n",
              "      <td>40.744340</td>\n",
              "      <td>-73.971240</td>\n",
              "      <td>New York</td>\n",
              "      <td>NY</td>\n",
              "      <td>53.1</td>\n",
              "    </tr>\n",
              "    <tr>\n",
              "      <th>32073</th>\n",
              "      <td>2</td>\n",
              "      <td>2016-12-01 18:54:49</td>\n",
              "      <td>40.710680</td>\n",
              "      <td>-74.002720</td>\n",
              "      <td>New York</td>\n",
              "      <td>NY</td>\n",
              "      <td>48.2</td>\n",
              "    </tr>\n",
              "    <tr>\n",
              "      <th>...</th>\n",
              "      <td>...</td>\n",
              "      <td>...</td>\n",
              "      <td>...</td>\n",
              "      <td>...</td>\n",
              "      <td>...</td>\n",
              "      <td>...</td>\n",
              "      <td>...</td>\n",
              "    </tr>\n",
              "    <tr>\n",
              "      <th>2843385</th>\n",
              "      <td>2</td>\n",
              "      <td>2019-08-20 14:54:26</td>\n",
              "      <td>40.737500</td>\n",
              "      <td>-73.974270</td>\n",
              "      <td>New York</td>\n",
              "      <td>NY</td>\n",
              "      <td>86.0</td>\n",
              "    </tr>\n",
              "    <tr>\n",
              "      <th>2843916</th>\n",
              "      <td>2</td>\n",
              "      <td>2019-08-21 17:32:29</td>\n",
              "      <td>40.850020</td>\n",
              "      <td>-73.943992</td>\n",
              "      <td>New York</td>\n",
              "      <td>NY</td>\n",
              "      <td>79.0</td>\n",
              "    </tr>\n",
              "    <tr>\n",
              "      <th>2844444</th>\n",
              "      <td>2</td>\n",
              "      <td>2019-08-22 08:16:10</td>\n",
              "      <td>40.760390</td>\n",
              "      <td>-73.962860</td>\n",
              "      <td>New York</td>\n",
              "      <td>NY</td>\n",
              "      <td>76.0</td>\n",
              "    </tr>\n",
              "    <tr>\n",
              "      <th>2844464</th>\n",
              "      <td>2</td>\n",
              "      <td>2019-08-22 15:14:32</td>\n",
              "      <td>40.748080</td>\n",
              "      <td>-73.967930</td>\n",
              "      <td>New York</td>\n",
              "      <td>NY</td>\n",
              "      <td>88.0</td>\n",
              "    </tr>\n",
              "    <tr>\n",
              "      <th>2844953</th>\n",
              "      <td>2</td>\n",
              "      <td>2019-08-23 10:04:09</td>\n",
              "      <td>40.850020</td>\n",
              "      <td>-73.943992</td>\n",
              "      <td>New York</td>\n",
              "      <td>NY</td>\n",
              "      <td>65.0</td>\n",
              "    </tr>\n",
              "  </tbody>\n",
              "</table>\n",
              "<p>7068 rows × 7 columns</p>\n",
              "</div>\n",
              "      <button class=\"colab-df-convert\" onclick=\"convertToInteractive('df-4a899259-4822-4482-9916-ad0d65a39982')\"\n",
              "              title=\"Convert this dataframe to an interactive table.\"\n",
              "              style=\"display:none;\">\n",
              "        \n",
              "  <svg xmlns=\"http://www.w3.org/2000/svg\" height=\"24px\"viewBox=\"0 0 24 24\"\n",
              "       width=\"24px\">\n",
              "    <path d=\"M0 0h24v24H0V0z\" fill=\"none\"/>\n",
              "    <path d=\"M18.56 5.44l.94 2.06.94-2.06 2.06-.94-2.06-.94-.94-2.06-.94 2.06-2.06.94zm-11 1L8.5 8.5l.94-2.06 2.06-.94-2.06-.94L8.5 2.5l-.94 2.06-2.06.94zm10 10l.94 2.06.94-2.06 2.06-.94-2.06-.94-.94-2.06-.94 2.06-2.06.94z\"/><path d=\"M17.41 7.96l-1.37-1.37c-.4-.4-.92-.59-1.43-.59-.52 0-1.04.2-1.43.59L10.3 9.45l-7.72 7.72c-.78.78-.78 2.05 0 2.83L4 21.41c.39.39.9.59 1.41.59.51 0 1.02-.2 1.41-.59l7.78-7.78 2.81-2.81c.8-.78.8-2.07 0-2.86zM5.41 20L4 18.59l7.72-7.72 1.47 1.35L5.41 20z\"/>\n",
              "  </svg>\n",
              "      </button>\n",
              "      \n",
              "  <style>\n",
              "    .colab-df-container {\n",
              "      display:flex;\n",
              "      flex-wrap:wrap;\n",
              "      gap: 12px;\n",
              "    }\n",
              "\n",
              "    .colab-df-convert {\n",
              "      background-color: #E8F0FE;\n",
              "      border: none;\n",
              "      border-radius: 50%;\n",
              "      cursor: pointer;\n",
              "      display: none;\n",
              "      fill: #1967D2;\n",
              "      height: 32px;\n",
              "      padding: 0 0 0 0;\n",
              "      width: 32px;\n",
              "    }\n",
              "\n",
              "    .colab-df-convert:hover {\n",
              "      background-color: #E2EBFA;\n",
              "      box-shadow: 0px 1px 2px rgba(60, 64, 67, 0.3), 0px 1px 3px 1px rgba(60, 64, 67, 0.15);\n",
              "      fill: #174EA6;\n",
              "    }\n",
              "\n",
              "    [theme=dark] .colab-df-convert {\n",
              "      background-color: #3B4455;\n",
              "      fill: #D2E3FC;\n",
              "    }\n",
              "\n",
              "    [theme=dark] .colab-df-convert:hover {\n",
              "      background-color: #434B5C;\n",
              "      box-shadow: 0px 1px 3px 1px rgba(0, 0, 0, 0.15);\n",
              "      filter: drop-shadow(0px 1px 2px rgba(0, 0, 0, 0.3));\n",
              "      fill: #FFFFFF;\n",
              "    }\n",
              "  </style>\n",
              "\n",
              "      <script>\n",
              "        const buttonEl =\n",
              "          document.querySelector('#df-4a899259-4822-4482-9916-ad0d65a39982 button.colab-df-convert');\n",
              "        buttonEl.style.display =\n",
              "          google.colab.kernel.accessAllowed ? 'block' : 'none';\n",
              "\n",
              "        async function convertToInteractive(key) {\n",
              "          const element = document.querySelector('#df-4a899259-4822-4482-9916-ad0d65a39982');\n",
              "          const dataTable =\n",
              "            await google.colab.kernel.invokeFunction('convertToInteractive',\n",
              "                                                     [key], {});\n",
              "          if (!dataTable) return;\n",
              "\n",
              "          const docLinkHtml = 'Like what you see? Visit the ' +\n",
              "            '<a target=\"_blank\" href=https://colab.research.google.com/notebooks/data_table.ipynb>data table notebook</a>'\n",
              "            + ' to learn more about interactive tables.';\n",
              "          element.innerHTML = '';\n",
              "          dataTable['output_type'] = 'display_data';\n",
              "          await google.colab.output.renderOutput(dataTable, element);\n",
              "          const docLink = document.createElement('div');\n",
              "          docLink.innerHTML = docLinkHtml;\n",
              "          element.appendChild(docLink);\n",
              "        }\n",
              "      </script>\n",
              "    </div>\n",
              "  </div>\n",
              "  "
            ],
            "text/plain": [
              "         Severity          Start_Time  Start_Lat  Start_Lng      City State  \\\n",
              "31580           2 2016-11-30 15:58:59  40.850020 -73.943990  New York    NY   \n",
              "31625           2 2016-11-30 17:31:55  40.771460 -73.946580  New York    NY   \n",
              "31710           3 2016-11-26 22:57:16  40.762979 -73.973938  New York    NY   \n",
              "31901           3 2016-12-01 12:14:13  40.744340 -73.971240  New York    NY   \n",
              "32073           2 2016-12-01 18:54:49  40.710680 -74.002720  New York    NY   \n",
              "...           ...                 ...        ...        ...       ...   ...   \n",
              "2843385         2 2019-08-20 14:54:26  40.737500 -73.974270  New York    NY   \n",
              "2843916         2 2019-08-21 17:32:29  40.850020 -73.943992  New York    NY   \n",
              "2844444         2 2019-08-22 08:16:10  40.760390 -73.962860  New York    NY   \n",
              "2844464         2 2019-08-22 15:14:32  40.748080 -73.967930  New York    NY   \n",
              "2844953         2 2019-08-23 10:04:09  40.850020 -73.943992  New York    NY   \n",
              "\n",
              "         Temperature(F)  \n",
              "31580              53.1  \n",
              "31625              53.1  \n",
              "31710              41.0  \n",
              "31901              53.1  \n",
              "32073              48.2  \n",
              "...                 ...  \n",
              "2843385            86.0  \n",
              "2843916            79.0  \n",
              "2844444            76.0  \n",
              "2844464            88.0  \n",
              "2844953            65.0  \n",
              "\n",
              "[7068 rows x 7 columns]"
            ]
          },
          "execution_count": 44,
          "metadata": {},
          "output_type": "execute_result"
        }
      ],
      "source": [
        "new_df[new_df.City == 'New York' ]"
      ]
    },
    {
      "cell_type": "code",
      "execution_count": null,
      "metadata": {
        "colab": {
          "base_uri": "https://localhost:8080/",
          "height": 540
        },
        "id": "rjmSvyoT97ow",
        "outputId": "1872e7bc-0399-4095-c956-97e7aa9e401f"
      },
      "outputs": [
        {
          "data": {
            "text/html": [
              "\n",
              "  <div id=\"df-66bd21b2-1bbd-48dd-99f9-27bc6d2ddc4c\">\n",
              "    <div class=\"colab-df-container\">\n",
              "      <div>\n",
              "<style scoped>\n",
              "    .dataframe tbody tr th:only-of-type {\n",
              "        vertical-align: middle;\n",
              "    }\n",
              "\n",
              "    .dataframe tbody tr th {\n",
              "        vertical-align: top;\n",
              "    }\n",
              "\n",
              "    .dataframe thead th {\n",
              "        text-align: right;\n",
              "    }\n",
              "</style>\n",
              "<table border=\"1\" class=\"dataframe\">\n",
              "  <thead>\n",
              "    <tr style=\"text-align: right;\">\n",
              "      <th></th>\n",
              "      <th>Severity</th>\n",
              "      <th>City</th>\n",
              "      <th>State</th>\n",
              "      <th>Zipcode</th>\n",
              "      <th>Side</th>\n",
              "      <th>Temperature(F)</th>\n",
              "      <th>Wind_Chill(F)</th>\n",
              "      <th>Pressure(in)</th>\n",
              "      <th>Humidity(%)</th>\n",
              "      <th>Visibility(mi)</th>\n",
              "      <th>...</th>\n",
              "      <th>Crossing</th>\n",
              "      <th>No_Exit</th>\n",
              "      <th>Roundabout</th>\n",
              "      <th>Junction</th>\n",
              "      <th>Railway</th>\n",
              "      <th>Station</th>\n",
              "      <th>Stop</th>\n",
              "      <th>Traffic_Signal</th>\n",
              "      <th>Turning_Loop</th>\n",
              "      <th>Sunrise_Sunset</th>\n",
              "    </tr>\n",
              "  </thead>\n",
              "  <tbody>\n",
              "    <tr>\n",
              "      <th>31580</th>\n",
              "      <td>2</td>\n",
              "      <td>New York</td>\n",
              "      <td>NY</td>\n",
              "      <td>10033</td>\n",
              "      <td>R</td>\n",
              "      <td>53.1</td>\n",
              "      <td>NaN</td>\n",
              "      <td>29.80</td>\n",
              "      <td>93.0</td>\n",
              "      <td>2.0</td>\n",
              "      <td>...</td>\n",
              "      <td>False</td>\n",
              "      <td>False</td>\n",
              "      <td>False</td>\n",
              "      <td>True</td>\n",
              "      <td>False</td>\n",
              "      <td>False</td>\n",
              "      <td>False</td>\n",
              "      <td>False</td>\n",
              "      <td>False</td>\n",
              "      <td>Day</td>\n",
              "    </tr>\n",
              "    <tr>\n",
              "      <th>31607</th>\n",
              "      <td>2</td>\n",
              "      <td>Central Valley</td>\n",
              "      <td>NY</td>\n",
              "      <td>10917</td>\n",
              "      <td>R</td>\n",
              "      <td>51.8</td>\n",
              "      <td>NaN</td>\n",
              "      <td>29.82</td>\n",
              "      <td>100.0</td>\n",
              "      <td>3.0</td>\n",
              "      <td>...</td>\n",
              "      <td>False</td>\n",
              "      <td>False</td>\n",
              "      <td>False</td>\n",
              "      <td>False</td>\n",
              "      <td>False</td>\n",
              "      <td>False</td>\n",
              "      <td>False</td>\n",
              "      <td>False</td>\n",
              "      <td>False</td>\n",
              "      <td>Night</td>\n",
              "    </tr>\n",
              "    <tr>\n",
              "      <th>31609</th>\n",
              "      <td>2</td>\n",
              "      <td>Syracuse</td>\n",
              "      <td>NY</td>\n",
              "      <td>13210</td>\n",
              "      <td>R</td>\n",
              "      <td>53.1</td>\n",
              "      <td>NaN</td>\n",
              "      <td>29.63</td>\n",
              "      <td>80.0</td>\n",
              "      <td>10.0</td>\n",
              "      <td>...</td>\n",
              "      <td>False</td>\n",
              "      <td>False</td>\n",
              "      <td>False</td>\n",
              "      <td>False</td>\n",
              "      <td>False</td>\n",
              "      <td>False</td>\n",
              "      <td>False</td>\n",
              "      <td>False</td>\n",
              "      <td>False</td>\n",
              "      <td>Night</td>\n",
              "    </tr>\n",
              "    <tr>\n",
              "      <th>31625</th>\n",
              "      <td>2</td>\n",
              "      <td>New York</td>\n",
              "      <td>NY</td>\n",
              "      <td>10028</td>\n",
              "      <td>R</td>\n",
              "      <td>53.1</td>\n",
              "      <td>NaN</td>\n",
              "      <td>29.81</td>\n",
              "      <td>93.0</td>\n",
              "      <td>2.5</td>\n",
              "      <td>...</td>\n",
              "      <td>False</td>\n",
              "      <td>False</td>\n",
              "      <td>False</td>\n",
              "      <td>False</td>\n",
              "      <td>False</td>\n",
              "      <td>False</td>\n",
              "      <td>False</td>\n",
              "      <td>False</td>\n",
              "      <td>False</td>\n",
              "      <td>Night</td>\n",
              "    </tr>\n",
              "    <tr>\n",
              "      <th>31626</th>\n",
              "      <td>2</td>\n",
              "      <td>Brooklyn</td>\n",
              "      <td>NY</td>\n",
              "      <td>11201</td>\n",
              "      <td>R</td>\n",
              "      <td>53.6</td>\n",
              "      <td>NaN</td>\n",
              "      <td>30.41</td>\n",
              "      <td>100.0</td>\n",
              "      <td>NaN</td>\n",
              "      <td>...</td>\n",
              "      <td>False</td>\n",
              "      <td>False</td>\n",
              "      <td>False</td>\n",
              "      <td>False</td>\n",
              "      <td>False</td>\n",
              "      <td>False</td>\n",
              "      <td>False</td>\n",
              "      <td>True</td>\n",
              "      <td>False</td>\n",
              "      <td>Night</td>\n",
              "    </tr>\n",
              "    <tr>\n",
              "      <th>...</th>\n",
              "      <td>...</td>\n",
              "      <td>...</td>\n",
              "      <td>...</td>\n",
              "      <td>...</td>\n",
              "      <td>...</td>\n",
              "      <td>...</td>\n",
              "      <td>...</td>\n",
              "      <td>...</td>\n",
              "      <td>...</td>\n",
              "      <td>...</td>\n",
              "      <td>...</td>\n",
              "      <td>...</td>\n",
              "      <td>...</td>\n",
              "      <td>...</td>\n",
              "      <td>...</td>\n",
              "      <td>...</td>\n",
              "      <td>...</td>\n",
              "      <td>...</td>\n",
              "      <td>...</td>\n",
              "      <td>...</td>\n",
              "      <td>...</td>\n",
              "    </tr>\n",
              "    <tr>\n",
              "      <th>2844963</th>\n",
              "      <td>2</td>\n",
              "      <td>Elmhurst</td>\n",
              "      <td>NY</td>\n",
              "      <td>11373</td>\n",
              "      <td>R</td>\n",
              "      <td>75.0</td>\n",
              "      <td>75.0</td>\n",
              "      <td>29.97</td>\n",
              "      <td>51.0</td>\n",
              "      <td>10.0</td>\n",
              "      <td>...</td>\n",
              "      <td>False</td>\n",
              "      <td>False</td>\n",
              "      <td>False</td>\n",
              "      <td>False</td>\n",
              "      <td>False</td>\n",
              "      <td>False</td>\n",
              "      <td>False</td>\n",
              "      <td>False</td>\n",
              "      <td>False</td>\n",
              "      <td>Day</td>\n",
              "    </tr>\n",
              "    <tr>\n",
              "      <th>2844967</th>\n",
              "      <td>2</td>\n",
              "      <td>Tuckahoe</td>\n",
              "      <td>NY</td>\n",
              "      <td>10707</td>\n",
              "      <td>R</td>\n",
              "      <td>75.0</td>\n",
              "      <td>75.0</td>\n",
              "      <td>29.53</td>\n",
              "      <td>50.0</td>\n",
              "      <td>10.0</td>\n",
              "      <td>...</td>\n",
              "      <td>False</td>\n",
              "      <td>False</td>\n",
              "      <td>False</td>\n",
              "      <td>False</td>\n",
              "      <td>False</td>\n",
              "      <td>False</td>\n",
              "      <td>False</td>\n",
              "      <td>True</td>\n",
              "      <td>False</td>\n",
              "      <td>Day</td>\n",
              "    </tr>\n",
              "    <tr>\n",
              "      <th>2844968</th>\n",
              "      <td>2</td>\n",
              "      <td>Merrick</td>\n",
              "      <td>NY</td>\n",
              "      <td>11566</td>\n",
              "      <td>R</td>\n",
              "      <td>73.0</td>\n",
              "      <td>73.0</td>\n",
              "      <td>29.83</td>\n",
              "      <td>64.0</td>\n",
              "      <td>10.0</td>\n",
              "      <td>...</td>\n",
              "      <td>False</td>\n",
              "      <td>False</td>\n",
              "      <td>False</td>\n",
              "      <td>True</td>\n",
              "      <td>False</td>\n",
              "      <td>False</td>\n",
              "      <td>False</td>\n",
              "      <td>False</td>\n",
              "      <td>False</td>\n",
              "      <td>Day</td>\n",
              "    </tr>\n",
              "    <tr>\n",
              "      <th>2844974</th>\n",
              "      <td>2</td>\n",
              "      <td>Staten Island</td>\n",
              "      <td>NY</td>\n",
              "      <td>10305</td>\n",
              "      <td>R</td>\n",
              "      <td>75.0</td>\n",
              "      <td>75.0</td>\n",
              "      <td>29.97</td>\n",
              "      <td>57.0</td>\n",
              "      <td>10.0</td>\n",
              "      <td>...</td>\n",
              "      <td>False</td>\n",
              "      <td>False</td>\n",
              "      <td>False</td>\n",
              "      <td>False</td>\n",
              "      <td>False</td>\n",
              "      <td>False</td>\n",
              "      <td>False</td>\n",
              "      <td>False</td>\n",
              "      <td>False</td>\n",
              "      <td>Day</td>\n",
              "    </tr>\n",
              "    <tr>\n",
              "      <th>2844975</th>\n",
              "      <td>2</td>\n",
              "      <td>Forest Hills</td>\n",
              "      <td>NY</td>\n",
              "      <td>11375</td>\n",
              "      <td>R</td>\n",
              "      <td>75.0</td>\n",
              "      <td>75.0</td>\n",
              "      <td>29.96</td>\n",
              "      <td>51.0</td>\n",
              "      <td>10.0</td>\n",
              "      <td>...</td>\n",
              "      <td>False</td>\n",
              "      <td>False</td>\n",
              "      <td>False</td>\n",
              "      <td>False</td>\n",
              "      <td>False</td>\n",
              "      <td>False</td>\n",
              "      <td>False</td>\n",
              "      <td>False</td>\n",
              "      <td>False</td>\n",
              "      <td>Day</td>\n",
              "    </tr>\n",
              "  </tbody>\n",
              "</table>\n",
              "<p>108049 rows × 25 columns</p>\n",
              "</div>\n",
              "      <button class=\"colab-df-convert\" onclick=\"convertToInteractive('df-66bd21b2-1bbd-48dd-99f9-27bc6d2ddc4c')\"\n",
              "              title=\"Convert this dataframe to an interactive table.\"\n",
              "              style=\"display:none;\">\n",
              "        \n",
              "  <svg xmlns=\"http://www.w3.org/2000/svg\" height=\"24px\"viewBox=\"0 0 24 24\"\n",
              "       width=\"24px\">\n",
              "    <path d=\"M0 0h24v24H0V0z\" fill=\"none\"/>\n",
              "    <path d=\"M18.56 5.44l.94 2.06.94-2.06 2.06-.94-2.06-.94-.94-2.06-.94 2.06-2.06.94zm-11 1L8.5 8.5l.94-2.06 2.06-.94-2.06-.94L8.5 2.5l-.94 2.06-2.06.94zm10 10l.94 2.06.94-2.06 2.06-.94-2.06-.94-.94-2.06-.94 2.06-2.06.94z\"/><path d=\"M17.41 7.96l-1.37-1.37c-.4-.4-.92-.59-1.43-.59-.52 0-1.04.2-1.43.59L10.3 9.45l-7.72 7.72c-.78.78-.78 2.05 0 2.83L4 21.41c.39.39.9.59 1.41.59.51 0 1.02-.2 1.41-.59l7.78-7.78 2.81-2.81c.8-.78.8-2.07 0-2.86zM5.41 20L4 18.59l7.72-7.72 1.47 1.35L5.41 20z\"/>\n",
              "  </svg>\n",
              "      </button>\n",
              "      \n",
              "  <style>\n",
              "    .colab-df-container {\n",
              "      display:flex;\n",
              "      flex-wrap:wrap;\n",
              "      gap: 12px;\n",
              "    }\n",
              "\n",
              "    .colab-df-convert {\n",
              "      background-color: #E8F0FE;\n",
              "      border: none;\n",
              "      border-radius: 50%;\n",
              "      cursor: pointer;\n",
              "      display: none;\n",
              "      fill: #1967D2;\n",
              "      height: 32px;\n",
              "      padding: 0 0 0 0;\n",
              "      width: 32px;\n",
              "    }\n",
              "\n",
              "    .colab-df-convert:hover {\n",
              "      background-color: #E2EBFA;\n",
              "      box-shadow: 0px 1px 2px rgba(60, 64, 67, 0.3), 0px 1px 3px 1px rgba(60, 64, 67, 0.15);\n",
              "      fill: #174EA6;\n",
              "    }\n",
              "\n",
              "    [theme=dark] .colab-df-convert {\n",
              "      background-color: #3B4455;\n",
              "      fill: #D2E3FC;\n",
              "    }\n",
              "\n",
              "    [theme=dark] .colab-df-convert:hover {\n",
              "      background-color: #434B5C;\n",
              "      box-shadow: 0px 1px 3px 1px rgba(0, 0, 0, 0.15);\n",
              "      filter: drop-shadow(0px 1px 2px rgba(0, 0, 0, 0.3));\n",
              "      fill: #FFFFFF;\n",
              "    }\n",
              "  </style>\n",
              "\n",
              "      <script>\n",
              "        const buttonEl =\n",
              "          document.querySelector('#df-66bd21b2-1bbd-48dd-99f9-27bc6d2ddc4c button.colab-df-convert');\n",
              "        buttonEl.style.display =\n",
              "          google.colab.kernel.accessAllowed ? 'block' : 'none';\n",
              "\n",
              "        async function convertToInteractive(key) {\n",
              "          const element = document.querySelector('#df-66bd21b2-1bbd-48dd-99f9-27bc6d2ddc4c');\n",
              "          const dataTable =\n",
              "            await google.colab.kernel.invokeFunction('convertToInteractive',\n",
              "                                                     [key], {});\n",
              "          if (!dataTable) return;\n",
              "\n",
              "          const docLinkHtml = 'Like what you see? Visit the ' +\n",
              "            '<a target=\"_blank\" href=https://colab.research.google.com/notebooks/data_table.ipynb>data table notebook</a>'\n",
              "            + ' to learn more about interactive tables.';\n",
              "          element.innerHTML = '';\n",
              "          dataTable['output_type'] = 'display_data';\n",
              "          await google.colab.output.renderOutput(dataTable, element);\n",
              "          const docLink = document.createElement('div');\n",
              "          docLink.innerHTML = docLinkHtml;\n",
              "          element.appendChild(docLink);\n",
              "        }\n",
              "      </script>\n",
              "    </div>\n",
              "  </div>\n",
              "  "
            ],
            "text/plain": [
              "         Severity            City State Zipcode Side  Temperature(F)  \\\n",
              "31580           2        New York    NY   10033    R            53.1   \n",
              "31607           2  Central Valley    NY   10917    R            51.8   \n",
              "31609           2        Syracuse    NY   13210    R            53.1   \n",
              "31625           2        New York    NY   10028    R            53.1   \n",
              "31626           2        Brooklyn    NY   11201    R            53.6   \n",
              "...           ...             ...   ...     ...  ...             ...   \n",
              "2844963         2        Elmhurst    NY   11373    R            75.0   \n",
              "2844967         2        Tuckahoe    NY   10707    R            75.0   \n",
              "2844968         2         Merrick    NY   11566    R            73.0   \n",
              "2844974         2   Staten Island    NY   10305    R            75.0   \n",
              "2844975         2    Forest Hills    NY   11375    R            75.0   \n",
              "\n",
              "         Wind_Chill(F)  Pressure(in)  Humidity(%)  Visibility(mi)  ...  \\\n",
              "31580              NaN         29.80         93.0             2.0  ...   \n",
              "31607              NaN         29.82        100.0             3.0  ...   \n",
              "31609              NaN         29.63         80.0            10.0  ...   \n",
              "31625              NaN         29.81         93.0             2.5  ...   \n",
              "31626              NaN         30.41        100.0             NaN  ...   \n",
              "...                ...           ...          ...             ...  ...   \n",
              "2844963           75.0         29.97         51.0            10.0  ...   \n",
              "2844967           75.0         29.53         50.0            10.0  ...   \n",
              "2844968           73.0         29.83         64.0            10.0  ...   \n",
              "2844974           75.0         29.97         57.0            10.0  ...   \n",
              "2844975           75.0         29.96         51.0            10.0  ...   \n",
              "\n",
              "        Crossing  No_Exit  Roundabout Junction  Railway  Station   Stop  \\\n",
              "31580      False    False       False     True    False    False  False   \n",
              "31607      False    False       False    False    False    False  False   \n",
              "31609      False    False       False    False    False    False  False   \n",
              "31625      False    False       False    False    False    False  False   \n",
              "31626      False    False       False    False    False    False  False   \n",
              "...          ...      ...         ...      ...      ...      ...    ...   \n",
              "2844963    False    False       False    False    False    False  False   \n",
              "2844967    False    False       False    False    False    False  False   \n",
              "2844968    False    False       False     True    False    False  False   \n",
              "2844974    False    False       False    False    False    False  False   \n",
              "2844975    False    False       False    False    False    False  False   \n",
              "\n",
              "         Traffic_Signal  Turning_Loop  Sunrise_Sunset  \n",
              "31580             False         False             Day  \n",
              "31607             False         False           Night  \n",
              "31609             False         False           Night  \n",
              "31625             False         False           Night  \n",
              "31626              True         False           Night  \n",
              "...                 ...           ...             ...  \n",
              "2844963           False         False             Day  \n",
              "2844967            True         False             Day  \n",
              "2844968           False         False             Day  \n",
              "2844974           False         False             Day  \n",
              "2844975           False         False             Day  \n",
              "\n",
              "[108049 rows x 25 columns]"
            ]
          },
          "execution_count": 68,
          "metadata": {},
          "output_type": "execute_result"
        }
      ],
      "source": [
        "new_df[new_df.State == 'NY']"
      ]
    },
    {
      "cell_type": "markdown",
      "metadata": {
        "id": "KkggSgTyBzhi"
      },
      "source": [
        "Th dataset does contain data from the State 'NY' and the city 'New York'. Still New York, being the most populous city of USA, does not appear in the list of top 20 cities with maximum accidents. WHY?"
      ]
    },
    {
      "cell_type": "code",
      "execution_count": null,
      "metadata": {
        "colab": {
          "base_uri": "https://localhost:8080/",
          "height": 513
        },
        "id": "V0B8i_bl97t5",
        "outputId": "11596cd1-b520-418b-9fb4-59d19ebc7f3b"
      },
      "outputs": [
        {
          "data": {
            "image/png": "[encoded data removed]",
            "text/plain": [
              "<Figure size 864x576 with 1 Axes>"
            ]
          },
          "metadata": {},
          "output_type": "display_data"
        }
      ],
      "source": [
        "plt.figure(figsize = (12,8))\n",
        "plt.title('Top 20 Cities by Accidents')\n",
        "plt.xlabel('Number of Accidents')   # I don't know why am i unable to customize the x-axis label here.\n",
        "plt.ylabel('City')\n",
        "sns.barplot(x = cities_by_accidents[0:20] , y = cities_by_accidents[0:20].index);"
      ]
    },
    {
      "cell_type": "markdown",
      "metadata": {
        "id": "1TS8KX9ZRiPs"
      },
      "source": [
        "Let's look at what the distribution of number of accidents looks like."
      ]
    },
    {
      "cell_type": "code",
      "execution_count": null,
      "metadata": {
        "colab": {
          "base_uri": "https://localhost:8080/",
          "height": 334
        },
        "id": "g_zx78hhRh0x",
        "outputId": "4c7682d2-f4e8-420e-cfe0-f041a6db11b7"
      },
      "outputs": [
        {
          "name": "stderr",
          "output_type": "stream",
          "text": [
            "/usr/local/lib/python3.7/dist-packages/seaborn/distributions.py:2619: FutureWarning: `distplot` is a deprecated function and will be removed in a future version. Please adapt your code to use either `displot` (a figure-level function with similar flexibility) or `histplot` (an axes-level function for histograms).\n",
            "  warnings.warn(msg, FutureWarning)\n"
          ]
        },
        {
          "data": {
            "image/png": "[encoded data removed]",
            "text/plain": [
              "<Figure size 432x288 with 1 Axes>"
            ]
          },
          "metadata": {},
          "output_type": "display_data"
        }
      ],
      "source": [
        "sns.distplot(cities_by_accidents);"
      ]
    },
    {
      "cell_type": "markdown",
      "metadata": {
        "id": "He0_YrSfTX6D"
      },
      "source": [
        "The distribution plot above shows that most of the cities in this dataset have less than 2000 accidents.\n",
        "\n",
        "Let's divide the cities into three categories : \n",
        "\n",
        "very_high_accidents_cities, \n",
        "\n",
        "high_accidents_cities and \n",
        "\n",
        "low_accidents_cities and check what their distributions looks like."
      ]
    },
    {
      "cell_type": "code",
      "execution_count": null,
      "metadata": {
        "id": "aoSiJ0Gi97wi"
      },
      "outputs": [],
      "source": [
        "very_high_accidents_cities = cities_by_accidents[cities_by_accidents >= 10000]\n",
        "high_accidents_cities = cities_by_accidents[(cities_by_accidents >= 1000) & (cities_by_accidents < 10000)]\n",
        "low_accidents_cities = cities_by_accidents[cities_by_accidents < 1000]"
      ]
    },
    {
      "cell_type": "code",
      "execution_count": null,
      "metadata": {
        "colab": {
          "base_uri": "https://localhost:8080/"
        },
        "id": "xDbBSAgP97zK",
        "outputId": "9049cca2-db78-42e5-fd6a-972af77bd9a0"
      },
      "outputs": [
        {
          "data": {
            "text/plain": [
              "34"
            ]
          },
          "execution_count": 42,
          "metadata": {},
          "output_type": "execute_result"
        }
      ],
      "source": [
        "len(very_high_accidents_cities)"
      ]
    },
    {
      "cell_type": "markdown",
      "metadata": {
        "id": "NVsDltdMXA31"
      },
      "source": [
        "So, there are just 34 cities out of more than 11000 cities in USA which have had more than 10,000 accidents over the course of 5 years."
      ]
    },
    {
      "cell_type": "code",
      "execution_count": null,
      "metadata": {
        "colab": {
          "base_uri": "https://localhost:8080/",
          "height": 345
        },
        "id": "lQr6O5ruZpx3",
        "outputId": "66c48e55-a93c-4065-c92e-ded68c83c76b"
      },
      "outputs": [
        {
          "name": "stderr",
          "output_type": "stream",
          "text": [
            "/usr/local/lib/python3.7/dist-packages/seaborn/distributions.py:2619: FutureWarning: `distplot` is a deprecated function and will be removed in a future version. Please adapt your code to use either `displot` (a figure-level function with similar flexibility) or `histplot` (an axes-level function for histograms).\n",
            "  warnings.warn(msg, FutureWarning)\n"
          ]
        },
        {
          "data": {
            "image/png": "[encoded data removed]",
            "text/plain": [
              "<Figure size 432x288 with 1 Axes>"
            ]
          },
          "metadata": {},
          "output_type": "display_data"
        }
      ],
      "source": [
        "sns.distplot(very_high_accidents_cities);"
      ]
    },
    {
      "cell_type": "code",
      "execution_count": null,
      "metadata": {
        "colab": {
          "base_uri": "https://localhost:8080/"
        },
        "id": "0Ft-_6EkYQEH",
        "outputId": "f809cba3-a2a8-4c15-b284-38de426b2038"
      },
      "outputs": [
        {
          "data": {
            "text/plain": [
              "462"
            ]
          },
          "execution_count": 44,
          "metadata": {},
          "output_type": "execute_result"
        }
      ],
      "source": [
        "len(high_accidents_cities)"
      ]
    },
    {
      "cell_type": "code",
      "execution_count": null,
      "metadata": {
        "colab": {
          "base_uri": "https://localhost:8080/"
        },
        "id": "DjV2nCzpVBuC",
        "outputId": "50b5f342-5abd-4aa5-f4c5-e7a5d4a1f6f8"
      },
      "outputs": [
        {
          "data": {
            "text/plain": [
              "3.955140826983991"
            ]
          },
          "execution_count": 45,
          "metadata": {},
          "output_type": "execute_result"
        }
      ],
      "source": [
        "len(high_accidents_cities)*100/len(cities_by_accidents)"
      ]
    },
    {
      "cell_type": "markdown",
      "metadata": {
        "id": "KQitSR5FU-Xb"
      },
      "source": [
        "Thus, less than 4% of the cities in USA come under the category of high_accidents_cities and have equal to or more than 1000 accidents."
      ]
    },
    {
      "cell_type": "code",
      "execution_count": null,
      "metadata": {
        "colab": {
          "base_uri": "https://localhost:8080/",
          "height": 334
        },
        "id": "LVVjMoEk974B",
        "outputId": "2f6d81ea-b460-4f85-ccef-0caa715b33a0"
      },
      "outputs": [
        {
          "name": "stderr",
          "output_type": "stream",
          "text": [
            "/usr/local/lib/python3.7/dist-packages/seaborn/distributions.py:2619: FutureWarning: `distplot` is a deprecated function and will be removed in a future version. Please adapt your code to use either `displot` (a figure-level function with similar flexibility) or `histplot` (an axes-level function for histograms).\n",
            "  warnings.warn(msg, FutureWarning)\n"
          ]
        },
        {
          "data": {
            "image/png": "[encoded data removed]",
            "text/plain": [
              "<Figure size 432x288 with 1 Axes>"
            ]
          },
          "metadata": {},
          "output_type": "display_data"
        }
      ],
      "source": [
        "sns.distplot(high_accidents_cities);"
      ]
    },
    {
      "cell_type": "code",
      "execution_count": null,
      "metadata": {
        "colab": {
          "base_uri": "https://localhost:8080/"
        },
        "id": "J4z1IX5m977f",
        "outputId": "034cb661-f117-48fd-a1c5-b43b48fcfce6"
      },
      "outputs": [
        {
          "data": {
            "text/plain": [
              "11185"
            ]
          },
          "execution_count": 46,
          "metadata": {},
          "output_type": "execute_result"
        }
      ],
      "source": [
        "len(low_accidents_cities)"
      ]
    },
    {
      "cell_type": "code",
      "execution_count": null,
      "metadata": {
        "colab": {
          "base_uri": "https://localhost:8080/",
          "height": 334
        },
        "id": "AFXuB9wRZQi1",
        "outputId": "340eef05-a2d1-4493-8e86-677b38ee02fb"
      },
      "outputs": [
        {
          "name": "stderr",
          "output_type": "stream",
          "text": [
            "/usr/local/lib/python3.7/dist-packages/seaborn/distributions.py:2619: FutureWarning: `distplot` is a deprecated function and will be removed in a future version. Please adapt your code to use either `displot` (a figure-level function with similar flexibility) or `histplot` (an axes-level function for histograms).\n",
            "  warnings.warn(msg, FutureWarning)\n"
          ]
        },
        {
          "data": {
            "image/png": "[encoded data removed]",
            "text/plain": [
              "<Figure size 432x288 with 1 Axes>"
            ]
          },
          "metadata": {},
          "output_type": "display_data"
        }
      ],
      "source": [
        "sns.distplot(low_accidents_cities);"
      ]
    },
    {
      "cell_type": "markdown",
      "metadata": {
        "id": "BZkIVJyWblGq"
      },
      "source": [
        "In all these distribution plots above, there is a common pattern. Less and less cities have high number of accidents. In fact, the number of accidents per city seems to decrease exponentially."
      ]
    },
    {
      "cell_type": "markdown",
      "metadata": {
        "id": "RuPYcpWGcQ8R"
      },
      "source": [
        "Let's plot a histogram with log scale ."
      ]
    },
    {
      "cell_type": "code",
      "execution_count": null,
      "metadata": {
        "id": "XNQoAJUDZQlZ"
      },
      "outputs": [],
      "source": [
        "# Usually, we have what is called a Linear scale in plots. It means equal spacing between bins and the scale moves one unit at a time. \n",
        "# Such a scale might not be very helpful when we have data following exponential distribution. Log scale has unequal bins with the scale moving by multiple of 10 at a time.\n",
        "# Log Scale is much more suitable for data following exponential distribution."
      ]
    },
    {
      "cell_type": "code",
      "execution_count": null,
      "metadata": {
        "colab": {
          "base_uri": "https://localhost:8080/",
          "height": 283
        },
        "id": "noX450bsZQoT",
        "outputId": "c8ef7122-1e1a-4c52-d613-52277f161dbc"
      },
      "outputs": [
        {
          "data": {
            "image/png": "[encoded data removed]",
            "text/plain": [
              "<Figure size 432x288 with 1 Axes>"
            ]
          },
          "metadata": {},
          "output_type": "display_data"
        }
      ],
      "source": [
        "plt.xlabel = ('Number of Accidents')\n",
        "plt.ylabel('Number of Cities') # Again, I am unable to customize the x-axis label in this plot.\n",
        "sns.histplot(cities_by_accidents, log_scale = True);"
      ]
    },
    {
      "cell_type": "markdown",
      "metadata": {
        "id": "QBPSMUhXiOjE"
      },
      "source": [
        "Looking at this graph, we can tell that around 1200 cities have reported nearly 0 cases of accidents over the course of past 5 years, which seems unbelievable. Let's dive deeper into this."
      ]
    },
    {
      "cell_type": "code",
      "execution_count": null,
      "metadata": {
        "colab": {
          "base_uri": "https://localhost:8080/"
        },
        "id": "nIAZsy1jZQqn",
        "outputId": "e1d391c6-4d53-4210-f591-00c603dedaef"
      },
      "outputs": [
        {
          "data": {
            "text/plain": [
              "1110"
            ]
          },
          "execution_count": 57,
          "metadata": {},
          "output_type": "execute_result"
        }
      ],
      "source": [
        "len(cities_by_accidents[cities_by_accidents == 1 ])"
      ]
    },
    {
      "cell_type": "code",
      "execution_count": null,
      "metadata": {
        "colab": {
          "base_uri": "https://localhost:8080/"
        },
        "id": "ohidjqdyZQtP",
        "outputId": "c55f2c5e-d6d0-4b7e-f40a-1032199234d9"
      },
      "outputs": [
        {
          "data": {
            "text/plain": [
              "819"
            ]
          },
          "execution_count": 58,
          "metadata": {},
          "output_type": "execute_result"
        }
      ],
      "source": [
        "len(cities_by_accidents[cities_by_accidents == 2 ])"
      ]
    },
    {
      "cell_type": "markdown",
      "metadata": {
        "id": "c3jUNxaqjCRz"
      },
      "source": [
        "Thus, we can say that around 2000 cities have reported just 1 or 2 cases according to this dataset. That's like 10% of the cities. Let's see who these cities are."
      ]
    },
    {
      "cell_type": "code",
      "execution_count": null,
      "metadata": {
        "colab": {
          "base_uri": "https://localhost:8080/"
        },
        "id": "ttkQMiD4ZQwd",
        "outputId": "a4390371-91b2-4d70-f9bf-54c9c3c7d786"
      },
      "outputs": [
        {
          "data": {
            "text/plain": [
              "Sullivans Island                2\n",
              "Brilliant                       2\n",
              "Duson                           2\n",
              "Binford                         2\n",
              "Parrott                         2\n",
              "                               ..\n",
              "Ridgedale                       1\n",
              "Sekiu                           1\n",
              "Wooldridge                      1\n",
              "Bullock                         1\n",
              "American Fork-Pleasant Grove    1\n",
              "Name: City, Length: 1929, dtype: int64"
            ]
          },
          "execution_count": 21,
          "metadata": {},
          "output_type": "execute_result"
        }
      ],
      "source": [
        "zero_accidents_cities = cities_by_accidents[cities_by_accidents <= 2]\n",
        "zero_accidents_cities"
      ]
    },
    {
      "cell_type": "markdown",
      "metadata": {
        "id": "5lXwGxJmYxnm"
      },
      "source": [
        "So, next we'll analyse the column `Start_Time`."
      ]
    },
    {
      "cell_type": "markdown",
      "metadata": {
        "id": "uGde96nOHPaC"
      },
      "source": [
        "### Start Time"
      ]
    },
    {
      "cell_type": "code",
      "execution_count": null,
      "metadata": {
        "colab": {
          "base_uri": "https://localhost:8080/"
        },
        "id": "MbyJnBMfZQ1W",
        "outputId": "7dce7a79-dcb9-4a63-fe23-1866e0661803"
      },
      "outputs": [
        {
          "data": {
            "text/plain": [
              "0"
            ]
          },
          "execution_count": 20,
          "metadata": {},
          "output_type": "execute_result"
        }
      ],
      "source": [
        "new_df.Start_Time.isnull().sum()"
      ]
    },
    {
      "cell_type": "markdown",
      "metadata": {
        "id": "alJSzQlDH3XP"
      },
      "source": [
        "Okay, so we do not have any null values in this column."
      ]
    },
    {
      "cell_type": "code",
      "execution_count": null,
      "metadata": {
        "colab": {
          "base_uri": "https://localhost:8080/",
          "height": 36
        },
        "id": "SGDUMk78ZQ38",
        "outputId": "8bfdce46-77f1-4bd8-b71a-f68e3941f99e"
      },
      "outputs": [
        {
          "data": {
            "application/vnd.google.colaboratory.intrinsic+json": {
              "type": "string"
            },
            "text/plain": [
              "'2016-02-08 00:37:08'"
            ]
          },
          "execution_count": 22,
          "metadata": {},
          "output_type": "execute_result"
        }
      ],
      "source": [
        "new_df.Start_Time[0]"
      ]
    },
    {
      "cell_type": "markdown",
      "metadata": {
        "id": "7mniXpaMILad"
      },
      "source": [
        "The datatype of this column is `object`. Let's convert this into `datetime` to make it more useful."
      ]
    },
    {
      "cell_type": "code",
      "execution_count": null,
      "metadata": {
        "colab": {
          "base_uri": "https://localhost:8080/"
        },
        "id": "OiWUJ1wQZQ6p",
        "outputId": "fae81883-9e64-426d-938a-a5e139c1fa5d"
      },
      "outputs": [
        {
          "name": "stderr",
          "output_type": "stream",
          "text": [
            "/usr/local/lib/python3.7/dist-packages/pandas/core/generic.py:5516: SettingWithCopyWarning: \n",
            "A value is trying to be set on a copy of a slice from a DataFrame.\n",
            "Try using .loc[row_indexer,col_indexer] = value instead\n",
            "\n",
            "See the caveats in the documentation: https://pandas.pydata.org/pandas-docs/stable/user_guide/indexing.html#returning-a-view-versus-a-copy\n",
            "  self[name] = value\n"
          ]
        }
      ],
      "source": [
        "new_df.Start_Time = pd.to_datetime(new_df.Start_Time)"
      ]
    },
    {
      "cell_type": "code",
      "execution_count": null,
      "metadata": {
        "id": "zDdcntTkZQ90"
      },
      "outputs": [],
      "source": [
        "pd.options.mode.chained_assignment = None # how to deal with settingwithcopy warning in pandas, copied this code from stackoverflow"
      ]
    },
    {
      "cell_type": "code",
      "execution_count": null,
      "metadata": {
        "id": "JHS4xGtSZRC4"
      },
      "outputs": [],
      "source": [
        "new_df.Start_Time = pd.to_datetime(new_df.Start_Time)"
      ]
    },
    {
      "cell_type": "code",
      "execution_count": null,
      "metadata": {
        "colab": {
          "base_uri": "https://localhost:8080/"
        },
        "id": "w33yerelZRGg",
        "outputId": "fec32c7f-1322-4ede-d5a6-d9ed30756b3e"
      },
      "outputs": [
        {
          "data": {
            "text/plain": [
              "Timestamp('2016-02-08 00:37:08')"
            ]
          },
          "execution_count": 17,
          "metadata": {},
          "output_type": "execute_result"
        }
      ],
      "source": [
        "new_df.Start_Time[0]"
      ]
    },
    {
      "cell_type": "markdown",
      "metadata": {
        "id": "JrTBw_MhPpJz"
      },
      "source": [
        "Okay, so we have successfully converted this column into Datetime datatype."
      ]
    },
    {
      "cell_type": "code",
      "execution_count": null,
      "metadata": {
        "colab": {
          "base_uri": "https://localhost:8080/"
        },
        "id": "MhCYz788OADp",
        "outputId": "59c5f0b2-0ea0-43aa-996b-a81f34cc94f3"
      },
      "outputs": [
        {
          "data": {
            "text/plain": [
              "0           0\n",
              "1           5\n",
              "2           6\n",
              "3           6\n",
              "4           7\n",
              "           ..\n",
              "2845337    18\n",
              "2845338    19\n",
              "2845339    19\n",
              "2845340    19\n",
              "2845341    18\n",
              "Name: Start_Time, Length: 2845342, dtype: int64"
            ]
          },
          "execution_count": 25,
          "metadata": {},
          "output_type": "execute_result"
        }
      ],
      "source": [
        "new_df.Start_Time.dt.hour"
      ]
    },
    {
      "cell_type": "code",
      "execution_count": null,
      "metadata": {
        "colab": {
          "base_uri": "https://localhost:8080/",
          "height": 280
        },
        "id": "E-1vAEerOAOZ",
        "outputId": "955d7c2b-3e7b-40cd-c49b-551c21c08bd0"
      },
      "outputs": [
        {
          "data": {
            "image/png": "[encoded data removed]",
            "text/plain": [
              "<Figure size 432x288 with 1 Axes>"
            ]
          },
          "metadata": {},
          "output_type": "display_data"
        }
      ],
      "source": [
        "sns.set_style('darkgrid')\n",
        "sns.distplot(new_df.Start_Time.dt.hour, bins = 24 , kde = False , norm_hist = True);  # bins = 24 because there are 24 hours in a day\n",
        "                                                                                      # norm_hist = True shows the percentages on the y-axis instead of count"
      ]
    },
    {
      "cell_type": "markdown",
      "metadata": {
        "id": "wKZPvx2bqYB0"
      },
      "source": [
        "We can see in the plot above, a high percentage of accidents occur between 3 PM and 7 PM, probably because people are coming back from work and traffic is high.\n",
        "\n",
        "The next high percentage occurs between 8 AM and 9 AM, probably because people are in a hurry to get to work."
      ]
    },
    {
      "cell_type": "code",
      "execution_count": null,
      "metadata": {
        "colab": {
          "base_uri": "https://localhost:8080/"
        },
        "id": "NSHjjzdlOARD",
        "outputId": "51a188dc-109d-42c5-f9d3-a89f2f61d9bd"
      },
      "outputs": [
        {
          "data": {
            "text/plain": [
              "0          0\n",
              "1          0\n",
              "2          0\n",
              "3          0\n",
              "4          0\n",
              "          ..\n",
              "2845337    4\n",
              "2845338    4\n",
              "2845339    4\n",
              "2845340    4\n",
              "2845341    4\n",
              "Name: Start_Time, Length: 2845342, dtype: int64"
            ]
          },
          "execution_count": 30,
          "metadata": {},
          "output_type": "execute_result"
        }
      ],
      "source": [
        "new_df.Start_Time.dt.dayofweek   # It is assumed that the week starts on Monday which is denoted by 0 and ends on Sunday which is denoted by 6."
      ]
    },
    {
      "cell_type": "code",
      "execution_count": null,
      "metadata": {
        "colab": {
          "base_uri": "https://localhost:8080/",
          "height": 280
        },
        "id": "urzPtd36OAT4",
        "outputId": "31145ea3-a77e-4b61-92ce-3ec6fc3096f6"
      },
      "outputs": [
        {
          "data": {
            "image/png": "[encoded data removed]",
            "text/plain": [
              "<Figure size 432x288 with 1 Axes>"
            ]
          },
          "metadata": {},
          "output_type": "display_data"
        }
      ],
      "source": [
        "sns.distplot(new_df.Start_Time.dt.dayofweek, bins = 7 , kde = False , norm_hist = True); # 7 bins for 7 days of the week"
      ]
    },
    {
      "cell_type": "markdown",
      "metadata": {
        "id": "92y733-mxZgH"
      },
      "source": [
        "Weekdays seem to account for a higher percentage of accidents compared to weekends, which makes sense because people have to go to work during weekdays leading to more traffic. And people are usually at home during weekends resulting in less traffic on roads."
      ]
    },
    {
      "cell_type": "code",
      "execution_count": null,
      "metadata": {
        "colab": {
          "base_uri": "https://localhost:8080/",
          "height": 280
        },
        "id": "p1Zbus3ROAWa",
        "outputId": "898f48ab-c44d-4955-f472-485cc84654ac"
      },
      "outputs": [
        {
          "data": {
            "image/png": "[encoded data removed]",
            "text/plain": [
              "<Figure size 432x288 with 1 Axes>"
            ]
          },
          "metadata": {},
          "output_type": "display_data"
        }
      ],
      "source": [
        "sundays_start_time = new_df.Start_Time[new_df.Start_Time.dt.dayofweek == 6]\n",
        "sns.distplot(sundays_start_time.dt.hour, bins = 24 , kde = False , norm_hist = True);  # bins = 24 because there are 24 hours in a day"
      ]
    },
    {
      "cell_type": "markdown",
      "metadata": {
        "id": "EdG0Apxc2rD_"
      },
      "source": [
        "On Sundays, the peak occurs between 12 PM and 9 PM."
      ]
    },
    {
      "cell_type": "code",
      "execution_count": null,
      "metadata": {
        "colab": {
          "base_uri": "https://localhost:8080/",
          "height": 280
        },
        "id": "QqmNIa7y3f17",
        "outputId": "14920d62-b1e5-4982-bd71-c2fc127846b8"
      },
      "outputs": [
        {
          "data": {
            "image/png": "[encoded data removed]",
            "text/plain": [
              "<Figure size 432x288 with 1 Axes>"
            ]
          },
          "metadata": {},
          "output_type": "display_data"
        }
      ],
      "source": [
        "saturdays_start_time = new_df.Start_Time[new_df.Start_Time.dt.dayofweek == 5]\n",
        "sns.distplot(saturdays_start_time.dt.hour, bins = 24 , kde = False , norm_hist = True);  # bins = 24 because there are 24 hours in a day"
      ]
    },
    {
      "cell_type": "markdown",
      "metadata": {
        "id": "2kSDOv5u3xr1"
      },
      "source": [
        "On Saturdays, the peak occurs between 1 PM and 7 PM."
      ]
    },
    {
      "cell_type": "code",
      "execution_count": null,
      "metadata": {
        "colab": {
          "base_uri": "https://localhost:8080/",
          "height": 280
        },
        "id": "bULA5Z9GOAbF",
        "outputId": "1774ffb9-dd8f-4dff-ebae-a04c3f2616f7"
      },
      "outputs": [
        {
          "data": {
            "image/png": "[encoded data removed]",
            "text/plain": [
              "<Figure size 432x288 with 1 Axes>"
            ]
          },
          "metadata": {},
          "output_type": "display_data"
        }
      ],
      "source": [
        "mondays_start_time = new_df.Start_Time[new_df.Start_Time.dt.dayofweek == 0]\n",
        "sns.distplot(mondays_start_time.dt.hour, bins = 24 , kde = False , norm_hist = True);  # bins = 24 because there are 24 hours in a day"
      ]
    },
    {
      "cell_type": "markdown",
      "metadata": {
        "id": "UsR7pJOD26aM"
      },
      "source": [
        "On Mondays, the peak occurs during 3 PM and 6 PM.\n"
      ]
    },
    {
      "cell_type": "markdown",
      "metadata": {
        "id": "TRRk6fg04FZ0"
      },
      "source": [
        "The trend of accidents by hour follows the same pattern on Mondays as on all days of the week combined. However, on weekends, the distribution is more spread out."
      ]
    },
    {
      "cell_type": "code",
      "execution_count": null,
      "metadata": {
        "id": "6IUL-0345IMz"
      },
      "outputs": [],
      "source": [
        "# The systems that we humans have created mess with the general statistics.\n",
        "# The trend follows Normal/Gaussian Curve on Weekends , but on Weekdays, it's a 2 peak normal curve which arises due to office arrival and departure timings set by humans."
      ]
    },
    {
      "cell_type": "markdown",
      "metadata": {
        "id": "WEyBWpWjWRB2"
      },
      "source": [
        "Let's look at month_wise distribution of accidents over the 6 years."
      ]
    },
    {
      "cell_type": "code",
      "execution_count": null,
      "metadata": {
        "colab": {
          "base_uri": "https://localhost:8080/",
          "height": 280
        },
        "id": "PyNQBrne89ol",
        "outputId": "5e1cb824-0763-4a08-a2f1-74f1f467155d"
      },
      "outputs": [
        {
          "data": {
            "image/png": "[encoded data removed]",
            "text/plain": [
              "<Figure size 432x288 with 1 Axes>"
            ]
          },
          "metadata": {},
          "output_type": "display_data"
        }
      ],
      "source": [
        "sns.distplot(new_df.Start_Time.dt.month , bins = 12, kde = False , norm_hist = True); # 12 bins for 12 months in a year"
      ]
    },
    {
      "cell_type": "markdown",
      "metadata": {
        "id": "A_jxJtwg5HeM"
      },
      "source": [
        "This dataset does not contain data for January 2016. So, the bar should actually be a bit higher for January. The plot above shows that number of accidents is pretty lower during summers and it starts to pick up from October and reaches its maximum around December. This seems to be the general trend."
      ]
    },
    {
      "cell_type": "markdown",
      "metadata": {
        "id": "eOohnI68WwFq"
      },
      "source": [
        "Let's not take this at face value. We'll look at the monthly trend for each year to find out if such a general trend exists."
      ]
    },
    {
      "cell_type": "markdown",
      "metadata": {
        "id": "KMReVoCkXR31"
      },
      "source": [
        "For 2021"
      ]
    },
    {
      "cell_type": "code",
      "execution_count": null,
      "metadata": {
        "colab": {
          "base_uri": "https://localhost:8080/",
          "height": 283
        },
        "id": "JEa-PPIgOAdh",
        "outputId": "3df2423a-60cb-418f-f75c-69a785eb4cd6"
      },
      "outputs": [
        {
          "data": {
            "image/png": "[encoded data removed]",
            "text/plain": [
              "<Figure size 432x288 with 1 Axes>"
            ]
          },
          "metadata": {},
          "output_type": "display_data"
        }
      ],
      "source": [
        "sns.distplot(new_df.Start_Time.dt.month[new_df.Start_Time.dt.year == 2021] , bins = 12 , kde = False , norm_hist = True);"
      ]
    },
    {
      "cell_type": "markdown",
      "metadata": {
        "id": "L6U22XmLD8xc"
      },
      "source": [
        "Okay, so here the trend for 2021 is the same as the overall trend."
      ]
    },
    {
      "cell_type": "markdown",
      "metadata": {
        "id": "pwhlnZoWXf-E"
      },
      "source": [
        "For 2020"
      ]
    },
    {
      "cell_type": "code",
      "execution_count": null,
      "metadata": {
        "colab": {
          "base_uri": "https://localhost:8080/",
          "height": 280
        },
        "id": "1uHKTb2iOAhQ",
        "outputId": "12a4efb7-1471-41a5-dc48-747818f8e04a"
      },
      "outputs": [
        {
          "data": {
            "image/png": "[encoded data removed]",
            "text/plain": [
              "<Figure size 432x288 with 1 Axes>"
            ]
          },
          "metadata": {},
          "output_type": "display_data"
        }
      ],
      "source": [
        "sns.distplot(new_df.Start_Time.dt.month[new_df.Start_Time.dt.year == 2020] , bins = 12 , kde = False , norm_hist = True);"
      ]
    },
    {
      "cell_type": "markdown",
      "metadata": {
        "id": "FCBOJzlIBdmM"
      },
      "source": [
        "Okay, so we do not have data for July and August of the year 2020, probably because of the Covid Lockdown. For the year 2020, we see a similar trend as above with the winter months accounting for the maximum number of accidents."
      ]
    },
    {
      "cell_type": "markdown",
      "metadata": {
        "id": "8VxEIGy7XpZ7"
      },
      "source": [
        "For 2019"
      ]
    },
    {
      "cell_type": "code",
      "execution_count": null,
      "metadata": {
        "colab": {
          "base_uri": "https://localhost:8080/",
          "height": 280
        },
        "id": "QWiUdEjaDF68",
        "outputId": "a3ee1c3b-f7c9-4853-a85f-6376609b2385"
      },
      "outputs": [
        {
          "data": {
            "image/png": "[encoded data removed]",
            "text/plain": [
              "<Figure size 432x288 with 1 Axes>"
            ]
          },
          "metadata": {},
          "output_type": "display_data"
        }
      ],
      "source": [
        "sns.distplot(new_df.Start_Time.dt.month[new_df.Start_Time.dt.year == 2019] , bins = 12 , kde = False , norm_hist = True);"
      ]
    },
    {
      "cell_type": "markdown",
      "metadata": {
        "id": "uCGqMceHEIuX"
      },
      "source": [
        "So in the year 2019 also, December has the maximum number of accidents and summer months are pretty low on this. However, September and October have unusually high number of accidents during this year."
      ]
    },
    {
      "cell_type": "markdown",
      "metadata": {
        "id": "YTPBbJHBXtIS"
      },
      "source": [
        "For 2018"
      ]
    },
    {
      "cell_type": "code",
      "execution_count": null,
      "metadata": {
        "colab": {
          "base_uri": "https://localhost:8080/",
          "height": 280
        },
        "id": "VQwnISIqDGHI",
        "outputId": "a76eef75-fd62-48ef-9506-259d9825fe4a"
      },
      "outputs": [
        {
          "data": {
            "image/png": "[encoded data removed]",
            "text/plain": [
              "<Figure size 432x288 with 1 Axes>"
            ]
          },
          "metadata": {},
          "output_type": "display_data"
        }
      ],
      "source": [
        "sns.distplot(new_df.Start_Time.dt.month[new_df.Start_Time.dt.year == 2018] , bins = 12 , kde = False , norm_hist = True);"
      ]
    },
    {
      "cell_type": "markdown",
      "metadata": {
        "id": "uWlBSLaoFHSi"
      },
      "source": [
        "The distribution seems much more balanced over the 12 months here.\n",
        "Here again, a similar trend. However, January and February have unusually high number of accidents in this year. "
      ]
    },
    {
      "cell_type": "markdown",
      "metadata": {
        "id": "6Zi-WSmuX0wF"
      },
      "source": [
        "For 2017"
      ]
    },
    {
      "cell_type": "code",
      "execution_count": null,
      "metadata": {
        "colab": {
          "base_uri": "https://localhost:8080/",
          "height": 280
        },
        "id": "kVW189MaDGJs",
        "outputId": "2bd883d7-a807-4865-f33b-7178c311c1d5"
      },
      "outputs": [
        {
          "data": {
            "image/png": "[encoded data removed]",
            "text/plain": [
              "<Figure size 432x288 with 1 Axes>"
            ]
          },
          "metadata": {},
          "output_type": "display_data"
        }
      ],
      "source": [
        "sns.distplot(new_df.Start_Time.dt.month[new_df.Start_Time.dt.year == 2017] , bins = 12 , kde = False , norm_hist = True);"
      ]
    },
    {
      "cell_type": "markdown",
      "metadata": {
        "id": "ntmtjr8RFk-g"
      },
      "source": [
        "Here also, we have a balanced distribution. However, we get to see a contrasting scenario with the summer months accounting for the majority of accidents and the number going down around December. January also has unusually high percentage of accidents here."
      ]
    },
    {
      "cell_type": "markdown",
      "metadata": {
        "id": "og70MRa4X28L"
      },
      "source": [
        "For 2016"
      ]
    },
    {
      "cell_type": "code",
      "execution_count": null,
      "metadata": {
        "colab": {
          "base_uri": "https://localhost:8080/",
          "height": 280
        },
        "id": "voTwtAz8DGMX",
        "outputId": "fc53d8e8-1f50-4601-a8f9-2fdb5b82c112"
      },
      "outputs": [
        {
          "data": {
            "image/png": "[encoded data removed]",
            "text/plain": [
              "<Figure size 432x288 with 1 Axes>"
            ]
          },
          "metadata": {},
          "output_type": "display_data"
        }
      ],
      "source": [
        "sns.distplot(new_df.Start_Time.dt.month[new_df.Start_Time.dt.year == 2016] , bins = 12 , kde = False , norm_hist = True);"
      ]
    },
    {
      "cell_type": "markdown",
      "metadata": {
        "id": "b3sor3pmJhuy"
      },
      "source": [
        "So, here the trend is different from 2017 for the starting months of the year. Maybe because the system was just setup during this time and we do not have all the data for these months. But, again the distribution seems balanced here as well."
      ]
    },
    {
      "cell_type": "markdown",
      "metadata": {
        "id": "mEVkUddTLH8p"
      },
      "source": [
        "`Month-Wise Analysis on an year-on-year basis`: The distribution is quite balanced over the months for the years 2016,2017 and 2018. However, for the years 2019, 2020 and 2021 , the summer months account for lower number of accidents. The pace picks up from September-October and peaks around December."
      ]
    },
    {
      "cell_type": "markdown",
      "metadata": {
        "id": "HFMDEIhgk_jo"
      },
      "source": [
        "Let's look at the overall trend of accidents over the course of 6 years , from 2016 to 2021."
      ]
    },
    {
      "cell_type": "code",
      "execution_count": null,
      "metadata": {
        "colab": {
          "base_uri": "https://localhost:8080/"
        },
        "id": "ieqLWc_KmCo_",
        "outputId": "b6fd002f-99af-4f7b-92b4-989dac40760d"
      },
      "outputs": [
        {
          "data": {
            "text/plain": [
              "2021    1511745\n",
              "2020     625864\n",
              "2019     258615\n",
              "2017     163918\n",
              "2018     163176\n",
              "2016     122024\n",
              "Name: Start_Time, dtype: int64"
            ]
          },
          "execution_count": 51,
          "metadata": {},
          "output_type": "execute_result"
        }
      ],
      "source": [
        "number_of_accidents_per_year = new_df.Start_Time.dt.year.value_counts()\n",
        "number_of_accidents_per_year"
      ]
    },
    {
      "cell_type": "code",
      "execution_count": null,
      "metadata": {
        "colab": {
          "base_uri": "https://localhost:8080/",
          "height": 295
        },
        "id": "y-Hps7ZpmCsb",
        "outputId": "ba9c95e2-ca4c-4072-9f78-55989c65d795"
      },
      "outputs": [
        {
          "data": {
            "image/png": "[encoded data removed]",
            "text/plain": [
              "<Figure size 432x288 with 1 Axes>"
            ]
          },
          "metadata": {
            "needs_background": "light"
          },
          "output_type": "display_data"
        }
      ],
      "source": [
        "plt.title('Year-wise Trend of Accidents')\n",
        "plt.xlabel('Year')\n",
        "plt.ylabel('Count of Accidents')\n",
        "plt.plot(number_of_accidents_per_year);"
      ]
    },
    {
      "cell_type": "markdown",
      "metadata": {
        "id": "j8f8T39spCJB"
      },
      "source": [
        "Unfortunately, the number of car accidents has increased over the years in USA. The count for the years 2016, 2017 and 2018 is pretty low compared to recent years partly because the system was still in the process of being set up, as we had noticed during month-wise analysis. But, overall we can see the numbers increasing only."
      ]
    },
    {
      "cell_type": "markdown",
      "metadata": {
        "id": "XOYui-13ZZHa"
      },
      "source": [
        "Next, we'll analyse the columns `Start_Lat` and `Start_Lng` together."
      ]
    },
    {
      "cell_type": "markdown",
      "metadata": {
        "id": "mfSaqHMIFR3a"
      },
      "source": [
        "### Start Latitude and Start Longitude"
      ]
    },
    {
      "cell_type": "code",
      "execution_count": null,
      "metadata": {
        "colab": {
          "base_uri": "https://localhost:8080/"
        },
        "id": "XTYFRBphDGO5",
        "outputId": "4596e448-b088-49c6-ab78-ad934d1058e1"
      },
      "outputs": [
        {
          "data": {
            "text/plain": [
              "0          40.108910\n",
              "1          39.865420\n",
              "2          39.102660\n",
              "3          41.062130\n",
              "4          39.172393\n",
              "             ...    \n",
              "2845337    34.002480\n",
              "2845338    32.766960\n",
              "2845339    33.775450\n",
              "2845340    33.992460\n",
              "2845341    34.133930\n",
              "Name: Start_Lat, Length: 2845342, dtype: float64"
            ]
          },
          "execution_count": 18,
          "metadata": {},
          "output_type": "execute_result"
        }
      ],
      "source": [
        "new_df.Start_Lat"
      ]
    },
    {
      "cell_type": "code",
      "execution_count": null,
      "metadata": {
        "colab": {
          "base_uri": "https://localhost:8080/"
        },
        "id": "Ibiw92v7DGRj",
        "outputId": "607e2f96-0eeb-438d-a0fd-12758cc856b7"
      },
      "outputs": [
        {
          "data": {
            "text/plain": [
              "0          -83.092860\n",
              "1          -84.062800\n",
              "2          -84.524680\n",
              "3          -81.537840\n",
              "4          -84.492792\n",
              "              ...    \n",
              "2845337   -117.379360\n",
              "2845338   -117.148060\n",
              "2845339   -117.847790\n",
              "2845340   -118.403020\n",
              "2845341   -117.230920\n",
              "Name: Start_Lng, Length: 2845342, dtype: float64"
            ]
          },
          "execution_count": 19,
          "metadata": {},
          "output_type": "execute_result"
        }
      ],
      "source": [
        "new_df.Start_Lng"
      ]
    },
    {
      "cell_type": "markdown",
      "metadata": {
        "id": "tPwViTXKGBNh"
      },
      "source": [
        "Let's look at a scatter plot showing the points of latitude and longitude."
      ]
    },
    {
      "cell_type": "code",
      "execution_count": null,
      "metadata": {
        "colab": {
          "base_uri": "https://localhost:8080/",
          "height": 282
        },
        "id": "AU3oGUsBDGUO",
        "outputId": "e4f108ef-21b4-4699-8d26-e5291dc785c5"
      },
      "outputs": [
        {
          "data": {
            "image/png": "[encoded data removed]",
            "text/plain": [
              "<Figure size 432x288 with 1 Axes>"
            ]
          },
          "metadata": {},
          "output_type": "display_data"
        }
      ],
      "source": [
        "sns.scatterplot(x=new_df.Start_Lng,y=new_df.Start_Lat); #Why did we take Latitude on y-axis and Longitude on x-axis?"
      ]
    },
    {
      "cell_type": "markdown",
      "metadata": {
        "id": "NQ8ITrX7I4ud"
      },
      "source": [
        "Let's reduce the size of points here."
      ]
    },
    {
      "cell_type": "code",
      "execution_count": null,
      "metadata": {
        "colab": {
          "background_save": true,
          "base_uri": "https://localhost:8080/",
          "height": 282
        },
        "id": "5FRIsYzBDGWK",
        "outputId": "6a210ca4-ac2f-4420-c5fa-ef199d23fa86"
      },
      "outputs": [
        {
          "data": {
            "image/png": "[encoded data removed]",
            "text/plain": [
              "<Figure size 432x288 with 1 Axes>"
            ]
          },
          "metadata": {},
          "output_type": "display_data"
        }
      ],
      "source": [
        "sns.scatterplot(x=new_df.Start_Lng,y=new_df.Start_Lat,size = .001);"
      ]
    },
    {
      "cell_type": "markdown",
      "metadata": {
        "id": "FuRe0PFqKV3v"
      },
      "source": [
        "Let's try to put these points on a map."
      ]
    },
    {
      "cell_type": "code",
      "execution_count": null,
      "metadata": {
        "colab": {
          "background_save": true
        },
        "id": "eyTXciQsDGZX"
      },
      "outputs": [],
      "source": [
        "import folium;"
      ]
    },
    {
      "cell_type": "code",
      "execution_count": null,
      "metadata": {
        "colab": {
          "background_save": true,
          "base_uri": "https://localhost:8080/",
          "height": 866
        },
        "id": "lWJMIOV4KiCS",
        "outputId": "0fbe7a73-f33c-418b-d262-ed75068d4b97"
      },
      "outputs": [
        {
          "data": {
            "text/html": [
              "<div style=\"width:100%;\"><div style=\"position:relative;width:100%;height:0;padding-bottom:60%;\"><span style=\"color:#565656\">Make this Notebook Trusted to load map: File -> Trust Notebook</span><iframe srcdoc=\"&lt;!DOCTYPE html&gt;\n",
              "&lt;head&gt;    \n",
              "    &lt;meta http-equiv=&quot;content-type&quot; content=&quot;text/html; charset=UTF-8&quot; /&gt;\n",
              "    \n",
              "        &lt;script&gt;\n",
              "            L_NO_TOUCH = false;\n",
              "            L_DISABLE_3D = false;\n",
              "        &lt;/script&gt;\n",
              "    \n",
              "    &lt;style&gt;html, body {width: 100%;height: 100%;margin: 0;padding: 0;}&lt;/style&gt;\n",
              "    &lt;style&gt;#map {position:absolute;top:0;bottom:0;right:0;left:0;}&lt;/style&gt;\n",
              "    &lt;script src=&quot;https://cdn.jsdelivr.net/npm/leaflet@1.6.0/dist/leaflet.js&quot;&gt;&lt;/script&gt;\n",
              "    &lt;script src=&quot;https://code.jquery.com/jquery-1.12.4.min.js&quot;&gt;&lt;/script&gt;\n",
              "    &lt;script src=&quot;https://maxcdn.bootstrapcdn.com/bootstrap/3.2.0/js/bootstrap.min.js&quot;&gt;&lt;/script&gt;\n",
              "    &lt;script src=&quot;https://cdnjs.cloudflare.com/ajax/libs/Leaflet.awesome-markers/2.0.2/leaflet.awesome-markers.js&quot;&gt;&lt;/script&gt;\n",
              "    &lt;link rel=&quot;stylesheet&quot; href=&quot;https://cdn.jsdelivr.net/npm/leaflet@1.6.0/dist/leaflet.css&quot;/&gt;\n",
              "    &lt;link rel=&quot;stylesheet&quot; href=&quot;https://maxcdn.bootstrapcdn.com/bootstrap/3.2.0/css/bootstrap.min.css&quot;/&gt;\n",
              "    &lt;link rel=&quot;stylesheet&quot; href=&quot;https://maxcdn.bootstrapcdn.com/bootstrap/3.2.0/css/bootstrap-theme.min.css&quot;/&gt;\n",
              "    &lt;link rel=&quot;stylesheet&quot; href=&quot;https://maxcdn.bootstrapcdn.com/font-awesome/4.6.3/css/font-awesome.min.css&quot;/&gt;\n",
              "    &lt;link rel=&quot;stylesheet&quot; href=&quot;https://cdnjs.cloudflare.com/ajax/libs/Leaflet.awesome-markers/2.0.2/leaflet.awesome-markers.css&quot;/&gt;\n",
              "    &lt;link rel=&quot;stylesheet&quot; href=&quot;https://cdn.jsdelivr.net/gh/python-visualization/folium/folium/templates/leaflet.awesome.rotate.min.css&quot;/&gt;\n",
              "    \n",
              "            &lt;meta name=&quot;viewport&quot; content=&quot;width=device-width,\n",
              "                initial-scale=1.0, maximum-scale=1.0, user-scalable=no&quot; /&gt;\n",
              "            &lt;style&gt;\n",
              "                #map_dbc42490e67c4f6828095d59603a9975 {\n",
              "                    position: relative;\n",
              "                    width: 100.0%;\n",
              "                    height: 100.0%;\n",
              "                    left: 0.0%;\n",
              "                    top: 0.0%;\n",
              "                }\n",
              "            &lt;/style&gt;\n",
              "        \n",
              "&lt;/head&gt;\n",
              "&lt;body&gt;    \n",
              "    \n",
              "            &lt;div class=&quot;folium-map&quot; id=&quot;map_dbc42490e67c4f6828095d59603a9975&quot; &gt;&lt;/div&gt;\n",
              "        \n",
              "&lt;/body&gt;\n",
              "&lt;script&gt;    \n",
              "    \n",
              "            var map_dbc42490e67c4f6828095d59603a9975 = L.map(\n",
              "                &quot;map_dbc42490e67c4f6828095d59603a9975&quot;,\n",
              "                {\n",
              "                    center: [0, 0],\n",
              "                    crs: L.CRS.EPSG3857,\n",
              "                    zoom: 1,\n",
              "                    zoomControl: true,\n",
              "                    preferCanvas: false,\n",
              "                }\n",
              "            );\n",
              "\n",
              "            \n",
              "\n",
              "        \n",
              "    \n",
              "            var tile_layer_48caed3323b71703ba85bdfd26c88f25 = L.tileLayer(\n",
              "                &quot;https://{s}.tile.openstreetmap.org/{z}/{x}/{y}.png&quot;,\n",
              "                {&quot;attribution&quot;: &quot;Data by \\u0026copy; \\u003ca href=\\&quot;http://openstreetmap.org\\&quot;\\u003eOpenStreetMap\\u003c/a\\u003e, under \\u003ca href=\\&quot;http://www.openstreetmap.org/copyright\\&quot;\\u003eODbL\\u003c/a\\u003e.&quot;, &quot;detectRetina&quot;: false, &quot;maxNativeZoom&quot;: 18, &quot;maxZoom&quot;: 18, &quot;minZoom&quot;: 0, &quot;noWrap&quot;: false, &quot;opacity&quot;: 1, &quot;subdomains&quot;: &quot;abc&quot;, &quot;tms&quot;: false}\n",
              "            ).addTo(map_dbc42490e67c4f6828095d59603a9975);\n",
              "        \n",
              "&lt;/script&gt;\" style=\"position:absolute;width:100%;height:100%;left:0;top:0;border:none !important;\" allowfullscreen webkitallowfullscreen mozallowfullscreen></iframe></div></div>"
            ],
            "text/plain": [
              "<folium.folium.Map at 0x7f8d7cc3d790>"
            ]
          },
          "execution_count": 29,
          "metadata": {},
          "output_type": "execute_result"
        }
      ],
      "source": [
        "folium.Map()"
      ]
    },
    {
      "cell_type": "code",
      "execution_count": null,
      "metadata": {
        "colab": {
          "background_save": true,
          "base_uri": "https://localhost:8080/"
        },
        "id": "49SiAD1KKiMm",
        "outputId": "c869ebae-862d-4dbf-b4bd-9d3a68df657b"
      },
      "outputs": [
        {
          "data": {
            "text/plain": [
              "(40.10891, -83.09286)"
            ]
          },
          "execution_count": 30,
          "metadata": {},
          "output_type": "execute_result"
        }
      ],
      "source": [
        "lat, lng = new_df.Start_Lat[0], new_df.Start_Lng[0]\n",
        "lat,lng"
      ]
    },
    {
      "cell_type": "code",
      "execution_count": null,
      "metadata": {
        "colab": {
          "background_save": true,
          "base_uri": "https://localhost:8080/",
          "height": 866
        },
        "id": "KiwaV1HAKiPa",
        "outputId": "01c38a54-2cb6-495f-b2f6-42ddda333d8e"
      },
      "outputs": [
        {
          "data": {
            "text/html": [
              "<div style=\"width:100%;\"><div style=\"position:relative;width:100%;height:0;padding-bottom:60%;\"><span style=\"color:#565656\">Make this Notebook Trusted to load map: File -> Trust Notebook</span><iframe srcdoc=\"&lt;!DOCTYPE html&gt;\n",
              "&lt;head&gt;    \n",
              "    &lt;meta http-equiv=&quot;content-type&quot; content=&quot;text/html; charset=UTF-8&quot; /&gt;\n",
              "    \n",
              "        &lt;script&gt;\n",
              "            L_NO_TOUCH = false;\n",
              "            L_DISABLE_3D = false;\n",
              "        &lt;/script&gt;\n",
              "    \n",
              "    &lt;style&gt;html, body {width: 100%;height: 100%;margin: 0;padding: 0;}&lt;/style&gt;\n",
              "    &lt;style&gt;#map {position:absolute;top:0;bottom:0;right:0;left:0;}&lt;/style&gt;\n",
              "    &lt;script src=&quot;https://cdn.jsdelivr.net/npm/leaflet@1.6.0/dist/leaflet.js&quot;&gt;&lt;/script&gt;\n",
              "    &lt;script src=&quot;https://code.jquery.com/jquery-1.12.4.min.js&quot;&gt;&lt;/script&gt;\n",
              "    &lt;script src=&quot;https://maxcdn.bootstrapcdn.com/bootstrap/3.2.0/js/bootstrap.min.js&quot;&gt;&lt;/script&gt;\n",
              "    &lt;script src=&quot;https://cdnjs.cloudflare.com/ajax/libs/Leaflet.awesome-markers/2.0.2/leaflet.awesome-markers.js&quot;&gt;&lt;/script&gt;\n",
              "    &lt;link rel=&quot;stylesheet&quot; href=&quot;https://cdn.jsdelivr.net/npm/leaflet@1.6.0/dist/leaflet.css&quot;/&gt;\n",
              "    &lt;link rel=&quot;stylesheet&quot; href=&quot;https://maxcdn.bootstrapcdn.com/bootstrap/3.2.0/css/bootstrap.min.css&quot;/&gt;\n",
              "    &lt;link rel=&quot;stylesheet&quot; href=&quot;https://maxcdn.bootstrapcdn.com/bootstrap/3.2.0/css/bootstrap-theme.min.css&quot;/&gt;\n",
              "    &lt;link rel=&quot;stylesheet&quot; href=&quot;https://maxcdn.bootstrapcdn.com/font-awesome/4.6.3/css/font-awesome.min.css&quot;/&gt;\n",
              "    &lt;link rel=&quot;stylesheet&quot; href=&quot;https://cdnjs.cloudflare.com/ajax/libs/Leaflet.awesome-markers/2.0.2/leaflet.awesome-markers.css&quot;/&gt;\n",
              "    &lt;link rel=&quot;stylesheet&quot; href=&quot;https://cdn.jsdelivr.net/gh/python-visualization/folium/folium/templates/leaflet.awesome.rotate.min.css&quot;/&gt;\n",
              "    \n",
              "            &lt;meta name=&quot;viewport&quot; content=&quot;width=device-width,\n",
              "                initial-scale=1.0, maximum-scale=1.0, user-scalable=no&quot; /&gt;\n",
              "            &lt;style&gt;\n",
              "                #map_0061e502be8e9a8fd460193dedf364e7 {\n",
              "                    position: relative;\n",
              "                    width: 100.0%;\n",
              "                    height: 100.0%;\n",
              "                    left: 0.0%;\n",
              "                    top: 0.0%;\n",
              "                }\n",
              "            &lt;/style&gt;\n",
              "        \n",
              "&lt;/head&gt;\n",
              "&lt;body&gt;    \n",
              "    \n",
              "            &lt;div class=&quot;folium-map&quot; id=&quot;map_0061e502be8e9a8fd460193dedf364e7&quot; &gt;&lt;/div&gt;\n",
              "        \n",
              "&lt;/body&gt;\n",
              "&lt;script&gt;    \n",
              "    \n",
              "            var map_0061e502be8e9a8fd460193dedf364e7 = L.map(\n",
              "                &quot;map_0061e502be8e9a8fd460193dedf364e7&quot;,\n",
              "                {\n",
              "                    center: [0, 0],\n",
              "                    crs: L.CRS.EPSG3857,\n",
              "                    zoom: 1,\n",
              "                    zoomControl: true,\n",
              "                    preferCanvas: false,\n",
              "                }\n",
              "            );\n",
              "\n",
              "            \n",
              "\n",
              "        \n",
              "    \n",
              "            var tile_layer_c81debbd73a5ff19215161e16499b8c9 = L.tileLayer(\n",
              "                &quot;https://{s}.tile.openstreetmap.org/{z}/{x}/{y}.png&quot;,\n",
              "                {&quot;attribution&quot;: &quot;Data by \\u0026copy; \\u003ca href=\\&quot;http://openstreetmap.org\\&quot;\\u003eOpenStreetMap\\u003c/a\\u003e, under \\u003ca href=\\&quot;http://www.openstreetmap.org/copyright\\&quot;\\u003eODbL\\u003c/a\\u003e.&quot;, &quot;detectRetina&quot;: false, &quot;maxNativeZoom&quot;: 18, &quot;maxZoom&quot;: 18, &quot;minZoom&quot;: 0, &quot;noWrap&quot;: false, &quot;opacity&quot;: 1, &quot;subdomains&quot;: &quot;abc&quot;, &quot;tms&quot;: false}\n",
              "            ).addTo(map_0061e502be8e9a8fd460193dedf364e7);\n",
              "        \n",
              "    \n",
              "            var marker_5cb26f78e7a7878af576bf8476944210 = L.marker(\n",
              "                [40.10891, -83.09286],\n",
              "                {}\n",
              "            ).addTo(map_0061e502be8e9a8fd460193dedf364e7);\n",
              "        \n",
              "&lt;/script&gt;\" style=\"position:absolute;width:100%;height:100%;left:0;top:0;border:none !important;\" allowfullscreen webkitallowfullscreen mozallowfullscreen></iframe></div></div>"
            ],
            "text/plain": [
              "<folium.folium.Map at 0x7f8d7cc28510>"
            ]
          },
          "execution_count": 31,
          "metadata": {},
          "output_type": "execute_result"
        }
      ],
      "source": [
        "map=folium.Map()\n",
        "marker=folium.Marker((lat,lng))\n",
        "marker.add_to(map)\n",
        "map"
      ]
    },
    {
      "cell_type": "markdown",
      "metadata": {
        "id": "Bs3U-zRvMITg"
      },
      "source": [
        "Okay,so now we have plotted one accident on the map.\n",
        "\n",
        "Now, we need to make a list of pairs of Longitude and Latitude values to work ahead with the folium library."
      ]
    },
    {
      "cell_type": "code",
      "execution_count": null,
      "metadata": {
        "colab": {
          "base_uri": "https://localhost:8080/"
        },
        "id": "WR_uK-sMKidf",
        "outputId": "6fdfcb3f-9675-41ba-91cd-4ad0f1f4710f"
      },
      "outputs": [
        {
          "data": {
            "text/plain": [
              "[(40.10891, -83.09286),\n",
              " (39.86542, -84.0628),\n",
              " (39.10266, -84.52468),\n",
              " (41.06213, -81.53784),\n",
              " (39.172393, -84.49279200000002),\n",
              " (39.06324, -84.03243),\n",
              " (39.77565, -84.18603),\n",
              " (41.37531, -81.82016999999998),\n",
              " (40.702247, -84.075887),\n",
              " (40.10931, -82.96849),\n",
              " (39.19288, -84.47723),\n",
              " (39.13877, -84.53394),\n",
              " (41.4739, -81.704233),\n",
              " (39.582242, -83.677814),\n",
              " (40.151785, -81.312635),\n",
              " (40.151747, -81.312682),\n",
              " (39.97241, -82.84695),\n",
              " (39.9838, -82.85656999999998),\n",
              " (40.02664, -82.9944),\n",
              " (41.679361, -83.573037),\n",
              " (40.99613, -85.26613),\n",
              " (39.0381, -84.59243000000002),\n",
              " (40.03386, -82.99601),\n",
              " (39.85798, -84.28181),\n",
              " (39.15267, -84.5395),\n",
              " (39.30732, -85.95982),\n",
              " (39.77572, -84.04815),\n",
              " (39.97643, -83.12306),\n",
              " (39.58595, -85.82518),\n",
              " (39.3638, -85.51659000000002),\n",
              " (39.45132, -85.62516),\n",
              " (39.75067, -84.14148),\n",
              " (39.2675, -81.49929),\n",
              " (39.86025, -85.96623000000002),\n",
              " (41.95677, -83.67214),\n",
              " (38.27401, -85.74844),\n",
              " (41.95677, -83.67214),\n",
              " (40.52225, -80.06666),\n",
              " (40.487814, -80.009439),\n",
              " (40.156298, -83.018431),\n",
              " (41.47461, -81.71181999999997),\n",
              " (41.0618, -81.54608),\n",
              " (40.45112, -85.15048),\n",
              " (40.35429, -85.14993),\n",
              " (39.75855, -85.13715),\n",
              " (39.74408, -85.13749),\n",
              " (39.965148, -83.020499),\n",
              " (40.72813, -84.78965),\n",
              " (39.85223, -85.25846999999997),\n",
              " (41.46747, -81.75909),\n",
              " (41.83193, -80.10143000000002),\n",
              " (39.744287, -84.204939),\n",
              " (39.71548, -84.22033),\n",
              " (39.7504, -84.20561),\n",
              " (41.72316, -84.96444),\n",
              " (40.04376, -82.99708000000003),\n",
              " (38.1781, -85.71946),\n",
              " (38.18577, -85.80678),\n",
              " (38.27191, -85.80838),\n",
              " (39.923905, -82.87008),\n",
              " (41.035566, -81.569917),\n",
              " (39.9239, -83.68767),\n",
              " (41.851914, -80.175232),\n",
              " (39.93849, -82.84849),\n",
              " (38.96943, -80.1096),\n",
              " (41.66805, -83.57063000000002),\n",
              " (41.48339, -81.66297),\n",
              " (41.50127, -81.4804),\n",
              " (39.789093, -82.989106),\n",
              " (41.67073, -81.24561),\n",
              " (41.70846, -81.17636),\n",
              " (41.44246, -81.78485),\n",
              " (39.77128, -84.1923),\n",
              " (41.50499, -81.47417),\n",
              " (40.109653, -80.2029),\n",
              " (38.38852, -81.7687),\n",
              " (41.03572, -81.57809),\n",
              " (41.47487, -81.72095),\n",
              " (41.62845, -84.80559000000002),\n",
              " (41.62894, -84.80373),\n",
              " (41.16102, -81.78573),\n",
              " (41.628232, -84.808858),\n",
              " (41.62986, -84.76619000000002),\n",
              " (39.74729, -84.21426),\n",
              " (41.42099, -81.69051999999998),\n",
              " (41.42318, -81.84674),\n",
              " (38.79691, -84.48273),\n",
              " (38.80878, -84.49638),\n",
              " (38.30155, -85.85499),\n",
              " (38.33667, -81.65623000000002),\n",
              " (38.33614, -81.65623000000002),\n",
              " (41.0961, -81.58593),\n",
              " (41.12155, -85.18715999999998),\n",
              " (38.829993, -80.667067),\n",
              " (40.05642, -83.03097),\n",
              " (41.37717, -81.5139),\n",
              " (39.17397, -84.49031),\n",
              " (39.75513, -84.16614),\n",
              " (39.17397, -84.49031),\n",
              " (41.12624, -81.65299),\n",
              " (38.33667, -81.65623000000002),\n",
              " (41.10389, -81.5),\n",
              " (39.16417, -84.45275),\n",
              " (40.11184, -83.00883),\n",
              " (38.31922, -85.75301999999998),\n",
              " (39.09881, -84.50801),\n",
              " (41.473859, -81.708409),\n",
              " (41.039988, -81.565332),\n",
              " (41.73565, -84.99082),\n",
              " (39.26566, -84.43965),\n",
              " (41.46981, -81.81104),\n",
              " (41.25666, -81.63157),\n",
              " (40.58919, -80.09885),\n",
              " (41.06356, -81.49078),\n",
              " (41.06218, -81.50595),\n",
              " (39.17736, -84.4873),\n",
              " (38.33956, -81.60991999999997),\n",
              " (41.47889, -81.6934),\n",
              " (40.58919, -80.09885),\n",
              " (41.41119000000001, -81.64414000000002),\n",
              " (39.24907, -84.44561999999998),\n",
              " (39.28775, -84.40073000000002),\n",
              " (41.47379, -81.89631),\n",
              " (41.54941, -81.60676),\n",
              " (39.03347, -84.603),\n",
              " (39.74903, -84.20106),\n",
              " (39.89473, -83.044),\n",
              " (39.19641, -84.47331),\n",
              " (39.22461, -84.45364000000002),\n",
              " (39.15306, -84.44283),\n",
              " (39.97262, -82.98368),\n",
              " (40.535447, -80.03596),\n",
              " (40.529455, -80.03506999999998),\n",
              " (41.49647, -81.67733),\n",
              " (41.0634, -81.49079),\n",
              " (39.74284, -84.20479),\n",
              " (41.46822, -81.9476),\n",
              " (41.92479, -83.36026),\n",
              " (41.184738, -80.432713),\n",
              " (40.27317, -85.5577),\n",
              " (39.98264, -85.14301999999998),\n",
              " (40.27317, -85.5577),\n",
              " (40.42667, -85.54968000000002),\n",
              " (39.97527, -85.14018),\n",
              " (39.09889, -84.52118),\n",
              " (38.88012, -84.62527),\n",
              " (38.79256, -84.60423),\n",
              " (39.74284, -84.20479),\n",
              " (40.484222, -80.13755400000002),\n",
              " (41.20104, -80.06859),\n",
              " (39.05528, -84.39072),\n",
              " (41.623325, -83.692226),\n",
              " (40.53024, -80.00957),\n",
              " (40.06527, -82.99591),\n",
              " (40.43954, -80.00971),\n",
              " (41.422004, -81.730092),\n",
              " (39.3638, -85.51659000000002),\n",
              " (39.82083, -85.7749),\n",
              " (40.0366, -85.72561999999998),\n",
              " (39.855691, -84.29079200000002),\n",
              " (40.049152, -85.682047),\n",
              " (39.83939, -85.55752),\n",
              " (40.13386, -80.00666),\n",
              " (40.43954, -80.00971),\n",
              " (40.13386, -80.00666),\n",
              " (40.13386, -80.00666),\n",
              " (39.97859, -82.9763),\n",
              " (39.95459, -83.04255),\n",
              " (39.68291, -85.97372),\n",
              " (38.49304, -85.77156),\n",
              " (38.33428, -85.82177),\n",
              " (39.99921, -83.02875),\n",
              " (38.53844, -85.77702),\n",
              " (38.1781, -85.71946),\n",
              " (39.87433, -82.99882),\n",
              " (41.39546, -85.32855),\n",
              " (41.39469, -85.28893000000002),\n",
              " (41.90473, -83.36986),\n",
              " (40.77137000000001, -84.62203000000002),\n",
              " (40.80059, -84.61374),\n",
              " (39.87433, -82.99882),\n",
              " (40.78593, -84.61787),\n",
              " (40.80059, -84.61374),\n",
              " (41.67487, -83.57266),\n",
              " (41.47376, -81.86113),\n",
              " (38.33465, -85.75389),\n",
              " (39.14014, -84.53495),\n",
              " (41.80143, -85.34888000000002),\n",
              " (41.35761, -81.81988),\n",
              " (39.34392, -84.39043000000002),\n",
              " (39.816154, -83.18010500000003),\n",
              " (38.824929, -85.47449499999998),\n",
              " (38.82415, -85.63794),\n",
              " (40.593244, -85.150017),\n",
              " (40.600487, -85.150502),\n",
              " (41.19362, -80.2374),\n",
              " (40.55267, -85.14974000000002),\n",
              " (40.56744000000001, -85.14993),\n",
              " (40.14212, -81.55153),\n",
              " (39.94397, -82.41127),\n",
              " (39.96893, -83.11922),\n",
              " (40.6126, -80.09494000000002),\n",
              " (40.11184, -83.00883),\n",
              " (41.06347, -81.50372),\n",
              " (39.972931, -85.965783),\n",
              " (39.95459, -83.04255),\n",
              " (40.11184, -83.00883),\n",
              " (39.97241, -82.84695),\n",
              " (39.9912, -85.9188),\n",
              " (41.34965, -81.51146),\n",
              " (41.11987, -80.69004),\n",
              " (41.11851, -80.69242),\n",
              " (40.05642, -83.03097),\n",
              " (38.117487, -85.760397),\n",
              " (41.44134, -81.65055),\n",
              " (38.61531, -80.76034),\n",
              " (41.124052, -80.677589),\n",
              " (39.95085, -82.94428),\n",
              " (41.06257, -81.52228000000002),\n",
              " (40.11212, -83.03905999999998),\n",
              " (39.887033, -83.043909),\n",
              " (40.04916, -83.03336),\n",
              " (41.12906, -85.1612),\n",
              " (41.17798, -85.10323000000002),\n",
              " (38.08783, -83.90263),\n",
              " (41.63316, -83.54203000000003),\n",
              " (39.149639, -84.539381),\n",
              " (40.9605, -85.3528),\n",
              " (40.96051, -85.34522),\n",
              " (41.08204, -80.64846999999997),\n",
              " (41.61791, -83.54106999999998),\n",
              " (38.41592, -82.3465),\n",
              " (41.67571, -83.69385),\n",
              " (39.08272, -84.52264),\n",
              " (39.280947, -80.278075),\n",
              " (38.36387, -81.73867),\n",
              " (40.0187, -82.90465999999998),\n",
              " (41.53757, -81.64083000000002),\n",
              " (41.16522, -81.47454),\n",
              " (39.52352, -82.02360999999998),\n",
              " (39.517216, -82.025802),\n",
              " (40.322818, -83.071034),\n",
              " (41.73565, -84.99082),\n",
              " (39.14648, -84.45455),\n",
              " (39.82122, -85.76482),\n",
              " (41.11889, -81.65406999999998),\n",
              " (40.121557, -83.151457),\n",
              " (40.11017, -83.15876999999998),\n",
              " (41.57777, -81.54987),\n",
              " (40.121557, -83.151457),\n",
              " (40.11017, -83.15876999999998),\n",
              " (41.04592, -81.69463),\n",
              " (41.42099, -81.69051999999998),\n",
              " (39.27486, -84.346),\n",
              " (39.28266, -84.56742),\n",
              " (39.9467, -82.22232),\n",
              " (39.17397, -84.49031),\n",
              " (39.17736, -84.4873),\n",
              " (39.9467, -82.22232),\n",
              " (39.9467, -82.22232),\n",
              " (41.68518, -83.5678),\n",
              " (41.66572, -83.5652),\n",
              " (39.27125, -84.35176),\n",
              " (41.47395, -81.69931),\n",
              " (39.98505, -80.74006),\n",
              " (39.95813, -80.76219),\n",
              " (41.56544, -81.5835),\n",
              " (38.32587, -83.11389),\n",
              " (38.25869, -85.7622),\n",
              " (38.29322, -85.654625),\n",
              " (39.78609, -83.24606999999997),\n",
              " (41.53968, -81.62795),\n",
              " (39.08927, -84.5227),\n",
              " (38.25922, -85.76632),\n",
              " (41.55264, -81.60032),\n",
              " (39.02187, -84.50492),\n",
              " (41.06755, -81.57421),\n",
              " (40.49223, -80.01029),\n",
              " (41.48836, -81.66471),\n",
              " (39.95085, -82.94428),\n",
              " (41.42063, -81.80859),\n",
              " (41.06755, -81.57421),\n",
              " (40.82949, -81.39732),\n",
              " (41.40091, -81.81724),\n",
              " (41.13355, -85.13584),\n",
              " (38.870386, -84.624429),\n",
              " (41.47974, -81.6667),\n",
              " (40.30095, -80.16651999999998),\n",
              " (39.11543, -84.50003000000002),\n",
              " (41.1419, -81.47694),\n",
              " (39.14917, -84.44711),\n",
              " (39.81979000000001, -84.18908),\n",
              " (39.84509, -84.1899),\n",
              " (41.47461, -81.71181999999997),\n",
              " (39.17304, -84.47589),\n",
              " (39.1021, -84.49754),\n",
              " (41.49873, -81.67260999999998),\n",
              " (39.12627, -84.53509),\n",
              " (41.47394600000001, -81.699011),\n",
              " (39.9745, -83.09654),\n",
              " (39.85911, -84.2808),\n",
              " (39.24943, -84.36541),\n",
              " (38.31179, -85.58773000000002),\n",
              " (39.27486, -84.346),\n",
              " (39.29287, -84.31981),\n",
              " (39.15267, -84.5395),\n",
              " (41.4675, -81.49014),\n",
              " (39.26661, -84.35605),\n",
              " (39.27125, -84.35176),\n",
              " (38.20674, -85.74846),\n",
              " (40.13804, -82.97112),\n",
              " (41.47965, -81.66758),\n",
              " (39.08887, -84.52271),\n",
              " (41.6882, -83.64064),\n",
              " (40.06527, -82.99591),\n",
              " (39.86536, -84.05238),\n",
              " (38.420223, -82.293065),\n",
              " (41.47414000000001, -81.69893),\n",
              " (41.47542, -81.68721),\n",
              " (40.07297, -83.1347),\n",
              " (40.05609000000001, -80.679211),\n",
              " (38.19105, -85.71902),\n",
              " (38.25454000000001, -85.71969),\n",
              " (39.171694, -84.494399),\n",
              " (41.06239, -81.52229),\n",
              " (39.259254, -84.440978),\n",
              " (39.905178, -82.895471),\n",
              " (40.0988, -83.13331),\n",
              " (41.33991, -81.81739),\n",
              " (40.0999, -82.92089),\n",
              " (39.4728, -80.11963),\n",
              " (41.46631, -81.77065999999998),\n",
              " (38.34109, -81.70017),\n",
              " (41.160072, -85.232647),\n",
              " (41.163626, -85.24482900000002),\n",
              " (39.14014, -84.53495),\n",
              " (40.94537, -81.15473),\n",
              " (41.68591, -83.911307),\n",
              " (41.704523, -83.9136),\n",
              " (40.945772, -81.17219399999998),\n",
              " (38.82445, -82.98299),\n",
              " (38.84111, -82.98432),\n",
              " (39.00079, -84.42043000000002),\n",
              " (39.96071, -85.35383),\n",
              " (39.2675, -81.49929),\n",
              " (40.27317, -85.5577),\n",
              " (40.42667, -85.54968000000002),\n",
              " (38.130782, -81.388878),\n",
              " (38.545195, -85.778613),\n",
              " (38.362427, -81.714434),\n",
              " (38.39115, -81.58664),\n",
              " (40.08978, -82.98725999999998),\n",
              " (40.0122, -82.99188000000002),\n",
              " (41.68918, -83.53681999999998),\n",
              " (39.3781, -84.365),\n",
              " (39.11919, -84.53539),\n",
              " (39.05029, -83.77673),\n",
              " (39.04827, -83.77199),\n",
              " (40.0717, -82.90821),\n",
              " (39.09655, -84.48312),\n",
              " (40.43077, -80.02638),\n",
              " (41.443708, -85.19285),\n",
              " (41.438119, -85.15969399999999),\n",
              " (41.46747, -81.75909),\n",
              " (39.044435, -84.465864),\n",
              " (39.22461, -84.45364000000002),\n",
              " (41.104217, -81.499987),\n",
              " (41.1003, -81.4999),\n",
              " (39.1021, -84.49754),\n",
              " (41.46375, -81.69353000000002),\n",
              " (41.52134, -83.45642),\n",
              " (41.52549000000001, -83.46344),\n",
              " (41.43166, -81.68160999999998),\n",
              " (38.22363, -85.50532),\n",
              " (40.85466, -81.41646999999998),\n",
              " (38.22272, -85.50111),\n",
              " (39.12424, -84.53501),\n",
              " (39.09858, -84.51974),\n",
              " (39.63551, -84.19519),\n",
              " (40.39715, -80.10368000000003),\n",
              " (41.56709, -81.57816),\n",
              " (41.18225, -84.94275999999998),\n",
              " (39.10148, -84.52341),\n",
              " (41.55245, -83.60061999999998),\n",
              " (38.52006, -81.35221),\n",
              " (41.3513, -83.62276),\n",
              " (39.25015, -81.30566),\n",
              " (41.345031, -82.285379),\n",
              " (41.351335, -82.26144599999998),\n",
              " (38.38457, -81.804429),\n",
              " (40.41528, -80.01234000000002),\n",
              " (40.03598, -83.12479),\n",
              " (41.03669, -81.50492),\n",
              " (41.68971, -83.53045999999998),\n",
              " (39.587784, -83.723939),\n",
              " (39.626237, -83.73105),\n",
              " (41.06243, -81.49904000000002),\n",
              " (39.97262, -82.98368),\n",
              " (39.93658, -83.00941999999998),\n",
              " (41.208579, -82.807829),\n",
              " (41.4051, -81.8184),\n",
              " (39.29035, -84.39078),\n",
              " (39.90524, -82.89541),\n",
              " (40.04376, -82.99708000000003),\n",
              " (39.98793, -82.98568),\n",
              " (41.874915, -85.409527),\n",
              " (41.890234, -85.409642),\n",
              " (39.9335, -82.78939),\n",
              " (40.04916, -83.03336),\n",
              " (39.99493, -82.93332),\n",
              " (39.83727, -83.09326999999998),\n",
              " (40.98954000000001, -81.49372),\n",
              " (38.53844, -85.77702),\n",
              " (41.10389, -81.5),\n",
              " (38.577894, -85.77896),\n",
              " (41.42099, -81.69051999999998),\n",
              " (38.58054600000001, -85.77866),\n",
              " (39.833935, -84.061832),\n",
              " (38.30344, -85.88893),\n",
              " (39.93654, -83.40048),\n",
              " (39.95612, -83.37499),\n",
              " (39.17766, -84.39780999999998),\n",
              " (40.02155, -83.0354),\n",
              " (39.97518, -85.63374),\n",
              " (39.94576, -85.63454),\n",
              " (40.27744000000001, -85.72518000000002),\n",
              " (39.17304, -84.47589),\n",
              " (41.68648, -83.5669),\n",
              " (41.66267, -85.03312),\n",
              " (41.68976, -83.666),\n",
              " (39.94594, -82.9432),\n",
              " (41.4758, -81.66036),\n",
              " (41.628312, -84.812135),\n",
              " (39.96724, -83.02459),\n",
              " (41.96429000000001, -83.35018000000002),\n",
              " (41.282993, -83.638931),\n",
              " (41.63126, -83.48336),\n",
              " (41.427584, -85.8495),\n",
              " (41.471378, -85.839527),\n",
              " (41.46747, -81.75909),\n",
              " (39.18364, -84.48373000000002),\n",
              " (41.94495, -80.40234),\n",
              " (39.53078, -84.310264),\n",
              " (41.438774, -81.80341999999997),\n",
              " (39.9838, -82.85656999999998),\n",
              " (40.44413400000001, -80.028261),\n",
              " (39.97727, -83.15445),\n",
              " (39.9745, -83.09654),\n",
              " (39.97865, -83.11698),\n",
              " (39.97327, -83.12002),\n",
              " (39.22571, -84.36832),\n",
              " (39.986342, -83.118881),\n",
              " (39.73629, -84.20489),\n",
              " (41.4051, -81.8184),\n",
              " (41.41101, -81.66634),\n",
              " (39.24464, -84.44835),\n",
              " (40.11212, -83.03905999999998),\n",
              " (40.30095, -80.16651999999998),\n",
              " (41.49243, -81.67554),\n",
              " (40.1827, -80.26148),\n",
              " (39.95459, -83.04255),\n",
              " (39.97527, -85.14018),\n",
              " (39.98511, -85.14406),\n",
              " (38.29514, -85.75655),\n",
              " (39.93654, -83.40048),\n",
              " (39.11543, -84.50003000000002),\n",
              " (41.030684, -81.885739),\n",
              " (41.43166, -81.68160999999998),\n",
              " (40.6664, -80.227514),\n",
              " (40.67137, -80.22581),\n",
              " (41.305199, -81.438626),\n",
              " (40.354252, -85.843032),\n",
              " (40.402251, -85.842969),\n",
              " (41.26752000000001, -85.85673),\n",
              " (39.97307, -82.98405),\n",
              " (39.9672, -81.28699999999998),\n",
              " (39.96392, -81.27197),\n",
              " (41.52631, -83.62123000000003),\n",
              " (39.93292, -82.83025),\n",
              " (39.08272, -84.52264),\n",
              " (39.8552, -84.32502),\n",
              " (41.65404, -85.70526),\n",
              " (41.39465, -81.65326),\n",
              " (41.06211, -81.53053),\n",
              " (41.09598, -81.49976),\n",
              " (41.85222, -85.67843),\n",
              " (38.148808, -80.929665),\n",
              " (41.52447, -85.57791),\n",
              " (41.5105, -85.57781),\n",
              " (39.90524, -82.89541),\n",
              " (41.23598, -81.49325999999998),\n",
              " (38.70101, -80.66483000000002),\n",
              " (39.22498, -84.38094),\n",
              " (40.776023, -80.12718100000002),\n",
              " (38.86027, -80.65729),\n",
              " (39.88203, -83.04748000000002),\n",
              " (39.89253400000001, -83.038786),\n",
              " (39.89698, -83.03428000000002),\n",
              " (41.67439, -83.693727),\n",
              " (41.12999, -85.15503000000002),\n",
              " (39.09889, -84.52118),\n",
              " (41.52631, -83.62123000000003),\n",
              " (39.088552, -84.522724),\n",
              " (39.95423, -82.98879000000002),\n",
              " (39.21018, -84.46345),\n",
              " (39.95369, -82.96403000000002),\n",
              " (40.40934, -80.19247),\n",
              " (40.44126, -80.19314),\n",
              " (39.16161, -84.51375),\n",
              " (39.16161, -84.51375),\n",
              " (39.15141, -84.54061),\n",
              " (39.75855, -85.13715),\n",
              " (41.67571, -83.69385),\n",
              " (41.67571, -83.69385),\n",
              " (39.28805, -84.37462),\n",
              " (41.53618, -83.6176),\n",
              " (39.07202, -84.51907),\n",
              " (38.259133, -85.752672),\n",
              " (40.44425, -80.02821),\n",
              " (40.44278, -80.02468),\n",
              " (38.30155, -85.85499),\n",
              " (40.35405, -80.13756),\n",
              " (40.35449000000001, -80.13835999999998),\n",
              " (38.30344, -85.88893),\n",
              " (41.08789, -83.66011),\n",
              " (41.02454, -80.92163000000002),\n",
              " (41.02413, -80.90579),\n",
              " (39.08168, -84.7069),\n",
              " (38.18539000000001, -85.81793),\n",
              " (39.27734, -84.86438000000003),\n",
              " (39.16437, -84.43731),\n",
              " (39.748585, -84.226084),\n",
              " (39.4728, -80.11963),\n",
              " (41.187807, -80.149019),\n",
              " (41.19242, -80.15860500000002),\n",
              " (38.233483, -85.62671800000003),\n",
              " (38.33954, -81.609895),\n",
              " (40.07297, -83.1347),\n",
              " (40.08402, -83.13046),\n",
              " (38.34631, -83.40449),\n",
              " (38.35382, -83.40553),\n",
              " (39.04416, -84.46656),\n",
              " (38.41807, -81.54525),\n",
              " (38.309401, -85.847643),\n",
              " (41.64679, -83.54913),\n",
              " (38.198748, -85.733953),\n",
              " (39.97401, -82.99355),\n",
              " (39.17397, -84.49031),\n",
              " (41.68843, -83.56258000000003),\n",
              " (41.67904, -83.5732),\n",
              " (39.25249, -84.36493),\n",
              " (38.310736, -85.590395),\n",
              " (41.46941, -81.80535),\n",
              " (38.20674, -85.74846),\n",
              " (39.226317, -84.37107900000002),\n",
              " (41.68721, -83.55579),\n",
              " (40.09775, -84.22926),\n",
              " (41.42147, -81.70682),\n",
              " (38.29414600000001, -85.756847),\n",
              " (39.17304, -84.47589),\n",
              " (38.15982, -84.67308),\n",
              " (39.11675, -84.53355),\n",
              " (39.24943, -84.36541),\n",
              " (41.06146, -81.5049),\n",
              " (39.18364, -84.48373000000002),\n",
              " (39.98793, -82.98568),\n",
              " (39.95971, -83.04811),\n",
              " (39.1479, -84.53929000000002),\n",
              " (39.89555, -83.84997),\n",
              " (39.99226, -82.98517),\n",
              " (39.40983, -82.97548),\n",
              " (40.6126, -80.09494000000002),\n",
              " (39.22479000000001, -84.27783000000002),\n",
              " (39.11675, -84.53355),\n",
              " (41.43869, -81.80554000000002),\n",
              " (40.016819, -82.90411),\n",
              " (39.09757000000001, -84.51666),\n",
              " (41.06247000000001, -81.52405),\n",
              " (39.13219, -84.49464),\n",
              " (39.097654, -84.516019),\n",
              " (41.34965, -81.51146),\n",
              " (41.37717, -81.5139),\n",
              " (40.12589000000001, -80.13661),\n",
              " (40.13189000000001, -80.132407),\n",
              " (40.00507, -83.1186),\n",
              " (39.43794000000001, -82.53893000000002),\n",
              " (39.12627, -84.53509),\n",
              " (38.07759, -84.45711999999997),\n",
              " (40.09079000000001, -82.90783),\n",
              " (39.64731, -85.91696999999998),\n",
              " (39.08927, -84.5227),\n",
              " (38.26109, -85.73695),\n",
              " (38.19785, -85.70445),\n",
              " (39.05654000000001, -84.54283000000002),\n",
              " (41.42413, -81.64519),\n",
              " (39.28638, -84.42706),\n",
              " (41.37499, -83.61635),\n",
              " (41.06228, -81.50986999999998),\n",
              " (41.53907, -81.63354),\n",
              " (40.04916, -83.03336),\n",
              " (41.13613, -81.72196),\n",
              " (39.09891, -84.49181999999998),\n",
              " (39.96268, -82.84305),\n",
              " (39.17397, -84.49031),\n",
              " (39.16911, -84.42104),\n",
              " (39.003821, -80.391285),\n",
              " (39.17736, -84.4873),\n",
              " (39.14316, -84.47069),\n",
              " (39.2696, -84.34894),\n",
              " (40.521732, -81.64755),\n",
              " (40.513361, -81.651599),\n",
              " (41.52631, -83.62123000000003),\n",
              " (38.992607, -80.195782),\n",
              " (38.839151, -82.152877),\n",
              " (40.27675, -85.49916),\n",
              " (40.52168, -80.13163),\n",
              " (39.83711, -84.54392),\n",
              " (39.02296, -84.51784),\n",
              " (38.455787, -81.88205),\n",
              " (39.02397, -84.48039),\n",
              " (38.22433, -85.751),\n",
              " (39.05973, -84.42438),\n",
              " (39.27734, -84.86438000000003),\n",
              " (41.47965, -81.66758),\n",
              " (39.02257, -84.48631),\n",
              " (40.44846, -80.00755),\n",
              " (39.09891, -84.28556999999998),\n",
              " (41.06026, -81.55485999999998),\n",
              " (41.802758, -83.684687),\n",
              " (38.0791, -83.94591),\n",
              " (38.01846, -84.15159),\n",
              " (38.30344, -85.88893),\n",
              " (38.84109, -85.81618),\n",
              " (41.14181, -80.72015999999998),\n",
              " (39.14648, -84.45455),\n",
              " (41.04263, -81.50543),\n",
              " (38.21089, -85.82606),\n",
              " (39.75067, -84.14148),\n",
              " (38.28581, -85.50792),\n",
              " (39.15273300000001, -84.541403),\n",
              " (38.23585, -85.658849),\n",
              " (38.20249, -85.68697),\n",
              " (40.53491, -83.10678),\n",
              " (40.52035, -83.10043),\n",
              " (39.12965, -84.49555),\n",
              " (38.22811, -85.7514),\n",
              " (40.41233, -80.07815),\n",
              " (39.7504, -84.20561),\n",
              " (39.08272, -84.52264),\n",
              " (39.781457, -85.839651),\n",
              " (39.781457, -85.839651),\n",
              " (41.06076, -81.45923),\n",
              " (39.688148, -83.88431),\n",
              " (39.693164, -83.882745),\n",
              " (39.9488, -83.02845),\n",
              " (41.11584000000001, -81.61428000000002),\n",
              " (39.797697, -84.189677),\n",
              " (39.20326, -85.95763000000002),\n",
              " (39.24464, -84.44835),\n",
              " (39.73733, -84.25733000000002),\n",
              " (39.969853, -85.972976),\n",
              " (41.11889, -81.65406999999998),\n",
              " (39.13219, -84.49464),\n",
              " (41.458, -83.62201999999998),\n",
              " (40.09268, -83.03726),\n",
              " (40.066965, -83.289888),\n",
              " (40.045608, -83.29660799999998),\n",
              " (39.97307, -82.98405),\n",
              " (39.98248, -85.123922),\n",
              " (39.981095, -85.11027299999998),\n",
              " (40.43021, -80.02554),\n",
              " (40.43219000000001, -80.02781999999998),\n",
              " (39.976567, -83.128639),\n",
              " (41.256658, -85.363439),\n",
              " (41.37499, -83.61635),\n",
              " (41.252653, -85.347328),\n",
              " (39.93658, -83.00941999999998),\n",
              " (39.14014, -84.53495),\n",
              " (40.153014, -82.970316),\n",
              " (39.90524, -82.89541),\n",
              " (39.13219, -84.49464),\n",
              " (40.42581, -80.4294),\n",
              " (41.08789, -83.65977),\n",
              " (39.9488, -83.02845),\n",
              " (41.47585, -81.87980999999998),\n",
              " (39.1079, -84.50284),\n",
              " (38.340803, -81.680728),\n",
              " (40.96473, -85.28862),\n",
              " (38.441, -82.12679),\n",
              " (38.4413, -82.01529000000002),\n",
              " (38.441, -82.12679),\n",
              " (38.18977, -83.48379),\n",
              " (41.194131, -80.201982),\n",
              " (40.09601, -83.13626),\n",
              " (41.23632, -83.65401999999997),\n",
              " (38.1737, -84.81473000000003),\n",
              " (38.19016, -85.7616),\n",
              " (39.25249, -84.36493),\n",
              " (39.137217, -84.04718299999998),\n",
              " (39.141454, -84.016543),\n",
              " (38.344424, -81.613662),\n",
              " (41.93113, -83.35857),\n",
              " (40.89268, -84.61808),\n",
              " (40.46013, -80.19126),\n",
              " (41.119342, -80.698025),\n",
              " (41.117872, -80.693898),\n",
              " (39.15267, -84.5395),\n",
              " (38.27362, -85.80906),\n",
              " (41.458, -83.62201999999998),\n",
              " (39.35655, -84.26419),\n",
              " (38.4062, -81.54054000000002),\n",
              " (41.02525900000001, -81.5042),\n",
              " (38.27362, -85.80906),\n",
              " (38.11969000000001, -85.77235),\n",
              " (38.275406, -85.81314300000003),\n",
              " (38.27508, -85.81517099999998),\n",
              " (41.39769, -81.939),\n",
              " (39.46513, -80.13559000000002),\n",
              " (38.217994, -81.426024),\n",
              " (38.215401, -81.42437199999998),\n",
              " (39.042851, -84.612615),\n",
              " (38.26109, -85.73695),\n",
              " (39.05654000000001, -84.54283000000002),\n",
              " (41.840758, -84.361657),\n",
              " (41.841123, -84.361652),\n",
              " (41.63316, -83.54203000000003),\n",
              " (40.02874, -81.04368000000002),\n",
              " (41.43891, -81.80258),\n",
              " (41.0811, -81.50348000000002),\n",
              " (38.35575, -81.65420999999998),\n",
              " (39.94585, -82.94293),\n",
              " (41.69017, -83.5181),\n",
              " (40.11212, -83.03905999999998),\n",
              " (41.50259000000001, -81.66974),\n",
              " (39.989994, -83.02512),\n",
              " (41.480458, -81.692932),\n",
              " (39.22461, -84.45364000000002),\n",
              " (40.04376, -82.99708000000003),\n",
              " (39.93621, -82.88318000000002),\n",
              " (39.167788, -82.524172),\n",
              " (39.20655, -82.48212),\n",
              " (41.36576, -81.51602),\n",
              " (39.977322, -81.183327),\n",
              " (39.961933, -81.175436),\n",
              " (39.68292, -84.23004),\n",
              " (40.02664, -82.9944),\n",
              " (38.583372, -81.994824),\n",
              " (38.58119600000001, -82.004356),\n",
              " (40.07297, -83.1347),\n",
              " (41.58689, -83.56234),\n",
              " (38.31714, -85.57677),\n",
              " (40.07297, -83.1347),\n",
              " (39.07202, -84.51907),\n",
              " (41.46747, -81.75909),\n",
              " (40.82645, -81.39675),\n",
              " (40.82645, -81.39675),\n",
              " (39.05654000000001, -84.54283000000002),\n",
              " (39.06272, -84.65728),\n",
              " (39.03368, -84.59527),\n",
              " (40.02121, -82.99503),\n",
              " (39.866695, -84.9305),\n",
              " (39.05654000000001, -84.54283000000002),\n",
              " (39.03232, -84.59137),\n",
              " (41.04058, -81.61256999999998),\n",
              " (40.98884, -83.64875),\n",
              " (39.95658, -83.37075),\n",
              " (39.89857, -83.72139),\n",
              " (39.896448, -83.72312099999998),\n",
              " (41.47965, -81.66758),\n",
              " (39.71548, -84.22033),\n",
              " (40.0389, -85.71828000000002),\n",
              " (41.17516, -81.23116999999998),\n",
              " (41.15107, -81.21375),\n",
              " (40.0389, -85.71828000000002),\n",
              " (39.99336, -85.83861999999998),\n",
              " (40.46013, -80.19126),\n",
              " (41.68976, -83.666),\n",
              " (39.97326, -83.00690999999998),\n",
              " (39.48572, -83.94191),\n",
              " (39.83355, -85.99635),\n",
              " (39.79721, -85.97153),\n",
              " (39.98056, -83.11924),\n",
              " (41.458, -83.62243000000002),\n",
              " (39.905352, -82.995352),\n",
              " (39.99921, -83.02875),\n",
              " (40.869049, -81.95845600000001),\n",
              " (41.419021, -81.519515),\n",
              " (39.34392, -84.39043000000002),\n",
              " (39.9454, -82.60271),\n",
              " (38.353957, -81.73513100000002),\n",
              " (38.354505, -81.731585),\n",
              " (41.501623, -81.479519),\n",
              " (39.86477, -83.99871),\n",
              " (38.737813, -85.250959),\n",
              " (40.00507, -83.1186),\n",
              " (39.91978, -82.93149),\n",
              " (39.09757000000001, -84.51666),\n",
              " (41.07995, -81.50389),\n",
              " (41.63316, -83.54203000000003),\n",
              " (39.82529, -83.03175999999998),\n",
              " (39.83209, -82.99884),\n",
              " (39.83208, -83.000447),\n",
              " (38.416631, -84.861968),\n",
              " (40.55549, -80.11634000000002),\n",
              " (39.17736, -84.4873),\n",
              " (41.484589, -81.691778),\n",
              " (41.22734000000001, -81.62705),\n",
              " (39.04695, -84.57498000000002),\n",
              " (39.25595, -84.44287),\n",
              " (39.8888, -82.88181999999998),\n",
              " (39.74729, -84.21426),\n",
              " (39.97415, -83.09486),\n",
              " (39.08272, -84.52264),\n",
              " (39.949808, -83.02289300000002),\n",
              " (39.95141, -83.0137),\n",
              " (38.7056, -80.66107),\n",
              " (39.1479, -84.53929000000002),\n",
              " (41.7573, -83.48075),\n",
              " (39.98946, -85.9299),\n",
              " (39.98894, -83.025012),\n",
              " (41.110996, -80.82384),\n",
              " (41.68685900000001, -83.554005),\n",
              " (41.53907, -81.63354),\n",
              " (39.300562, -84.518869),\n",
              " (41.202543, -85.7011),\n",
              " (39.19288, -84.47723),\n",
              " (40.07297, -83.1347),\n",
              " (39.140991, -84.483618),\n",
              " (41.121599, -80.789503),\n",
              " (41.31438, -81.51286),\n",
              " (39.85922, -84.27762),\n",
              " (40.42005, -80.03531),\n",
              " (39.9589, -82.98257),\n",
              " (39.89087, -83.85382),\n",
              " (39.89862, -83.85353),\n",
              " (40.03938, -83.050567),\n",
              " (41.41218, -81.61371),\n",
              " (38.306159, -80.833765),\n",
              " (40.104, -82.94154),\n",
              " (38.24178, -85.62212),\n",
              " (41.55264, -81.60032),\n",
              " (39.99226, -82.98517),\n",
              " (38.31553, -85.58313000000003),\n",
              " (38.400331, -85.371049),\n",
              " (38.31251, -85.57741999999998),\n",
              " (38.400331, -85.371049),\n",
              " (39.88938, -82.88316),\n",
              " (38.15873, -80.90504),\n",
              " (39.9745, -83.09654),\n",
              " (41.47487, -81.72095),\n",
              " (39.26931, -84.4307),\n",
              " (38.2201, -85.82223),\n",
              " (41.48339, -81.66297),\n",
              " (39.16161, -84.51375),\n",
              " (41.42734, -82.08322),\n",
              " (41.52631, -83.62123000000003),\n",
              " (39.91732, -83.012335),\n",
              " (41.60867, -81.48891),\n",
              " (41.20554, -85.17116),\n",
              " (41.507189, -81.67124),\n",
              " (39.97415, -83.09486),\n",
              " (39.97043, -83.01961999999997),\n",
              " (39.93849, -82.84849),\n",
              " (39.89698, -83.03428000000002),\n",
              " (39.71452, -84.22281),\n",
              " (40.11468, -83.01644),\n",
              " (38.34244, -85.80447),\n",
              " (41.47036, -81.65984),\n",
              " (38.30056, -85.84703),\n",
              " (39.169389, -84.50389),\n",
              " (39.936838, -83.042661),\n",
              " (39.937567, -83.04209200000003),\n",
              " (39.9425, -82.53536),\n",
              " (39.27125, -84.35176),\n",
              " (41.398877, -83.616108),\n",
              " (39.24422, -84.30224),\n",
              " (40.412997, -80.07973299999998),\n",
              " (39.021521, -84.50784300000002),\n",
              " (41.12367, -80.76913),\n",
              " (41.073876, -83.66091999999998),\n",
              " (39.01992, -83.65886),\n",
              " (38.97914, -83.65465),\n",
              " (40.09927, -83.15793000000002),\n",
              " (39.93658, -83.00941999999998),\n",
              " (39.11543, -84.50003000000002),\n",
              " (41.474552, -81.711522),\n",
              " (39.78517, -84.18457),\n",
              " (41.47974, -81.6667),\n",
              " (38.27719, -85.69383),\n",
              " (38.495124, -85.771118),\n",
              " (39.73277, -84.20522),\n",
              " (41.458, -83.62243000000002),\n",
              " (39.045381, -84.462312),\n",
              " (41.526, -81.65974),\n",
              " (40.78725, -81.38592),\n",
              " (38.3657, -85.75495),\n",
              " (39.02575, -84.61272),\n",
              " (40.90923, -81.79765),\n",
              " (40.91649, -81.78869),\n",
              " (39.10051, -80.39199),\n",
              " (40.082643, -82.91367199999998),\n",
              " (41.47162, -81.90626),\n",
              " (40.08155, -82.91859000000002),\n",
              " (40.07976, -82.92689),\n",
              " (38.27511, -85.81238),\n",
              " (39.02908, -84.53565),\n",
              " (39.04455, -84.57798000000003),\n",
              " (39.83026, -81.45434),\n",
              " (39.81436, -81.46898),\n",
              " (38.41336, -82.3483),\n",
              " (38.20674, -85.74846),\n",
              " (38.10937, -85.70123000000002),\n",
              " (40.26758, -82.92745),\n",
              " (38.22285, -85.57436),\n",
              " (40.43827, -80.00527),\n",
              " (39.08272, -84.52264),\n",
              " (40.046599, -85.99359),\n",
              " (41.67904, -83.5732),\n",
              " (40.52225, -80.06666),\n",
              " (41.041763, -81.3932),\n",
              " (39.02541, -85.88784),\n",
              " (39.887572, -84.047499),\n",
              " (39.90803, -84.03969000000002),\n",
              " (39.8181, -81.45925),\n",
              " (39.8181, -81.45925),\n",
              " (39.81447, -81.46769),\n",
              " (41.47307, -80.36586),\n",
              " (41.460561, -80.366376),\n",
              " (39.75022, -84.19668),\n",
              " (39.16161, -84.51375),\n",
              " (39.82329, -84.166569),\n",
              " (39.818751, -84.167637),\n",
              " (39.15267, -84.5395),\n",
              " (40.480209, -85.719799),\n",
              " (39.02676, -84.61421),\n",
              " (40.480209, -85.719799),\n",
              " (40.48013, -85.72942900000002),\n",
              " (38.24863, -85.70467),\n",
              " (39.24907, -84.44561999999998),\n",
              " (39.18364, -84.48373000000002),\n",
              " (41.420898, -81.69322),\n",
              " (39.18976, -84.26285),\n",
              " (40.00921, -83.03149),\n",
              " (41.12369, -80.75595),\n",
              " (41.09705, -81.50012),\n",
              " (41.03011, -81.40292099999998),\n",
              " (39.9533, -83.0032),\n",
              " (39.91404, -83.01729),\n",
              " (39.11811, -84.49975),\n",
              " (39.73277, -84.20522),\n",
              " (41.47379, -81.69592),\n",
              " (41.47395, -81.69931),\n",
              " (39.62334, -81.83577),\n",
              " (39.98233, -82.98449000000002),\n",
              " (40.15106, -80.03243),\n",
              " (41.66332, -83.56385999999998),\n",
              " (39.35245, -84.37507),\n",
              " (41.67178, -83.6939),\n",
              " (38.38018, -82.60993),\n",
              " (39.03347, -84.603),\n",
              " (40.42116, -80.0438),\n",
              " (41.341147, -83.347543),\n",
              " (41.34131, -83.376561),\n",
              " (40.26758, -82.92745),\n",
              " (40.432459, -80.023538),\n",
              " (39.9912, -85.9188),\n",
              " (39.05654000000001, -84.54283000000002),\n",
              " (38.39328, -85.76223),\n",
              " (39.97165800000001, -80.017133),\n",
              " (39.98381, -80.01011),\n",
              " (39.84457, -85.51639399999998),\n",
              " (38.399528, -85.76430500000002),\n",
              " (38.38981, -81.76937),\n",
              " (41.47965, -81.66758),\n",
              " (39.97859, -82.9763),\n",
              " (40.68109000000001, -80.24616999999998),\n",
              " (41.47487, -81.72095),\n",
              " (40.68109000000001, -80.24616999999998),\n",
              " (40.1412, -82.97121),\n",
              " (39.85942, -84.27778),\n",
              " (39.10838, -84.50296999999998),\n",
              " (39.32662, -84.42002),\n",
              " (39.24907, -84.44561999999998),\n",
              " (41.11959, -81.64568),\n",
              " (39.04455, -84.57798000000003),\n",
              " (38.26109, -85.73695),\n",
              " (38.21911, -85.50582),\n",
              " (39.94976, -83.04032),\n",
              " (38.82584, -120.029214),\n",
              " (37.358209, -121.840017),\n",
              " (37.881943, -122.307987),\n",
              " (37.881038, -122.307788),\n",
              " (38.518811, -121.101664),\n",
              " (38.518811, -121.101664),\n",
              " (36.9903, -119.71146),\n",
              " (37.42592, -122.09879),\n",
              " (37.75745, -122.21131),\n",
              " (37.31648, -121.96746),\n",
              " (37.44415, -122.2688),\n",
              " (37.71981, -121.65943),\n",
              " ...]"
            ]
          },
          "execution_count": 18,
          "metadata": {},
          "output_type": "execute_result"
        }
      ],
      "source": [
        "list(zip(list(new_df.Start_Lat),list(new_df.Start_Lng)))"
      ]
    },
    {
      "cell_type": "code",
      "execution_count": null,
      "metadata": {
        "id": "sVucS-U1Ebse"
      },
      "outputs": [],
      "source": [
        "sample_df = new_df.sample(int(0.001*len(new_df)))\n",
        "lat_lng_pairs = list(zip(list(sample_df.Start_Lat),list(sample_df.Start_Lng)))"
      ]
    },
    {
      "cell_type": "markdown",
      "metadata": {
        "id": "orFukIXfZrjC"
      },
      "source": [
        "Let's plot a heat map where higher the number of accidents, darker the red colour."
      ]
    },
    {
      "cell_type": "code",
      "execution_count": null,
      "metadata": {
        "colab": {
          "base_uri": "https://localhost:8080/",
          "height": 866
        },
        "id": "w4Dr_lTWEbvA",
        "outputId": "ced52c03-0b65-4450-82f4-3077b5e85a62"
      },
      "outputs": [
        {
          "data": {
            "text/html": [
              "<div style=\"width:100%;\"><div style=\"position:relative;width:100%;height:0;padding-bottom:60%;\"><span style=\"color:#565656\">Make this Notebook Trusted to load map: File -> Trust Notebook</span><iframe srcdoc=\"&lt;!DOCTYPE html&gt;\n",
              "&lt;head&gt;    \n",
              "    &lt;meta http-equiv=&quot;content-type&quot; content=&quot;text/html; charset=UTF-8&quot; /&gt;\n",
              "    \n",
              "        &lt;script&gt;\n",
              "            L_NO_TOUCH = false;\n",
              "            L_DISABLE_3D = false;\n",
              "        &lt;/script&gt;\n",
              "    \n",
              "    &lt;style&gt;html, body {width: 100%;height: 100%;margin: 0;padding: 0;}&lt;/style&gt;\n",
              "    &lt;style&gt;#map {position:absolute;top:0;bottom:0;right:0;left:0;}&lt;/style&gt;\n",
              "    &lt;script src=&quot;https://cdn.jsdelivr.net/npm/leaflet@1.6.0/dist/leaflet.js&quot;&gt;&lt;/script&gt;\n",
              "    &lt;script src=&quot;https://code.jquery.com/jquery-1.12.4.min.js&quot;&gt;&lt;/script&gt;\n",
              "    &lt;script src=&quot;https://maxcdn.bootstrapcdn.com/bootstrap/3.2.0/js/bootstrap.min.js&quot;&gt;&lt;/script&gt;\n",
              "    &lt;script src=&quot;https://cdnjs.cloudflare.com/ajax/libs/Leaflet.awesome-markers/2.0.2/leaflet.awesome-markers.js&quot;&gt;&lt;/script&gt;\n",
              "    &lt;link rel=&quot;stylesheet&quot; href=&quot;https://cdn.jsdelivr.net/npm/leaflet@1.6.0/dist/leaflet.css&quot;/&gt;\n",
              "    &lt;link rel=&quot;stylesheet&quot; href=&quot;https://maxcdn.bootstrapcdn.com/bootstrap/3.2.0/css/bootstrap.min.css&quot;/&gt;\n",
              "    &lt;link rel=&quot;stylesheet&quot; href=&quot;https://maxcdn.bootstrapcdn.com/bootstrap/3.2.0/css/bootstrap-theme.min.css&quot;/&gt;\n",
              "    &lt;link rel=&quot;stylesheet&quot; href=&quot;https://maxcdn.bootstrapcdn.com/font-awesome/4.6.3/css/font-awesome.min.css&quot;/&gt;\n",
              "    &lt;link rel=&quot;stylesheet&quot; href=&quot;https://cdnjs.cloudflare.com/ajax/libs/Leaflet.awesome-markers/2.0.2/leaflet.awesome-markers.css&quot;/&gt;\n",
              "    &lt;link rel=&quot;stylesheet&quot; href=&quot;https://cdn.jsdelivr.net/gh/python-visualization/folium/folium/templates/leaflet.awesome.rotate.min.css&quot;/&gt;\n",
              "    \n",
              "            &lt;meta name=&quot;viewport&quot; content=&quot;width=device-width,\n",
              "                initial-scale=1.0, maximum-scale=1.0, user-scalable=no&quot; /&gt;\n",
              "            &lt;style&gt;\n",
              "                #map_7118454dd77981c1ccd84f04ed69eb51 {\n",
              "                    position: relative;\n",
              "                    width: 100.0%;\n",
              "                    height: 100.0%;\n",
              "                    left: 0.0%;\n",
              "                    top: 0.0%;\n",
              "                }\n",
              "            &lt;/style&gt;\n",
              "        \n",
              "    &lt;script src=&quot;https://cdn.jsdelivr.net/gh/python-visualization/folium@master/folium/templates/leaflet_heat.min.js&quot;&gt;&lt;/script&gt;\n",
              "&lt;/head&gt;\n",
              "&lt;body&gt;    \n",
              "    \n",
              "            &lt;div class=&quot;folium-map&quot; id=&quot;map_7118454dd77981c1ccd84f04ed69eb51&quot; &gt;&lt;/div&gt;\n",
              "        \n",
              "&lt;/body&gt;\n",
              "&lt;script&gt;    \n",
              "    \n",
              "            var map_7118454dd77981c1ccd84f04ed69eb51 = L.map(\n",
              "                &quot;map_7118454dd77981c1ccd84f04ed69eb51&quot;,\n",
              "                {\n",
              "                    center: [0, 0],\n",
              "                    crs: L.CRS.EPSG3857,\n",
              "                    zoom: 1,\n",
              "                    zoomControl: true,\n",
              "                    preferCanvas: false,\n",
              "                }\n",
              "            );\n",
              "\n",
              "            \n",
              "\n",
              "        \n",
              "    \n",
              "            var tile_layer_6b6ed414ea8af41f792c6f12f48b7293 = L.tileLayer(\n",
              "                &quot;https://{s}.tile.openstreetmap.org/{z}/{x}/{y}.png&quot;,\n",
              "                {&quot;attribution&quot;: &quot;Data by \\u0026copy; \\u003ca href=\\&quot;http://openstreetmap.org\\&quot;\\u003eOpenStreetMap\\u003c/a\\u003e, under \\u003ca href=\\&quot;http://www.openstreetmap.org/copyright\\&quot;\\u003eODbL\\u003c/a\\u003e.&quot;, &quot;detectRetina&quot;: false, &quot;maxNativeZoom&quot;: 18, &quot;maxZoom&quot;: 18, &quot;minZoom&quot;: 0, &quot;noWrap&quot;: false, &quot;opacity&quot;: 1, &quot;subdomains&quot;: &quot;abc&quot;, &quot;tms&quot;: false}\n",
              "            ).addTo(map_7118454dd77981c1ccd84f04ed69eb51);\n",
              "        \n",
              "    \n",
              "            var heat_map_97d50bdcbe47007d2c5257b51c0934fa = L.heatLayer(\n",
              "                [[38.23405, -77.502579], [33.94039, -84.35804], [37.16010900000001, -93.316225], [37.769955, -120.904744], [35.886021, -78.679574], [32.718226, -97.479144], [39.51377700000001, -120.979669], [26.31905900000001, -80.17002099999998], [38.004481, -122.520176], [40.096623, -75.297155], [45.583927, -93.333503], [40.219134, -75.246267], [30.483838, -91.088809], [40.855017, -73.939924], [37.8969, -122.101841], [40.69978, -111.89398], [41.030986, -73.749966], [34.02952, -118.22391], [44.53014, -94.82618], [30.573402, -87.02711500000002], [26.482261, -81.814068], [46.216059, -93.116329], [34.018440000000005, -118.28006], [29.963357, -90.073928], [37.27454, -78.11936999999998], [29.362048, -82.138743], [38.25293, -85.65541999999998], [42.646833, -84.056793], [32.992837, -83.847397], [43.03437, -87.92338000000002], [40.3278, -75.55803], [38.664011, -90.502018], [37.905374, -121.183866], [34.04979, -84.58763], [35.692638, -81.813007], [42.721058, -84.50509699999998], [39.17410200000001, -76.727195], [38.77077, -90.24265], [36.92111, -120.0184], [25.925957, -80.159849], [25.747524, -80.33769000000002], [34.06415, -83.127269], [39.151285, -120.145799], [42.582026, -121.922806], [33.89886, -118.37022], [33.382294, -86.80601999999998], [36.56907800000001, -119.78651], [37.813809, -122.361301], [45.129336, -93.362299], [39.252122, -76.683658], [27.69974, -80.90434], [36.215043, -86.593686], [40.674962, -111.807028], [32.379568, -111.046909], [28.179812, -82.440022], [35.716269, -118.727268], [32.655458, -83.442572], [35.25052, -80.84486], [33.546227, -86.74368], [25.735494, -80.335863], [26.328398, -81.805572], [30.237441, -97.725506], [36.141792, -86.713977], [33.87235, -118.05915], [37.461601, -121.178239], [33.45134, -112.0129], [38.694028, -121.001369], [34.357207, -117.43764], [38.007696, -121.352418], [28.591108, -81.476141], [41.373872, -73.610366], [40.897102, -96.610103], [37.68427, -122.471641], [44.087663, -123.067748], [37.403995, -121.877328], [42.40757, -83.07795], [34.050565, -118.214083], [41.91738, -88.037728], [33.687011, -117.919274], [28.552984, -81.394101], [43.027905, -71.174288], [33.967845000000004, -118.282704], [34.002121, -117.351322], [32.70097, -96.82447], [33.912616, -118.125396], [38.920245, -94.764024], [25.8444, -80.20666999999997], [45.15707, -92.99408], [29.436441, -98.492482], [36.591831, -119.646314], [39.055599, -84.62916700000002], [44.951859000000006, -93.122295], [42.32881, -83.08588], [40.99864, -73.91436999999998], [40.5533, -77.59084], [38.414217, -81.551124], [39.770214, -74.325471], [40.63582, -111.90506], [33.690915999999994, -117.923308], [35.09442, -81.0051], [42.47723, -83.19493], [41.580883, -81.447453], [32.667988, -97.298698], [27.926999, -82.32110300000002], [33.874485, -118.062006], [42.72726, -85.67311], [32.657579, -117.073584], [32.344324, -86.324931], [39.04819000000001, -75.45837], [39.530557, -119.731997], [35.757866, -78.6082], [39.957007, -75.15544200000002], [38.902336, -94.678837], [40.076569, -75.159198], [40.7428, -112.18626], [26.334241, -81.80631899999999], [28.488909000000003, -81.64064499999998], [39.214524, -78.137513], [38.342122, -85.805165], [46.47858, -92.71211], [45.214699, -94.317522], [41.96216, -87.87663], [33.605882, -117.875622], [34.467424, -117.348346], [37.798509, -122.275144], [37.081722, -120.494946], [35.83965999999999, -78.676591], [40.097453, -121.510577], [43.491932, -73.767656], [46.541025, -92.620376], [39.485279, -77.34297099999998], [42.248085, -121.791054], [41.835937, -91.663543], [44.9518, -93.15897], [43.200457, -77.638745], [44.90413, -93.274697], [33.936638, -79.138295], [43.314317, -123.347657], [34.913488, -80.982509], [25.823117, -80.206385], [37.031922, -76.37839100000002], [37.42528, -122.09804], [37.980242, -122.055998], [40.740817, -111.990292], [42.161762, -75.893473], [32.819795, -96.87498], [42.67984000000001, -84.65735], [33.52299, -111.98562], [40.821255, -97.693033], [40.9685, -106.22555], [35.044738, -85.305561], [37.694582, -122.14376], [26.542968, -81.83934], [36.654094, -78.556058], [34.800084000000005, -91.753853], [39.04605, -77.191514], [45.691291, -121.765626], [29.40689, -98.51007], [38.671875, -121.371955], [46.068388, -94.324632], [40.582304, -74.33054399999997], [33.834645, -78.882769], [39.72501, -105.18011], [42.1539, -88.03871099999998], [40.738518, -74.06070600000002], [39.314113, -81.478031], [43.196343, -77.557135], [38.877014, -77.274677], [32.887405, -96.703527], [39.95921, -75.17345999999998], [40.484558, -78.400594], [29.739694, -95.433499], [41.77097, -72.67856], [33.461615, -112.072427], [34.628122999999995, -118.15333400000002], [38.000988, -122.053681], [35.259348, -80.874044], [45.59486, -94.146984], [41.021876, -111.925171], [45.784708, -120.045251], [32.840806, -117.13182], [39.567928, -76.979663], [36.109024, -95.886644], [36.851253, -119.790813], [34.02742, -118.037563], [30.46356, -84.31812], [34.030295, -118.223753], [34.346866, -117.449435], [34.108913, -118.194181], [42.97805, -83.7269], [34.074095, -118.122982], [29.966438, -90.120237], [40.784237, -73.62787900000002], [30.774233, -88.096073], [29.730190000000004, -95.42726], [38.679351, -121.333405], [36.575791, -121.913181], [25.688176, -80.332065], [38.941923, -109.626046], [33.7131, -84.27198], [38.89011, -112.416239], [36.34936, -86.7178], [35.319169, -80.808059], [28.40543, -80.70575], [36.341089, -75.954699], [33.913712, -118.114024], [30.008105, -89.994639], [38.83722, -104.7945], [44.932809000000006, -123.148825], [44.10043, -121.30466], [41.39094, -75.73233], [29.729352, -95.433752], [34.2718, -118.34899], [45.17169000000001, -122.52106], [28.088031, -82.465386], [47.159209, -122.463686], [27.710559000000003, -82.335222], [25.79682, -80.337977], [42.167233, -87.836047], [27.944841, -82.535893], [29.81036, -95.37394], [33.646079, -86.97431800000004], [35.234626, -80.937635], [40.505682, -111.890987], [37.379773, -121.827607], [27.793538, -82.334979], [28.792837, -81.347406], [30.516562, -87.272033], [33.612174, -114.599578], [26.14981, -80.722479], [40.760454, -105.174336], [45.107817, -93.188289], [40.819904, -73.890417], [36.928256, -82.637754], [43.49137800000001, -121.678213], [41.32365, -72.32751999999998], [33.80682, -118.15017], [40.84005, -73.92905999999998], [40.918211, -123.833223], [25.94267300000001, -80.203561], [38.683796, -121.452609], [33.994928, -117.36116], [37.5033, -77.44635699999998], [37.537035, -77.428673], [34.035131, -118.333579], [42.04635, -88.26774], [38.425658, -77.42094300000002], [34.239659, -117.429456], [41.665756, -124.112946], [38.812933, -120.031267], [34.703911, -78.998275], [32.73547, -97.43434], [33.413618, -84.16440300000002], [33.763897, -117.92021], [36.10414, -86.715618], [25.701302, -80.35813399999998], [44.573906, -121.98851299999998], [40.788245, -78.235886], [36.270677, -78.60782900000002], [28.356856, -80.70123199999998], [33.665365, -84.497772], [41.60389, -90.66676], [35.057429, -80.849582], [35.80638, -78.73942], [33.003584000000004, -96.712507], [40.811111, -73.83565300000002], [34.80248, -82.375941], [40.679238, -73.803907], [40.794567, -77.86918299999998], [37.964629, -122.325948], [35.158113, -80.970474], [34.32308, -118.475264], [30.051414, -95.174496], [36.849026, -121.452579], [38.60996, -90.45151], [26.085673, -80.203574], [47.282501, -122.30925], [41.24465, -112.0095], [35.129853000000004, -80.914298], [34.06768, -117.58898], [43.953176, -92.065697], [32.691340999999994, -96.846138], [37.80771, -122.36764], [43.059807, -77.651459], [36.7696, -76.25993000000003], [34.121361, -117.352933], [34.405971, -118.694626], [42.47882, -71.11352], [40.310278, -121.170556], [40.05305, -74.17889], [25.76088, -80.418865], [35.195284, -80.877635], [36.945192, -80.95280799999998], [44.994024, -93.283656], [33.463014, -112.176064], [37.058144, -121.58802], [40.68218, -73.69168], [32.236116, -110.873092], [47.467235, -122.228726], [34.76339, -82.47251999999997], [45.009645, -93.132487], [30.392422, -91.161139], [30.428966, -91.060821], [40.642944, -121.160756], [45.94552, -118.38755], [32.833102000000004, -117.233079], [25.812859, -80.205939], [34.01375, -117.5501], [34.19631, -119.069741], [33.75562, -117.85295], [30.04616, -95.43037], [39.102699, -94.572585], [45.56272, -122.6501], [34.215056, -117.291611], [25.920385, -80.191528], [25.785313, -80.215021], [34.34429, -118.50495], [29.981366, -90.076465], [32.89951, -96.89813], [40.90646, -74.16294], [33.97184, -118.37779], [40.462722, -79.99946899999998], [45.55981, -122.17327], [28.05857, -82.738773], [29.107396, -82.076025], [25.62062, -80.37866], [29.55762, -98.34527], [35.884348, -86.476279], [41.4429, -85.944087], [25.684325, -80.41642900000002], [39.720959, -121.523064], [33.172198, -87.521263], [33.74687, -84.38741999999998], [40.100062, -123.794972], [41.435403, -122.382932], [41.55249, -73.59278], [28.450748, -81.392984], [34.930808, -120.373884], [44.096984, -123.110397], [34.724848, -92.289693], [28.60341, -81.539658], [32.698391, -117.138451], [36.157614, -86.759833], [34.17667, -118.4683], [29.794546, -82.495726], [27.923107, -82.40010699999998], [37.90135, -122.31518], [38.857494, -76.993764], [34.089921999999994, -117.302018], [35.20848, -118.53738], [37.946288, -121.297638], [41.87085, -87.869636], [27.947344, -82.328147], [37.6313, -77.56756], [33.018190999999995, -117.272437], [36.605621, -79.315673], [30.686069, -86.78902], [25.787337, -80.19726899999998], [33.370746000000004, -87.69545600000002], [35.20695300000001, -80.713247], [30.60116, -90.99485], [28.191816, -81.30484200000002], [33.557863, -117.662064], [25.941422, -80.19295], [26.05703, -80.16234], [35.407584, -118.859645], [32.199931, -110.797183], [28.494413, -81.396762], [32.2216, -110.90089], [37.769762, -122.38948700000002], [33.56943, -113.35783], [40.4205, -74.21199], [34.072786, -118.466447], [43.197155, -77.658663], [35.02065, -85.36368900000002], [38.927483, -77.033335], [45.116028, -123.2062], [30.428478, -91.171347], [38.574766, -121.380826], [34.017072, -117.817114], [33.80754, -118.20714], [41.57833, -87.63300500000004], [35.815594, -78.691766], [35.007365, -118.941797], [33.767406, -117.867519], [40.710565, -74.263853], [40.438935, -79.75903199999998], [25.924072, -80.15433900000002], [38.869746, -77.303269], [25.626124, -80.417118], [38.89588, -77.097139], [40.807417, -74.182466], [39.35894, -77.16837], [40.576163, -122.36068], [37.24207, -121.76952], [29.732506, -95.381763], [42.014154, -87.924131], [29.614743, -82.34089], [38.957394, -77.017077], [34.033138, -118.145168], [35.202829, -80.734098], [40.17618, -111.64677], [30.144638, -81.76289799999998], [33.856367, -117.785564], [37.120087, -76.50256999999998], [44.824417, -93.291802], [47.62198, -122.18889], [34.06927, -118.04526], [44.974288, -93.287564], [30.436281, -87.31607199999998], [38.439322, -107.344514], [39.57783, -104.8294], [25.769215, -80.36911500000002], [35.16945, -111.66472], [29.978598, -90.068937], [35.380455, -118.940773], [39.05907, -77.04771], [37.503193, -77.08036700000002], [28.483836, -81.45898000000003], [38.45527, -90.53351], [34.499465, -117.34675], [33.844763, -117.542954], [34.861582, -82.252579], [34.216672, -117.288011], [43.164666, -77.664426], [42.280364, -87.952825], [36.95934000000001, -120.062702], [37.776622, -122.235948], [44.024835, -117.005197], [35.376277, -118.967416], [39.724819, -77.72798900000002], [35.707569, -82.568512], [33.904192, -117.460476], [33.85606, -117.98672], [35.22421, -80.89108], [39.830666, -75.761718], [44.031587, -123.858707], [28.698419, -81.30867099999998], [32.938018, -117.241496], [25.714979, -80.380921], [37.881916, -122.308259], [33.77018, -111.96062], [45.501225, -92.993382], [35.163878000000004, -89.864891], [39.308127, -76.946943], [41.073879, -73.470221], [32.909056, -96.736926], [45.649847, -110.860935], [38.418395, -82.259662], [33.77708, -117.899409], [33.581121, -112.064556], [43.63381500000001, -116.35703], [36.22965900000001, -86.83863000000002], [35.192295, -80.873928], [33.904945, -78.84045400000002], [28.542812, -81.414901], [25.948502, -80.148765], [34.506683, -117.400902], [38.291591, -121.312425], [45.710667, -118.990269], [34.145195, -117.277194], [33.47514, -112.169048], [33.67822, -112.11276], [33.858831, -118.033767], [28.605886, -81.38655200000002], [38.597076, -120.960178], [28.49255, -81.428239], [39.596387, -119.833705], [45.661663, -94.695301], [38.86165, -94.52733], [25.937262, -80.28614], [45.5328, -122.66554], [29.988747, -90.079297], [38.93288, -94.63275], [37.782262, -121.530775], [35.36412100000001, -80.838078], [28.598714, -81.415453], [33.916428, -118.285605], [33.531220000000005, -112.11226], [28.02593, -82.56229], [34.120946999999994, -117.890151], [37.896255, -102.612551], [36.16974, -86.60461], [35.012019, -85.226019], [25.685183, -80.418839], [40.950684, -111.420922], [34.108203, -117.198232], [33.81423, -118.17156], [47.589274, -122.320586], [34.023944, -117.55764], [35.144866, -90.022562], [37.310438, -81.06750500000003], [32.9124, -96.89816], [33.88962, -84.2619], [44.858561, -93.298012], [29.230717, -82.103482], [28.341504, -81.39395400000002], [28.451531, -81.400598], [37.89739, -122.0817], [37.514201, -120.921374], [34.031855, -84.045675], [34.593238, -118.149848], [27.894785, -82.700471], [34.014533, -118.281205], [34.14074, -118.70966], [28.031154, -80.65379899999998], [40.2574, -75.63793000000003], [30.248707, -97.735556], [33.781842, -117.879139], [38.882342, -77.018462], [40.9446, -72.8796], [28.610947, -81.414808], [35.864406, -87.903059], [44.595357, -120.25306100000002], [44.089056, -95.743279], [38.57134, -121.5157], [40.595329, -75.32950699999998], [39.7451, -105.01756], [34.960419, -82.358149], [40.20355, -111.65527], [33.83174, -118.25609], [38.272859, -122.670889], [39.023723, -121.099303], [26.528056, -81.869772], [42.754049, -73.933524], [34.024231, -118.276167], [32.872578999999995, -96.665581], [33.004166999999995, -117.091397], [38.581481, -121.40156], [44.250816, -94.38686], [29.663344, -95.312119], [38.562208, -121.487224], [39.23895, -104.87727], [43.34316, -122.734308], [34.953509999999994, -89.48461], [29.619243, -95.478108], [38.247796, -122.629727], [34.573148, -82.716311], [29.85122, -95.50942], [32.439262, -100.51376], [39.176065, -123.183386], [39.102262, -94.593984], [40.67438, -73.80155], [29.60184000000001, -98.54286], [41.583956, -72.713174], [35.0599, -80.812893], [28.412233, -81.343327], [32.490982, -93.786537], [47.67773, -122.32065], [34.578423, -112.363299], [38.415195, -122.716428], [37.78176, -122.39721000000002], [25.840756, -80.369128], [25.596491, -80.421555], [30.04793, -95.183167], [33.466685, -111.90896], [45.535057, -122.583292], [46.7155, -95.70925], [38.964094, -77.15893299999998], [29.601806, -95.216182], [26.384840000000004, -81.80846700000002], [27.40495, -80.39881], [35.66393, -86.42142], [25.688437, -80.31718599999998], [34.064575, -118.000208], [39.062082, -121.613011], [30.318092, -81.727498], [33.889034, -84.255427], [33.012361, -96.843536], [25.835339, -80.20619], [42.09584, -75.81396], [47.85291, -122.25628], [34.021834000000005, -84.324285], [37.160279, -121.984579], [39.67053, -75.71061], [33.86867, -118.00278], [33.897009999999995, -118.10479], [30.32865, -81.64407], [33.996642, -117.946683], [43.596521, -116.35465], [43.18192, -77.43073000000003], [47.15831, -122.42812], [25.861828, -80.20821600000002], [30.36519, -90.09363], [29.719045, -95.548789], [40.634773, -111.90519], [34.13627, -117.425709], [25.447786, -80.49339499999998], [34.12050900000001, -117.872326], [30.188540000000003, -97.617924], [40.74593, -73.77247], [33.477169, -86.92504], [40.1121, -75.287125], [32.64516, -96.78961], [28.61645, -81.47614300000002], [38.021623, -122.102612], [40.168708, -74.919451], [40.977834, -123.641799], [37.336596, -121.85723], [30.440598, -84.31716899999998], [40.061586, -76.30595699999998], [30.617612, -86.96561899999998], [29.73281, -95.501301], [42.33035, -71.06130999999998], [40.241933, -76.88906800000002], [45.031921, -93.19116], [40.863701, -75.29536800000002], [33.922082, -117.88031399999998], [39.97725, -76.66074], [34.026808, -118.273011], [25.806985, -80.264133], [28.597322, -81.299982], [45.377319, -122.099828], [28.5585, -81.44901999999998], [39.465529, -77.511174], [39.365419, -94.37347], [44.345706, -124.095232], [34.176638, -118.865693], [39.832189, -86.035945], [37.699536, -121.789057], [34.329737, -117.397976], [35.747352, -78.59889100000002], [32.199753, -110.80615], [34.010544, -118.127644], [34.027588, -118.452423], [25.700047, -80.413232], [43.153665, -77.49454899999998], [33.97465, -118.28099], [33.837118, -117.296361], [44.090591, -93.954063], [40.70836, -111.90396], [33.694618, -117.771257], [33.997217, -117.863932], [38.66832, -121.54107], [41.840304, -87.919839], [42.137543, -122.636136], [25.592658, -80.378537], [34.852377000000004, -89.987672], [33.423274, -86.958986], [34.02528, -117.77485], [32.748967, -117.15578899999998], [40.748155, -74.212664], [34.018440000000005, -118.28006], [34.187886, -118.322044], [34.837658000000005, -82.431106], [45.77775, -123.42309], [33.930977, -118.29081], [33.854107, -117.919957], [40.0854, -75.39824], [44.047894, -88.781322], [47.50458, -121.88454], [33.773549, -117.871531], [28.259749, -81.436207], [41.17805, -95.93925], [43.33891, -119.6969], [33.921908, -118.36911299999998], [38.580046, -121.505151], [28.090515000000003, -82.739393], [41.062012, -77.42811], [38.711054, -121.042148], [33.9187, -118.08138], [28.515338, -81.401218], [29.89504, -95.412064], [32.159517, -81.433026], [40.342858, -78.403637], [27.388188, -82.460909], [36.98861, -121.4909], [37.595247, -122.05833], [46.95094, -95.10047], [45.5882, -94.05167], [48.006681, -122.106996], [38.62588, -90.16449], [37.875686, -122.0459], [39.327716, -120.275422], [33.875533000000004, -117.545748], [29.955890000000004, -95.41851], [35.01547, -85.25375], [37.38608, -77.44556999999998], [25.936632, -80.193405], [37.830556, -122.293778], [39.703541, -86.08278], [35.839976, -78.6771], [25.950008, -80.14885], [39.498091, -77.57101800000002], [28.452957, -81.47766899999998], [40.08262, -104.98024], [29.766790000000004, -95.36639], [37.830673, -122.293358], [26.232028000000003, -80.136344], [28.49478, -81.43555], [38.474839, -122.731286], [38.510465, -121.443201], [32.997834999999995, -117.083023], [38.991112, -105.048686], [33.46552, -111.79457], [41.805139, -85.34071800000002], [29.731031, -95.404125], [35.215548, -113.254805], [33.945445, -80.761309], [40.731865, -73.321455], [45.58544000000001, -94.94706], [39.94215, -83.49958000000002], [29.751363, -95.625166], [40.520571, -74.29441], [37.798086, -121.917919], [33.994063, -117.889553], [33.755959999999995, -117.853829], [27.454831, -82.570908], [45.46422800000001, -108.882976], [39.845165, -75.537603], [33.974771000000004, -118.256391], [33.598263, -112.271813], [34.071740000000005, -117.8772], [35.99037, -78.53018], [48.04373, -122.18111], [41.069978000000006, -74.053589], [41.381487, -75.558755], [29.23182000000001, -98.603123], [32.712854, -97.320681], [37.59359, -121.89201], [41.875773, -87.918745], [37.914472, -87.04074], [41.033772, -78.432058], [33.3693, -117.250407], [42.2318, -83.5811], [43.02855, -88.07368000000002], [40.189285, -110.086085], [43.191788, -77.462366], [39.979522, -75.26875], [42.23843, -71.02396], [33.953728000000005, -117.648856], [32.78033, -97.21251], [42.96259000000001, -87.94232], [25.808082, -80.33725600000002], [45.738873, -110.207605], [39.975893, -75.888289], [40.849747, -73.94315300000002], [40.079572, -111.659197], [32.786314000000004, -96.790732], [44.704281, -92.832165], [45.072908, -93.313712], [33.991021999999994, -117.929335], [35.100259, -85.228824], [32.933598, -117.254206], [32.860118, -96.854106], [34.139326000000004, -118.760372], [40.77133, -74.15678], [40.963017, -76.357628], [37.58461, -77.44722], [38.063948, -122.160771], [40.65108, -74.011163], [25.871036, -80.210001], [43.141626, -76.11468599999998], [38.686405, -90.245677], [30.13789, -82.631966], [39.967529, -76.17590600000003], [39.051068, -76.979484], [26.121457, -80.183461], [32.228825, -110.896874], [34.020334000000005, -118.156951], [34.674665000000005, -82.53668], [40.678881, -74.002983], [43.61799600000001, -122.08081], [38.217498, -122.136136], [40.713505, -111.81233], [39.6838, -84.22976], [38.948625, -94.36184], [40.44872700000001, -78.346352], [37.492857, -120.967467], [42.277593, -88.154273], [40.329083, -111.736074], [41.544746, -87.04614699999998], [33.574374, -112.016834], [27.051151, -82.408098], [33.896871999999995, -86.635432], [39.65994, -80.0111], [37.02561, -120.137418], [36.805365, -119.785425], [25.816533, -80.36975100000002], [33.774384999999995, -118.102004], [25.890169, -80.188806], [33.74323, -84.37226], [43.682551, -116.354033], [38.678526, -121.429125], [33.92564, -118.32161], [40.09973, -82.92102], [42.23729, -88.1125], [33.64007, -117.08501], [37.193481, -93.317351], [42.398169, -122.190895], [25.851677, -80.20778], [34.026761, -118.430138], [37.76493, -121.41069], [34.100065, -80.95870500000002], [34.03448, -118.26679], [38.66092, -121.356151], [33.871225, -117.880307], [33.691044, -117.340962], [29.86638300000001, -81.32298399999998], [34.178563, -118.88176], [28.835035, -81.319344], [40.829099, -73.686913], [36.725785, -119.235814], [43.113829, -75.275616], [29.665714, -81.293109], [41.04719, -75.314836], [35.129343, -85.214303], [33.720420000000004, -78.93005], [38.35797, -81.63186999999998], [39.91327, -74.211387], [30.24057800000001, -97.756431], [32.840887, -117.134849], [26.612627000000003, -81.810574], [46.427334, -120.34064], [25.706468, -80.36644799999998], [37.46454, -77.42541999999997], [37.983279, -122.041637], [39.345363, -76.74501500000002], [41.301115, -74.133971], [29.252225, -81.114474], [32.404807, -85.96257800000002], [44.890487, -93.294617], [37.25404, -121.9476], [26.46674, -80.08927], [28.06587, -82.45461], [35.154709000000004, -78.86988000000002], [28.863735, -82.487884], [40.72575, -111.99293], [37.250266, -77.456907], [33.807672, -84.41707], [41.062092, -77.214568], [25.954401, -80.238292], [38.334056, -121.468073], [40.844065, -73.925967], [33.982547, -118.395141], [35.411113, -119.053398], [33.991512, -118.066293], [47.645615, -122.034774], [38.87626, -104.83577], [26.543347, -81.871341], [30.07083, -95.94057], [34.36333, -81.076789], [38.923441, -76.9672], [37.743949, -122.405578], [38.193974, -78.305495], [38.494548, -121.147073], [34.18668, -118.390196], [37.704444, -97.319192], [39.365607, -76.964431], [40.133217, -75.51299499999998], [36.518223, -119.655884], [35.796299, -78.55350200000002], [36.156542, -86.775863], [26.058486, -80.162999], [44.81948, -92.86284], [38.55587, -121.442377], [36.946686, -119.506351], [33.462482, -112.236388], [36.336339, -86.867888], [37.725087, -77.449826], [32.70309, -117.11522], [25.73598, -80.26214399999998], [32.359507, -95.310183], [34.173274, -118.306471], [33.988139000000004, -118.070784], [26.185261, -80.152076], [40.859516, -73.975313], [38.832916, -77.008365], [33.76767, -112.128793], [37.93065900000001, -121.296045], [36.860928, -121.687809], [33.863222, -117.539192], [35.36503300000001, -81.420454], [35.2385, -111.82806], [41.05981, -73.84049], [34.193944, -118.415478], [25.671568, -80.432707], [40.57264, -111.725249], [36.078417, -119.57196100000002], [40.71954, -111.86471], [34.162678, -118.605836], [38.137857, -121.260823], [42.981658, -83.674385], [36.61269, -121.56712], [38.87895200000001, -76.994978], [42.860548, -83.591144], [35.784807, -78.688068], [37.54343, -122.0203], [40.725888, -112.018832], [45.566605, -117.971546], [25.68383900000001, -80.40053499999998], [39.782528000000006, -77.691079], [33.892096, -79.055543], [25.925027, -80.169989], [36.606572, -119.662673], [28.513354, -81.458956], [39.377349, -75.730744], [30.40674000000001, -91.125084], [45.032004, -93.452657], [32.875889, -117.228938], [33.318556, -86.786875], [39.74899, -84.13378], [25.64728, -80.333658], [45.209544, -121.698957], [42.932714, -74.242225], [39.355894, -94.764673], [29.592031, -95.242381], [37.56898, -77.478786], [45.13883, -94.82015], [32.764758, -96.933648], [34.059368, -118.185151], [25.793708, -80.321077], [33.876476000000004, -118.102058], [39.00508, -94.694348], [34.246426, -77.868394], [38.471754, -121.825547], [25.810617, -80.14191600000002], [40.2718, -111.71576], [33.952487, -118.090466], [33.973409000000004, -118.080372], [33.938528000000005, -117.877002], [38.353443, -78.92976999999998], [40.48517800000001, -78.72499], [43.153505, -77.47532199999998], [39.242546, -76.671231], [34.120038, -117.819526], [34.023069, -79.841629], [34.268463, -117.454592], [26.30028, -80.12071999999998], [40.790485, -77.622718], [33.88468, -78.68731], [33.964690000000004, -118.16889], [37.463146, -77.530804], [37.911011, -122.323141], [25.890398, -80.183704], [33.975091, -84.532691], [45.036941, -92.793599], [28.47112000000001, -81.39655], [34.345322, -117.445278], [43.07263, -76.05332], [34.072387, -117.941773], [32.83317, -96.61265], [45.572741, -93.193191], [44.86176, -93.29826], [34.433539, -118.385685], [37.25304000000001, -121.84201000000002], [36.134259, -93.661684], [40.671476, -111.460219], [32.715494, -117.123139], [32.820732, -96.875895], [34.073455, -118.219239], [34.23008, -79.79921999999998], [38.838036, -104.81775], [28.449837, -81.473338], [34.073019, -118.2194], [37.102201, -76.492166], [41.031089, -111.94763], [40.13337, -75.20494000000002], [37.891506, -121.493647], [42.65591, -73.743656], [37.739764, -121.368659], [27.388818, -82.453604], [39.037336, -94.362089], [34.067498, -117.528272], [42.9735, -85.63525], [26.679817, -81.80646999999998], [38.93533, -94.720042], [34.452238, -82.35892700000002], [25.689243, -80.365895], [40.755515, -73.886315], [27.484265, -82.41594], [37.761364, -122.406105], [37.648207, -76.389803], [35.915454, -78.68686], [36.976343, -121.907097], [32.733486, -117.17163899999998], [37.160236, -93.387072], [35.036505, -118.352161], [29.52445, -95.12735], [40.006657, -75.703353], [28.354825, -81.238967], [38.052397, -122.22631], [32.786306, -96.711337], [38.714372, -121.415925], [34.86933, -82.23096], [41.588164, -73.907591], [28.522539, -81.314524], [41.21789, -84.58715], [34.09208, -118.20634], [43.094593, -75.193889], [33.764666, -80.964184], [33.462070000000004, -112.203272], [25.765681, -80.263418], [35.077807, -89.911705], [33.930913000000004, -118.17868], [44.543608, -93.584129], [34.046939, -117.774203], [34.740673, -86.664722], [35.092939, -118.914674], [42.41901, -122.066283], [37.78699, -122.389859], [37.725001, -122.401592], [37.789223, -122.200599], [25.768199, -80.381697], [41.81335, -87.6297], [33.401429, -81.782492], [32.7438, -96.72415], [34.467426, -117.34835], [41.66834, -83.57115], [39.28492, -84.42097], [34.696723, -89.965599], [29.69865200000001, -95.284434], [34.74944, -117.29703700000002], [38.438076, -121.415921], [28.175083, -81.30233100000002], [32.392086, -86.32611700000002], [35.44277800000001, -118.791667], [33.767109999999995, -84.52608000000002], [26.54619000000001, -80.12286], [38.9411, -94.84781], [33.97544, -117.85823700000002], [25.948834, -80.148787], [34.89124, -82.19594000000002], [28.087978000000003, -82.450738], [33.644393, -117.981536], [34.21734, -80.59755], [40.256478, -123.824798], [43.04498, -87.92618], [36.86212, -76.4318], [37.76281, -121.43275], [35.411113, -119.053398], [41.562389, -93.883531], [34.263745, -119.034592], [36.21853, -115.27419], [44.620325, -123.648583], [40.713669, -111.804996], [34.018896000000005, -117.539684], [33.76774, -84.5322], [41.04598, -111.91006000000002], [26.667801, -82.151779], [35.457457, -119.477953], [26.260612, -80.13323000000003], [37.463575, -121.90353], [35.303216, -119.052257], [39.533668, -121.433826], [30.475009000000004, -87.255988], [44.55274, -90.537579], [32.786282, -96.804732], [37.766212, -78.870138], [38.412677, -85.764888], [28.880583, -82.364436], [36.176499, -96.010183], [32.394007, -87.087923], [36.259391, -86.713204], [38.806172, -77.059579], [27.429345, -82.574479], [37.72355, -122.1814], [41.92321, -78.568304], [42.354276, -122.869753], [39.508327, -106.143733], [33.930898, -118.345576], [30.444016, -97.664624], [44.952396, -93.273206], [39.03601, -94.541286], [39.12382, -104.86469], [46.04725, -112.449177], [27.196301, -80.400577], [40.563551, -74.323421], [32.758923, -117.209218], [42.20626, -87.98982], [47.655951, -117.323061], [34.067445, -117.580526], [28.539219, -81.284646], [34.146921, -117.33274], [40.493145, -123.599125], [25.787663, -80.213391], [25.90316, -80.324616], [40.747823, -122.92119], [30.288343, -97.752811], [39.68359, -104.94067], [40.081828, -75.183549], [33.876940000000005, -118.151233], [33.87277, -118.273862], [40.72575, -111.99293], [29.644440000000003, -95.500398], [33.08852, -80.65088], [30.332588, -91.757812], [26.444271, -80.089646], [28.385729, -81.506292], [43.937544, -122.853466], [35.828159, -78.622147], [40.06056, -82.90513], [39.338892, -123.312494], [40.73547, -73.85982], [39.265241, -121.538897], [34.065555, -117.320133], [37.203861, -93.275997], [44.968317, -93.088585], [33.689884, -117.768519], [32.9261, -96.83029], [30.064119, -89.93967099999998], [41.72072, -88.03375], [28.207343, -81.307357], [41.89799, -87.65919], [41.802529, -96.387784], [39.017182, -94.7855], [37.585621, -77.427464], [42.816864, -73.766959], [38.541206, -121.473732], [25.963315, -80.151659], [32.768856, -96.810409], [28.467373, -81.439655], [27.73336500000001, -82.74514], [29.80154000000001, -82.51384], [44.181292, -93.948848], [34.343027, -117.451645], [32.73272, -97.383598], [40.683586, -73.65519499999998], [41.10725, -80.88259000000002], [33.106546, -80.152046], [34.274208, -118.54679], [33.393892, -111.684632], [44.56392, -123.23884], [36.853669, -120.776449], [30.23388, -97.86468], [33.6901, -117.76829], [36.172699, -86.765297], [37.622482, -121.020877], [28.567595, -81.20780400000002], [45.730494, -93.168622], [30.948089000000003, -87.86175300000002], [32.798324, -96.818726], [39.46563, -122.195604], [43.073117, -77.457286], [25.963083, -80.15353499999998], [37.594774, -122.230093], [28.069332, -82.458555], [45.50068, -120.17606], [34.038429, -118.273828], [40.69986, -111.8165], [38.34862800000001, -122.329018], [28.206152000000003, -82.663866], [47.64072, -122.34646399999998], [42.008409, -87.901865], [44.63832, -93.297454], [25.766087, -80.23893000000002], [38.673441, -121.634014], [40.112762, -76.299693], [40.73873, -73.60946], [32.93987, -96.7461], [35.75644000000001, -78.67153], [35.081648, -85.232636], [25.972845, -80.20515999999998], [42.937336, -85.65383100000003], [34.49892, -117.807386], [43.071224, -93.343223], [35.043229, -85.290193], [31.586340000000003, -89.52530300000002], [30.394018, -97.921363], [48.494319, -122.348324], [34.031521999999995, -118.052348], [39.04856, -94.64327], [25.890334, -80.185466], [42.43983, -83.21961], [44.745973, -117.803531], [26.136677, -80.166439], [34.102925, -118.194952], [41.61671, -87.082247], [25.903789, -80.310181], [42.95191, -78.75185], [33.601244, -86.650725], [36.180099, -86.76904499999998], [30.890885, -85.67440400000002], [33.943143, -118.130765], [40.08873, -75.40526], [35.86871, -87.9695], [34.081699, -117.71548], [41.10324, -96.2533], [34.094637, -81.157039], [39.949396, -76.736298], [28.449924, -81.479136], [41.88888, -88.08225], [43.048582, -88.21122], [40.148267, -120.294883], [34.344565, -117.447272], [32.160393, -80.728207], [35.08729, -80.81248000000002], [44.817148, -93.596853], [33.786019, -117.884328], [30.556103000000004, -91.617416], [28.876140000000003, -81.28299], [40.01953, -75.14468000000002], [38.852993, -94.528807], [25.813649, -80.268388], [45.515339, -122.694823], [27.893693, -82.730625], [36.385378, -119.394597], [40.42883, -79.93045], [36.963529, -76.412724], [33.974111, -118.224101], [38.662164, -121.359022], [33.772420000000004, -84.3833], [37.638922, -77.469943], [32.651986, -96.764802], [27.642009, -81.543518], [41.033725, -111.9478], [37.63491, -122.0869], [25.854683, -80.32346], [35.20792, -80.87626], [28.57501, -81.26467], [28.421394, -81.400216], [25.90354, -80.21027], [30.006078, -90.059599], [40.019087, -78.501841], [40.126414, -121.572354], [39.207349, -120.79013700000002], [36.963466, -121.97487], [45.266201, -93.719539], [32.65527, -117.10614], [38.835701, -76.869444], [43.41466, -123.32654], [34.152556, -118.115934], [34.154522, -118.396384], [34.709045, -82.496349], [35.70335, -78.58887], [30.019855, -81.482057], [38.553795, -121.406884], [25.796996, -80.334137], [33.510953, -81.86918], [28.552682, -81.415942], [45.151072, -122.882198], [38.526744, -121.326593], [39.033337, -76.85226], [38.659641, -120.964702], [25.944243, -80.35664799999998], [33.462134000000006, -112.023993], [25.809384, -80.323373], [42.19714000000001, -87.9896], [40.045635, -76.42231], [45.11107, -123.30455], [32.689722, -117.165981], [28.663855, -82.146266], [37.23259, -93.275057], [40.667651, -111.9388], [28.195193, -82.465115], [32.8984, -96.71493], [28.400459, -81.244401], [38.055707, -78.115912], [44.028055, -92.688261], [34.02871, -84.57507], [38.46493, -77.408282], [36.744818, -121.770284], [40.837989, -73.182468], [30.55127, -91.044002], [25.774661, -80.328778], [44.882555, -93.161124], [40.692427, -98.898256], [33.87013, -118.340359], [34.050204, -117.41382], [33.974727, -118.235034], [32.889671, -96.707425], [28.44618, -81.47417], [27.57387, -82.51437299999998], [34.079367, -118.291686], [33.93862, -117.40016], [25.59125, -80.369152], [37.31963, -80.039806], [37.929536, -79.231392], [34.196735, -117.36883600000002], [37.994255, -122.296122], [28.456939, -81.470812], [25.742691, -80.335643], [33.989533, -118.40071299999998], [45.552267, -122.726747], [33.99777, -117.3682], [32.848838, -117.262814], [39.61416, -84.19093199999998], [33.591625, -117.67156], [44.983215, -93.460021], [33.956433000000004, -117.306314], [37.868105, -122.195924], [38.28735800000001, -77.270127], [43.001915, -78.415614], [34.377539, -118.493509], [40.69946, -73.98415], [27.196303000000004, -80.400576], [27.388812, -82.455656], [32.979911, -80.08082900000002], [27.887965, -82.650293], [33.275911, -111.88907], [38.515538, -111.831319], [40.060102, -75.302888], [25.885244, -80.123532], [25.761083, -80.385193], [45.849632, -119.310934], [35.806082, -78.724695], [39.14219, -84.61915], [34.016797, -118.174601], [40.51991, -74.28258000000002], [25.780017, -80.340225], [35.665781, -78.698903], [28.454159000000004, -81.399799], [34.557371999999994, -79.424684], [38.504862, -121.433321], [44.4335, -88.10776], [33.824203000000004, -118.242455], [36.823362, -121.780022], [43.634232, -116.632734], [40.191639, -74.024574], [43.892215, -92.718526], [40.69676, -111.95815], [33.87362, -118.25425], [38.7036, -121.338426], [34.059771999999995, -80.922161], [42.175295, -122.671532], [32.876922, -117.185227], [33.711319, -117.783387], [37.337631, -121.897857], [25.076011, -80.461392], [41.31878, -74.11429], [41.9507, -74.0234], [28.598774, -81.41534200000002], [39.63194, -77.80884], [37.89741, -122.311741], [32.23595, -110.927513], [44.524094, -120.369867], [32.880140999999995, -96.777542], [38.002086, -84.519888], [32.713111, -117.137936], [45.736857, -123.200541], [32.792504, -96.682618], [25.890169, -80.188806], [43.354862, -124.201293], [37.652357, -121.159], [30.4575, -91.09909], [45.623436, -118.660695], [28.59717, -81.30736999999998], [39.021244, -76.945552], [41.730844, -72.61880699999998], [37.385401, -121.976136], [34.036970000000004, -118.08877], [37.694519, -122.05625], [41.86414, -87.91763], [39.596256, -76.25938000000002], [34.535833000000004, -92.684773], [34.05087, -118.45909], [37.323792, -77.336333], [37.550977, -77.428505], [33.69712, -79.112], [29.59220800000001, -95.138082], [40.52832, -74.33688000000002], [39.222934, -76.720036], [45.58462, -122.54392], [42.370781, -87.89820300000002], [30.094311, -97.693913], [43.034731, -89.405654], [36.243048, -86.78524300000002], [25.685333, -80.36610300000002], [33.783126, -118.22682], [42.240401, -87.94580500000002], [33.994067, -117.901106], [33.765953, -117.933779], [41.24316, -73.1093], [46.891247, -112.115617], [28.269033, -81.605654], [38.680763, -77.78742199999998], [45.06517, -94.13612], [27.208244, -81.30591700000002], [45.58352, -122.76803999999998], [45.569743, -123.943752], [39.070249, -94.515878], [26.767282, -81.929519], [43.5623, -124.20571], [27.388156, -82.46296600000002], [36.131219, -86.756264], [29.835991, -95.5637], [33.731612, -117.400952], [38.242861, -121.369239], [25.62762, -80.341566], [41.626479, -72.688529], [35.106572, -85.104431], [38.99269, -76.51861], [25.729909, -80.317988], [38.63652, -121.309504], [35.534706, -78.593355], [41.151214, -77.169044], [35.77956, -78.7513], [33.978543, -117.291332], [42.008253, -93.564516], [33.994868, -118.404566], [33.690109, -117.768278], [32.673286, -117.082611], [33.89881, -84.248136], [33.910976, -117.88374], [30.166302, -97.692425], [37.762923, -121.967445], [34.30836, -117.470551], [44.743933, -123.913475], [32.82633, -96.78401], [37.701642, -121.911281], [26.62223, -80.06739], [43.64594500000001, -73.76356899999998], [29.902049, -97.904223], [38.029764, -122.116631], [33.495736, -80.837126], [25.942296, -80.30827], [33.882333, -117.588181], [43.003988, -82.44099], [33.970835, -81.12808299999998], [25.926862, -80.188198], [42.77823, -121.83669], [40.434356, -120.280966], [40.364654, -111.791555], [43.7941, -93.30546], [45.501265, -122.674083], [35.861326, -78.814902], [33.98514, -118.13451], [33.968167, -118.167854], [25.896844, -80.254777], [44.925692, -122.65693], [45.32572800000001, -93.003431], [44.00698, -123.020526], [40.720642, -74.232763], [40.538531, -121.595531], [33.750378000000005, -117.845033], [38.421925, -78.881394], [43.85118, -122.65958], [33.936563, -93.251663], [28.603669, -81.407127], [29.78026400000001, -95.369206], [38.847312, -77.428963], [31.39994, -81.44782], [34.22045, -117.3992], [38.93343400000001, -94.620013], [41.060403, -78.44941], [44.891826, -93.246853], [34.9441, -81.054511], [25.829525, -80.200203], [33.89098, -84.46149], [34.029416, -117.715042], [37.489824, -121.929538], [34.06434, -118.25069], [29.447017, -98.479803], [38.137936, -122.470169], [25.768256, -80.33629599999998], [34.827637, -82.293222], [44.156874, -123.200844], [38.150506, -122.450047], [37.992344, -121.252722], [41.814769, -87.914067], [43.22371, -71.50844000000002], [37.70084, -121.816288], [36.874184, -76.423286], [32.714348, -96.762367], [45.745643, -107.828418], [35.897785, -78.60934], [37.827495, -122.28368600000002], [45.5136, -92.99311], [33.67302, -111.98857], [29.940599, -90.101122], [33.790491, -84.496581], [45.11675, -93.30657], [36.876374, -76.264046], [33.012038000000004, -80.11319499999998], [38.97081, -94.51759], [36.930596, -76.406869], [33.751935, -117.845842], [38.232501, -78.971587], [35.644463, -120.643311], [25.596091, -80.355253], [37.780051, -122.171556], [40.70825, -73.62453000000002], [32.92465, -96.7682], [34.145745, -117.296463], [27.478814, -82.555829], [39.548817, -76.666878], [39.597637, -119.835043], [35.028115, -80.808552], [38.022533, -78.544811], [41.8759, -87.64766], [25.685908, -80.39580600000002], [37.663072, -121.907575], [43.627706, -121.538711], [25.760893, -80.39527199999998], [40.32885, -111.63719], [38.838747, -77.008773], [44.649392, -117.563248], [39.827447, -104.984807], [40.71087, -74.16688], [34.04994, -81.10564000000002], [37.7961, -122.26892], [32.777296, -117.162657], [45.667408, -120.838955], [33.749590000000005, -84.2313], [32.757109, -117.106109], [43.12742100000001, -75.324035], [45.3699, -93.984104], [41.856569, -72.663327], [35.21880200000001, -80.686403], [25.651245, -80.38385], [47.028592, -114.741202], [44.95732, -120.97894], [32.863859000000005, -117.110669], [37.814567, -122.300172], [38.666823, -121.27225], [43.579599, -83.89455600000002], [40.76764, -73.71449], [34.02884, -118.43174], [38.606839, -122.59667], [29.866078, -81.341533], [27.563656, -80.367851], [34.06401, -117.9991], [26.232529, -81.73638199999998], [33.377736, -117.564143], [37.645664, -77.590991], [38.6095, -121.50976], [37.00593, -121.51095], [27.335669, -82.53099300000002], [33.955532, -84.516566], [44.713681, -73.465398], [41.64346, -124.114627], [42.063794, -122.60285], [25.656331, -80.412249], [32.89311, -96.89794], [36.170552, -86.80465699999998], [28.551056, -81.44750400000002], [27.896808, -82.347561], [35.756011, -78.601366], [40.760245, -124.145429], [44.56223, -68.71287099999999], [33.995464, -118.145272], [25.649586, -80.331565], [37.667237, -77.485359], [34.022099, -118.173176], [30.248389000000003, -81.76615100000002], [41.46699, -73.82125], [34.183468, -118.472908], [33.788291, -117.742785], [41.453341, -76.316638], [34.157623, -118.411469], [33.8563, -117.98712], [48.23119000000001, -122.29735], [35.219285, -80.852227], [45.429408, -122.565562], [42.30106, -83.11998], [29.392724, -98.511462], [38.302847, -121.231494], [45.43372700000001, -122.565988], [44.828521, -123.229383], [33.764754, -117.920216], [40.686886, -111.896405], [40.67125, -111.80512], [33.929352, -118.227803], [40.668329, -112.283781], [34.160517, -118.829745], [30.355756, -97.689063], [40.003575, -76.367855], [39.30946, -76.95798], [34.059483, -118.001377], [40.80968, -73.93488], [35.744994, -84.266005], [44.086557, -121.30081], [33.38612, -111.84627], [35.46037000000001, -97.63287], [38.64746, -121.52873999999998], [39.918714, -74.979774], [34.081741, -117.712788], [33.974727, -118.239541], [39.68883, -105.882273], [44.56608, -123.258831], [30.37095900000001, -97.704416], [26.60365, -81.850627], [37.753963, -122.207973], [34.226583000000005, -118.379893], [45.458655, -122.786527], [28.41162000000001, -80.829237], [34.173525, -118.55626200000002], [29.974854, -90.107414], [47.579377, -122.318999], [42.971823, -83.767016], [34.602719, -86.98004], [34.030952, -118.391111], [39.95933, -75.17341], [45.20094, -123.161654], [25.889251, -80.20924000000002], [36.011563, -83.843654], [41.312466, -75.755163], [34.067237, -118.163261], [27.07440200000001, -82.425102], [44.890877, -122.994099], [37.90198400000001, -121.285403], [37.33453, -122.02868], [44.86132, -120.92586], [40.80658, -73.933364], [28.468802, -81.417358], [32.857892, -96.812463], [37.64068, -77.40828], [39.693994, -75.624714], [36.904643, -77.399311], [27.77213, -82.65802], [26.005365, -80.215144], [38.15063, -85.76829000000002], [44.55592, -123.41238], [42.15425, -88.03914], [34.42819, -119.73662], [34.068348, -117.981621], [40.708508, -73.842574], [34.08807, -118.23595], [32.956677, -96.821865], [39.301775, -76.50135300000002], [45.01005, -93.17047], [41.160761, -74.184783], [33.975726, -118.248213], [37.89687, -122.1022], [39.593883, -104.884192], [33.885393, -118.285234], [37.506698, -122.483102], [34.070802, -119.012414], [38.937629, -77.11784], [25.939703, -80.188672], [25.924424, -80.31085300000002], [32.887905, -96.705061], [35.07412, -90.004388], [45.51835, -122.56613], [37.68983, -122.062275], [34.005253, -117.964825], [32.633109999999995, -117.04608], [37.966448, -122.322988], [32.811645, -96.853483], [41.922937, -122.576297], [34.433499, -117.62072], [33.910042, -118.104904], [37.76424, -122.21704], [36.80285900000001, -76.19809599999998], [45.50221, -118.42226], [40.321686, -79.695095], [35.848411, -78.580247], [37.247997, -76.639218], [33.1304, -117.11769], [34.006021999999994, -117.92963799999998], [34.000219, -117.352602], [43.024251, -83.59547099999997], [40.838402, -74.01915100000002], [41.66267, -87.59124], [35.76778200000001, -78.515263], [25.627141, -80.383572], [40.792877, -73.793423], [42.941098, -85.645175], [28.05531400000001, -82.45467099999998], [37.712172, -120.958445], [28.508332, -81.508455], [38.995269, -77.027232], [38.557257, -121.393901], [25.81088, -80.18234], [37.90266, -122.514501], [38.19815, -85.70397], [37.552525, -77.47882800000002], [40.429034, -79.998307], [40.184049, -76.191895], [26.7108, -80.07975], [41.55122, -87.78658], [38.659106, -121.305594], [39.029499, -123.140205], [33.46723, -117.67063], [38.91313, -76.85022], [42.389794, -83.470085], [37.572673, -77.575696], [33.848641, -117.964866], [37.369756, -120.626137], [28.385324, -81.40444000000002], [26.667296, -81.88610899999998], [39.670691, -75.599587], [38.902984, -77.05142099999998], [37.539993, -76.432262], [41.814334, -112.35376], [37.68947100000001, -122.39835], [37.8986, -122.07079], [37.159636, -93.23081], [36.181328, -86.749411], [38.882969, -77.22241600000002], [35.202938, -80.738854], [37.2516, -79.187095], [25.8893, -80.165947], [26.110636, -80.297359], [32.235923, -110.964885], [28.47256, -81.396535], [38.953218, -121.038984], [38.572536, -77.330371], [39.273216, -86.522918], [25.700708, -80.378998], [39.03549, -94.50008], [33.937121000000005, -117.15671100000002], [28.401674, -81.483173], [36.800587, -76.188801], [34.063957, -81.138657], [38.650363, -121.078637], [33.851007, -117.814497], [38.655113, -121.033669], [27.98073, -82.45416999999998], [32.480976, -93.785004], [39.573666, -121.711739], [30.364691, -81.668867], [33.775772, -117.853043], [29.772845, -95.231208], [39.816091, -104.985915], [26.291918, -80.123144], [33.476474, -117.687564], [45.003724, -93.282494], [39.77834, -104.89542], [34.073142, -117.400813], [25.823117, -80.206385], [36.8653, -121.733697], [32.805321, -96.84502], [25.893601, -80.261645], [38.684542, -121.477023], [30.187040000000003, -81.739255], [40.07219600000001, -75.43494], [38.84017, -77.444076], [43.130989, -77.590347], [25.95432000000001, -80.35193000000002], [39.21956, -76.65853], [38.19, -85.72475], [32.70449, -96.58003], [37.689388, -122.104887], [29.652127, -82.340485], [41.440633, -113.707348], [37.960244, -121.333693], [27.98435, -82.45384], [39.374245, -76.75035600000002], [40.42609, -79.89704], [38.46869, -77.40587], [37.92873, -122.515568], [30.452374, -87.256902], [33.77394, -117.87188], [42.25879000000001, -88.13953000000002], [38.92072, -76.90774], [41.20513, -111.9979], [25.763299, -80.26324100000002], [38.770819, -119.873176], [38.699497, -122.601432], [40.880786, -73.90332099999998], [39.668676, -75.601451], [30.643782, -81.45540600000002], [32.670797, -117.111414], [38.663579, -121.292268], [47.779397, -122.317583], [47.64061, -122.18638], [28.47996, -81.33072], [42.390757, -83.00845699999998], [30.176793, -82.68717099999998], [32.75225, -117.156518], [26.937582, -82.30455400000002], [33.668763, -81.673895], [33.765159999999995, -84.52149], [29.805655, -81.321143], [28.59758, -81.29731600000002], [41.24431, -111.96993], [40.787891, -74.049214], [37.243043, -120.288767], [28.204812, -80.661866], [46.402434, -93.749126], [45.152488, -94.595514], [38.33874, -85.81294], [35.849697, -78.581693], [35.109327, -81.60476], [39.979522, -75.26875], [34.119757, -117.868203], [45.678247, -122.873906], [25.910743, -80.308856], [37.424958, -122.313867], [25.722967, -80.427544], [39.035266, -94.500132], [33.99953, -117.8497], [45.52217, -122.81579], [39.98839, -82.98569], [42.33763, -117.83428700000002], [40.082999, -74.153217], [35.098149, -120.597654], [34.156305, -118.264355], [42.628044, -122.806964], [42.954107, -85.67178299999998], [34.704469, -118.794704], [35.132394, -80.84084], [47.190452, -114.886747], [45.040549, -93.189402], [38.88753, -94.79028], [33.100057, -117.308567], [34.741815, -82.004389], [26.206246, -80.14123199999997], [38.862966, -76.899822], [33.183777, -117.274988], [34.191972, -80.262214], [44.930429, -93.274516], [35.849659, -78.58235400000002], [37.55761, -77.412875], [28.197321, -82.168476], [34.068699, -117.363249], [26.084986, -80.202845], [45.515801, -122.695375], [40.63813, -74.89751], [33.750525, -117.125667], [25.825821, -80.386887], [40.92118, -74.08359], [44.98778400000001, -117.895987], [29.145494, -82.18519], [38.92692, -104.7519], [45.005825, -93.208512], [39.633597, -77.814563], [26.597203000000004, -81.862596], [37.513838, -122.256143], [32.26112, -110.991419], [39.496524, -119.78418], [40.8598, -74.01146], [33.71475, -84.2408], [32.23549000000001, -110.8411], [40.76631, -74.49237], [47.547237, -94.880961], [30.28644, -97.72483], [39.159414, -94.497551], [33.095608, -117.086265], [34.060234, -118.251607], [33.987759999999994, -118.39923], [40.58151, -74.59801], [47.509994, -122.283428], [30.74658, -85.43061999999998], [42.40815900000001, -122.94813700000002], [25.750165, -80.20900999999998], [40.112757, -75.277477], [33.301609, -117.467783], [47.795323, -122.315393], [40.770405, -73.568347], [37.05219500000001, -122.094216], [28.552392, -81.448734], [37.535034, -79.684083], [41.196573, -79.82267900000002], [33.401862, -86.788164], [48.210397, -114.26643500000002], [40.42467, -80.1141], [32.833436, -96.823335], [37.035809, -121.943885], [45.150611, -93.391708], [40.275405, -75.24494200000002], [32.676140000000004, -97.01409], [44.94833, -92.98585], [35.993101, -86.696449], [35.584332, -117.670272], [39.396135, -74.49253399999998], [41.49309, -94.294297], [38.460127, -121.371808], [36.660583, -119.304641], [38.274221, -122.672934], [33.174042, -117.22571299999998], [38.523291, -121.952737], [35.745436, -78.75575699999997], [34.599106, -82.58107], [40.760232, -111.93904], [28.394834000000003, -81.375314], [38.235653000000006, -78.368408], [38.34339600000001, -122.757147], [29.729894, -95.457469], [33.702290000000005, -117.776675], [47.977799, -102.428852], [34.15453, -118.39303999999998], [25.864961, -80.20831], [33.02288, -117.27344], [34.811932, -82.43941600000002], [38.392399, -81.76979200000002], [38.54979, -122.718645], [28.540731, -81.314273], [43.747161, -70.220539], [45.19006, -93.39655], [37.956082, -121.324811], [33.58806, -84.50859], [36.37158, -120.103214], [39.709804, -105.293717], [25.571103, -80.372297], [43.610991, -122.11691], [34.8325, -118.866111], [28.66436, -81.38871999999998], [40.503856, -74.399387], [25.732155, -80.38143000000002], [37.676486, -122.11696], [28.528705, -81.211445], [40.20345800000001, -75.918139], [33.832093, -79.546588], [44.85936, -93.39432], [27.939144, -82.28576600000002], [33.490696, -112.177634], [41.191338, -74.181565], [41.593223, -93.659392], [45.284374, -122.332417], [32.70923, -117.14773999999998], [38.714078, -121.369223], [39.76344, -84.20007], [44.780434, -123.039911], [27.994764, -82.37304499999998], [40.172249, -75.07351], [38.68047, -90.01217], [26.546607, -81.83857900000002], [39.742956, -105.01595], [39.000313, -77.076829], [28.448092, -81.263921], [44.561872, -124.070022], [48.474776, -122.33562], [35.343717, -80.76315600000002], [46.151183, -123.918262], [40.70735, -74.2557], [26.459989, -80.088241], [28.191915, -82.397834], [45.25725, -121.00458], [29.50432, -98.55056], [38.866974, -77.06065699999998], [41.25386, -73.14697], [39.20845, -84.39908], [41.60025, -93.61962], [33.864132, -118.046387], [38.13413, -121.25736], [36.433078, -120.392013], [38.239958, -122.075558], [43.215529, -75.398052], [41.121884, -78.66650600000001], [35.183683, -80.821513], [33.776553, -117.840245], [33.91369, -118.11368], [40.634067, -111.893925], [37.371321, -121.821127], [33.915278, -117.4412], [44.96921, -93.287802], [30.440497, -97.565768], [29.97112000000001, -90.03573], [39.01796, -76.95491], [40.624302, -74.307119], [35.514247, -78.54355699999998], [42.47721, -83.105016], [25.963177, -80.158345], [36.263111, -86.71243], [33.09921, -80.240703], [43.692937, -116.459659], [35.300387, -82.675782], [28.598155, -81.299079], [40.76063900000001, -73.95651600000002], [34.067734, -117.979441], [45.1336, -119.6596], [45.575612, -94.124025], [38.799719, -90.62055], [38.554678, -121.375137], [41.94325, -71.47194], [34.023063, -118.277103], [41.90624, -87.93983], [38.644954, -77.264574], [37.778568, -122.169144], [37.73476, -122.19146], [25.626145, -80.41645], [38.72283, -83.01613], [37.694694, -122.143612], [34.913369, -112.458497], [39.732474, -75.311311], [28.567121000000004, -81.402403], [41.534454, -72.79775500000002], [33.98433, -118.13324], [34.23913, -118.47313], [38.017951, -121.894061], [39.1651, -84.51213], [38.785603, -77.178637], [37.390636, -77.422062], [29.557886, -95.158439], [33.879871, -80.520937], [41.234959, -111.970171], [30.423552, -84.172646], [43.12244000000001, -123.41274], [39.32324000000001, -76.5288], [44.807986, -93.188062], [34.069918, -117.530191], [32.907224, -96.920428], [33.802667, -118.12765], [38.909286, -77.003501], [41.73976, -72.62993], [34.153879, -118.275467], [38.78844, -77.176464], [45.49841, -94.20944], [25.78784, -80.209907], [26.011003, -80.166613], [28.361245, -81.500502], [30.017323, -90.052587], [29.746888, -95.366531], [38.58279, -76.92003000000003], [39.670691, -75.599587], [33.936161, -117.117137], [34.68562, -92.269252], [40.77089, -73.04977], [40.310324, -79.625582], [40.038632, -76.508284], [36.0639, -115.18216], [25.908249, -80.170497], [41.099323, -74.058599], [36.03515, -86.78305999999998], [35.59101500000001, -118.494308], [25.647591, -80.33249], [25.929465, -80.188313], [36.825163, -121.675697], [42.04116, -87.86941], [39.956328000000006, -75.34108], [35.806193, -78.421842], [26.274801, -80.142356], [40.740684, -123.254724], [38.625097, -121.51721299999998], [36.147069, -95.853922], [34.566299, -86.575856], [27.780856, -82.71221700000002], [40.407061, -104.989037], [39.473187, -75.16889599999998], [30.251785, -81.521569], [34.138343, -117.315334], [38.343929, -77.487616], [47.82627, -122.26913], [38.75518, -76.993012], [37.01727, -121.56367], [44.469383, -93.211516], [37.48858, -121.931006], [38.917992, -75.93709], [30.334217, -97.561721], [45.461286, -122.992411], [38.67108, -121.59607], [34.010259999999995, -117.42905], [36.161568, -86.775982], [34.427618, -118.414797], [29.733887, -95.476586], [33.390455, -117.184119], [33.260073, -79.929363], [42.26796, -71.79333000000003], [36.804381, -119.785126], [34.14773, -118.03166], [27.955493, -82.500252], [33.169301000000004, -117.217909], [32.685315, -96.792891], [32.855678999999995, -117.113884], [29.714502000000003, -95.501145], [29.607682, -95.218935], [44.777995, -93.359439], [30.26278, -81.51881], [37.031816, -76.369284], [40.42616, -111.88524], [25.733269, -80.331645], [32.261151, -110.995034], [34.020212, -117.814998], [34.197875, -112.128471], [37.529806, -77.429666], [34.545765, -118.116475], [25.74366400000001, -80.42662], [40.350819, -76.726874], [36.753144, -119.827047], [38.75441, -121.541952], [32.768708000000004, -117.129417], [30.425518, -91.41179], [45.56859, -122.67853], [39.773312, -104.838834], [34.21848, -118.23997], [36.786731, -79.935231], [36.537882, -119.331677], [33.69856, -84.44514000000002], [25.884512, -80.24322], [38.560434, -121.481527], [34.872179, -82.436572], [46.311483, -94.648602], [40.624408, -74.216748], [26.546086, -81.855901], [25.685729, -80.40204399999998], [33.941, -117.270208], [37.317935, -121.980482], [35.18985, -89.94471], [36.169361, -95.895619], [36.644672, -121.611953], [25.590023, -80.379311], [40.88969, -74.07219], [33.98765, -81.24318000000002], [38.136302, -120.093773], [36.640903, -82.096751], [28.259419, -81.43619100000002], [44.958575, -120.891848], [44.970072, -93.31645], [36.17603, -86.8007], [43.126006, -123.364089], [39.013255, -77.039576], [40.653136, -73.863283], [28.185657, -82.354599], [35.24521400000001, -80.846375], [31.773633, -106.381699], [35.11212800000001, -80.758667], [45.441523, -122.741607], [27.296124, -82.53048299999998], [33.65152, -117.75865], [37.191139, -93.26211], [38.13815, -85.70730999999998], [34.505284, -92.699687], [32.66925, -97.23459], [28.41171, -80.8251], [35.450281, -80.22189], [37.842149, -122.258237], [37.595281, -121.872573], [38.303841, -85.879214], [34.164272, -118.265177], [25.821165, -80.369721], [32.667449, -96.732012], [34.04569, -118.21552], [25.784913, -80.33675799999997], [33.879918, -117.56581], [33.917874, -84.291733], [34.259033, -82.57386], [35.787368, -78.648834], [39.94681, -76.226297], [33.929475, -118.246243], [34.983708, -81.972982], [34.018842, -118.17798700000002], [45.90889, -119.24202], [33.616544, -84.297248], [34.027587, -117.122529], [30.407717, -97.603085], [37.190918, -121.993419], [26.323724, -80.11636999999997], [37.73681, -122.19327], [28.609415, -81.287655], [37.636436, -120.923243], [32.83711, -97.040323], [34.009958000000005, -118.05763], [36.790549, -119.748512], [40.70156400000001, -73.993149], [37.572925, -120.90178600000002], [35.938285, -86.535562], [35.2628, -81.09145], [30.438597, -81.724122], [27.915413, -82.35131700000002], [29.92641, -90.10195], [36.121685, -95.92245], [34.095511, -118.243711], [30.47263, -90.48452], [38.939312, -76.91522900000002], [37.2504, -93.307861], [40.71349, -74.30138000000002], [37.941211, -122.059778], [41.23545, -73.07311], [40.978156, -78.510435], [41.685373, -93.286371], [30.456533, -91.164794], [27.049764, -82.377583], [38.119494, -121.257496], [45.47953, -122.79173], [34.378271000000005, -117.419296], [36.782172, -76.393464], [34.267340000000004, -118.441205], [30.432522, -91.110323], [27.732151, -82.646491], [37.342196, -121.92467], [35.44122700000001, -119.052419], [30.457146, -91.117325], [33.036722999999995, -80.064262], [46.266534, -106.59166100000002], [38.660896, -121.37367], [42.943868, -85.645775], [33.97384, -118.23027], [42.75738, -71.22811], [45.050758, -123.51373999999998], [30.825325, -88.16753299999998], [34.125463, -117.881358], [34.127577, -118.273463], [30.221936, -97.955998], [34.064205, -117.810589], [39.120815, -76.540937], [32.86237, -96.859643], [35.105369, -85.051509], [38.510311, -121.464578], [34.464647, -77.560812], [41.14236, -73.42695], [36.06718, -79.50195], [42.943101, -83.782425], [42.08065, -87.75873], [34.702032, -92.38296], [40.694807, -75.230673], [35.644959, -119.220317], [30.003894, -90.03606500000002], [35.427052, -119.101173], [26.16231, -80.16253], [34.437049, -119.789364], [26.253215, -80.13651899999998], [45.53001, -122.686843], [30.052274, -89.88001899999998], [33.945537, -118.282627], [45.016833, -93.349252], [40.060856, -76.53670799999998], [29.93865, -95.38724], [37.616962, -77.444139], [43.189755, -75.45200899999998], [42.000771, -71.559265], [30.380669, -97.684256], [25.81365, -80.20711999999997], [33.657771999999994, -117.862627], [32.798656, -117.24051], [45.04216, -122.79331], [40.758481, -111.884218], [32.91722, -96.76663], [28.46587700000001, -81.335863], [45.58273, -118.58989], [45.29902, -92.76781], [39.405574, -76.671339], [34.02006, -118.19021], [36.957626, -121.971296], [30.001518, -95.28306], [33.989135, -117.361289], [25.747537, -80.337062], [34.988440000000004, -85.47029599999998], [33.139475, -117.144416], [37.085424, -77.557652], [28.570261, -81.365342], [39.40975, -119.749592], [34.072915, -80.941518], [40.888492, -75.15272], [44.066387, -92.899435], [34.845255, -82.070829], [25.90354, -80.21027], [34.36157, -118.50542], [29.764164, -95.357317], [34.028255, -118.433025], [42.33292, -71.25542], [33.194091, -117.258137], [39.62752, -119.72048], [38.767346, -120.578495], [39.93612, -82.25618], [41.763871, -70.538395], [33.824490999999995, -118.296247], [37.702489, -122.016929], [33.9807, -117.976761], [47.57054, -122.32007], [34.179345, -118.944171], [38.885779, -77.013126], [39.79915, -74.92855], [25.577361, -80.370664], [47.577184, -122.319706], [27.80235, -82.353515], [33.94399, -117.28642], [35.55882000000001, -82.5434], [39.39806, -77.42016], [41.66561, -72.84664000000002], [27.442656, -82.530252], [40.075854, -76.336681], [33.921671999999994, -117.288457], [41.530474, -72.768854], [35.842082, -83.9844], [40.362358, -122.278638], [37.680059, -121.049393], [26.617390000000004, -80.089], [34.459242, -117.451016], [39.65521, -105.00103], [34.197798, -118.474279], [34.025965, -118.249145], [33.65999, -115.80565], [34.035704, -81.176652], [40.84481, -73.924446], [32.748519, -117.14991100000002], [25.761068, -80.41421600000002], [40.731791, -74.052776], [33.928387, -81.060102], [27.839318, -82.697139], [30.439403, -91.086303], [44.97027, -93.32179], [40.042058, -76.89390999999998], [34.161484, -118.381091], [35.211812, -78.660699], [38.149039, -104.094049], [34.15316, -118.3583], [33.990255, -117.918699], [35.08773, -80.93636], [39.912611, -86.56865], [25.930242, -80.30974499999998], [29.86709, -81.314151], [28.566581, -81.286015], [30.27269, -81.521316], [45.05562000000001, -93.28718], [38.935793, -77.13429000000002], [32.221546999999994, -110.876806], [35.772954, -78.640512], [35.849564, -78.583549], [38.935192, -94.727908], [28.41965900000001, -81.404622], [41.720139, -78.684907], [41.712995, -80.19913299999997], [39.216926, -78.139048], [25.767744, -80.33628399999998], [40.864816, -74.422427], [45.08696, -93.44671], [44.629018, -124.061508], [33.930791, -118.378597], [34.741941, -81.026022], [47.243873, -122.255241], [25.705322, -80.406741], [28.545199, -81.411741], [27.858324, -82.347033], [38.69026, -121.382828], [44.58324, -117.45707], [45.101333, -93.300265], [38.495977, -121.426734], [34.530553999999995, -84.936194], [38.680751, -77.321023], [34.150211, -118.468747], [39.959111, -75.61783299999998], [34.081681, -117.715619], [30.443653, -81.596524], [40.705487, -74.063653], [40.50373, -74.44731999999998], [41.233346, -73.679149], [28.449921000000003, -81.479337], [45.097009, -92.983436], [38.61324000000001, -121.364519], [45.087876, -93.447612], [36.111228, -118.539338], [43.0473, -88.24951999999998], [41.231893, -73.2173], [33.189132, -87.264572], [34.166373, -118.587918], [28.952786, -81.095762], [29.894687, -95.489046], [32.67577, -97.01186], [34.165168, -81.349992], [48.594154, -118.331591], [37.32868, -121.86967], [44.97092, -93.4481], [25.812532, -80.206864], [29.11932, -95.3807], [38.79817, -90.58464], [45.519999, -122.809358], [33.864052, -117.924268], [34.69418, -111.74393], [30.40263, -91.50081], [35.30706, -80.85056999999998], [35.2003, -80.88165], [45.969349, -118.402742], [39.963427, -86.002934], [35.641597, -118.370549], [36.631358, -82.118798], [34.588902000000004, -82.80126], [37.84319, -122.485945], [33.01726, -96.70883], [38.524899, -121.460008], [34.406802, -119.509181], [34.933536, -81.054951], [47.86128400000001, -122.248381], [45.66638, -94.807], [40.181825, -75.56671899999998], [33.851591, -117.841125], [27.458163, -82.575373], [34.07289, -80.97745], [44.06223, -122.99747], [38.972334, -78.428349], [37.564427, -77.472776], [38.794062, -121.85875], [39.509793, -77.12782299999998], [29.802078, -95.451332], [37.50585, -121.934714], [38.017994, -122.08229], [30.36521, -90.09386], [40.13017, -80.330196], [34.136238, -117.40201], [39.590784, -84.162176], [38.70824, -77.22294000000002], [36.174834, -86.870023], [39.684547, -75.71280300000002], [39.8611, -104.98749], [43.27282, -70.96207], [40.64166, -73.87698], [39.97923, -82.9814], [37.10595900000001, -121.613012], [27.469266, -82.687866], [29.67435, -95.26679], [26.547128000000004, -81.802725], [37.713966, -77.44801899999999], [34.087174, -117.670696], [41.569432, -93.703325], [34.135587, -117.581312], [25.734329, -80.383277], [32.87529, -96.662859], [32.861740000000005, -96.65757], [34.743959999999994, -92.29384], [42.200054, -87.862824], [42.121003, -73.955714], [36.249887, -86.64438100000002], [38.153292, -122.240311], [45.784529, -120.04493], [36.260851, -86.712689], [44.03518, -91.71973], [44.466041, -117.33573], [38.922069, -104.719715], [33.71715, -117.79135], [35.08076, -89.93751999999998], [37.587586, -77.933138], [41.8355, -87.68427], [38.93554, -94.7506], [34.12955, -117.934342], [42.40092, -88.1304], [37.260957, -76.648258], [34.252671, -79.828336], [37.25037, -93.26624], [35.55573, -97.65623], [32.781149, -96.737658], [37.891048, -120.488765], [25.882785, -80.245746], [39.65521, -105.00103], [41.261861, -95.90892], [34.0661, -117.254338], [34.092002, -117.471153], [47.5767, -122.33951], [35.227939, -80.878877], [34.228528999999995, -79.387661], [33.989822, -117.913419], [44.955998, -93.192299], [32.799076, -96.840607], [35.142164, -85.242088], [45.366865, -122.688732], [32.67801, -97.104285], [40.270262, -121.086597], [33.364058, -111.876589], [34.26813, -118.63554], [41.510521, -94.199877], [37.65863, -77.63271], [30.047253, -89.982811], [33.727702, -79.084312], [43.039551, -77.539733], [44.862161, -93.277347], [45.11449, -88.35665], [44.88385, -93.01162], [39.806588, -105.013064], [39.91705, -105.78376000000002], [41.020566, -111.493077], [38.021135, -121.325348], [40.916319, -73.781937], [39.67456, -75.596016], [42.88215, -78.88154], [25.71606400000001, -80.41524], [35.60039000000001, -82.543564], [37.9835, -78.228084], [34.598231, -117.253643], [33.911722, -84.425724], [28.563640000000003, -81.55852], [32.337509999999995, -111.0554], [33.916421, -118.28603], [38.992052, -76.886315], [25.942301, -80.31118599999998], [36.143368, -86.737215], [40.42458, -79.85948], [34.170731, -118.605448], [28.615532, -81.47612099999998], [39.01602000000001, -77.01961], [33.968167, -118.167854], [25.900424, -80.308302], [40.830973, -76.739632], [33.65521, -84.36456], [35.053736, -85.263898], [39.03486, -76.9074], [40.81271, -73.11609], [46.78127, -92.102813], [25.618365, -80.310578], [34.073547, -80.312373], [32.973945, -80.637237], [37.781821, -121.31199], [42.394817, -83.068147], [34.230498, -117.260623], [34.063788, -117.865193], [40.421563, -78.43987800000002], [43.059507, -76.090267], [27.795197, -82.355772], [36.08277, -79.96637], [25.705575, -80.285494], [32.656291, -96.745058], [33.752135, -117.455359], [34.616469, -117.840308], [32.958314, -80.545895], [40.96475, -76.83837], [40.808941, -73.190134], [41.15498, -111.93975], [40.080026, -104.886384], [40.641313, -74.034065], [43.084131, -75.23405], [38.955419, -76.96315899999998], [37.322766, -122.050086], [40.75207, -73.746708], [40.184072, -74.728778], [35.99165, -78.958], [34.106466999999995, -117.278768], [44.948647, -92.94855], [28.56681, -81.206435], [38.171847, -121.648943], [40.73808, -74.21733], [25.889388, -80.160935], [43.07283, -77.63157], [43.139975, -77.582135], [41.818385, -93.570937], [28.535304, -80.992126], [39.90475, -74.82388], [39.38024, -77.40838000000002], [33.175554, -87.524671], [43.679745, -123.680342], [36.865564, -119.96043799999998], [40.85306, -73.96011], [30.31503, -81.7752], [32.834990999999995, -117.233272], [33.653628999999995, -112.375319], [37.237233, -93.311144], [35.36468, -119.04012], [40.02737800000001, -75.286722], [30.376811, -91.068516], [34.153721000000004, -118.340115], [33.895, -117.558399], [48.104992, -114.459032], [39.381953, -76.52136899999998], [37.807153, -122.475694], [44.538678, -117.414368], [37.575627, -121.881533], [40.625326, -74.24458299999998], [26.640903, -81.821027], [40.10898, -80.20257], [44.886848, -93.338168], [28.435868, -82.63874100000002], [33.086968, -117.299705], [36.187387, -95.995798], [42.457203, -87.85461600000002], [34.154179, -118.468226], [42.699483, -121.850561], [33.88374, -98.526562], [32.828212, -96.824393], [33.767127, -117.827034], [34.359365000000004, -118.553949], [34.067529, -117.5583], [41.90304, -87.66066], [36.685551, -79.902874], [25.884934, -80.210718], [38.248768, -122.631249], [34.002658000000004, -117.379765], [37.68844, -122.11121], [27.942963, -82.544907], [45.285333, -122.76948], [25.715168, -80.431221], [36.922892, -119.710282], [33.960014, -118.280502], [26.202575, -80.13255500000002], [38.814198, -120.084908], [38.55405, -90.2625], [28.410283000000003, -81.475578], [34.911965, -82.20863299999998], [43.19259, -77.59503000000002], [28.30281, -81.5741], [27.268429, -81.367708], [33.75119, -84.4963], [36.578175, -110.473655], [38.98585, -94.35693], [25.72873, -80.430652], [35.20733, -80.89362], [42.19527, -121.79677], [35.075526, -120.521027], [44.063269, -123.101192], [32.586674, -96.676693], [45.03366, -92.97821], [26.60162, -80.06707], [37.058225, -120.835431], [27.965043, -82.446717], [29.93335200000001, -90.116114], [40.331545, -74.63832099999998], [44.85937, -93.35714], [37.111049, -120.231451], [42.865519, -121.83182], [38.792592, -121.774569], [32.73245900000001, -117.11181299999998], [37.872878, -122.305807], [34.579896000000005, -117.826654], [33.994772999999995, -117.931298], [44.06732, -123.45588], [34.311988, -117.472247], [38.575111, -121.543325], [25.901241, -80.18698499999998], [33.693104, -84.34951], [25.761688, -80.311798], [28.446263, -81.402039], [44.23949, -95.73017], [38.524911, -121.460026], [43.196343, -77.55713], [28.54815, -81.55371], [40.507898, -112.011066], [40.784995, -77.832274], [37.941675, -121.314333], [44.760989, -123.914478], [33.019069, -117.120007], [35.19752000000001, -80.88178], [39.737276, -86.238698], [28.449998, -81.469145], [35.46671, -93.524647], [40.791816, -73.924755], [28.01946, -82.72296300000002], [25.684698, -80.43404100000002], [33.997465000000005, -117.888192], [30.315433, -81.748207], [34.134382, -117.957586], [27.26408, -82.44886], [32.923547, -96.758233], [33.386881, -111.95861], [34.116844, -117.302772], [29.158151, -81.077761], [38.63208, -90.29187], [30.075714, -81.863766], [34.990127, -85.28546700000003], [39.97473, -75.45028], [32.7582, -96.80945], [37.59558, -122.05859], [32.68983, -96.628414], [33.948519, -117.30156399999998], [28.347984000000004, -81.58824200000002], [42.59356, -87.95275], [30.19713, -93.217195], [39.03433, -76.85174], [35.78253, -78.701451], [33.987759999999994, -118.39923], [33.85345, -118.28046], [25.852934, -80.322751], [34.109153000000006, -117.980903], [45.07928, -93.05273], [45.43021, -122.63466], [34.140745, -118.471158], [37.5048, -77.469402], [25.822478, -80.381861], [42.938878, -83.663712], [34.154123, -118.819594], [47.832101, -122.209049], [44.609723, -71.218763], [40.12187, -85.37132], [41.80629, -71.44072], [42.94857, -73.78978000000002], [37.157197, -121.982129], [33.772088000000004, -117.909208], [43.212063, -77.716939], [45.075999, -93.333162], [25.826215, -80.317094], [27.177547, -82.48122], [44.950199, -93.005013], [37.4502, -77.65201], [39.668913, -75.60122700000002], [43.213969, -123.300394], [29.89379000000001, -95.58945], [25.494553, -80.434524], [41.22258, -96.04978], [37.25549, -121.84955], [25.910063, -80.210076], [32.425173, -93.739825], [45.582672, -122.09971000000002], [38.74267, -77.08506], [34.604278, -82.76043], [39.023037, -76.472763], [34.521127, -117.979318], [36.040939, -86.779522], [40.72292, -74.17657], [40.817245, -73.930875], [36.172226, -95.874897], [33.609059, -117.68751], [42.392083, -122.92212], [34.043181, -117.929661], [40.00126, -75.22638], [45.60546, -94.441255], [29.994446000000003, -90.099002], [39.080487, -120.157607], [29.680841, -95.55166], [32.192337, -110.999064], [33.702117, -117.85827], [33.774408, -118.012872], [33.772240000000004, -117.90885], [40.922566, -74.588217], [34.135566, -117.972252], [33.0657, -80.182262], [42.15168, -83.6837], [36.114949, -115.109855], [32.446125, -93.71785], [28.71299, -81.378534], [25.868208, -80.387997], [32.82009, -96.628987], [30.33882, -81.66810799999998], [44.036, -92.55243], [42.883832, -85.633072], [37.101095, -122.099323], [37.79926, -122.22146], [32.736328, -96.920367], [35.182401, -118.82396], [36.059237, -79.666984], [30.161427000000003, -85.77979300000001], [39.995637, -78.380033], [25.699643, -80.408778], [44.954885, -93.073822], [45.28338, -93.75001], [38.882514, -77.015608], [36.767027, -119.754527], [41.428196, -78.545233], [32.75968, -97.11919], [34.151994, -118.132357], [34.051361, -118.213912], [47.164059, -93.552942], [33.877011, -118.133952], [32.998914, -96.824693], [34.151, -118.152634], [48.03604, -122.18246], [30.21177, -90.88148], [33.915939, -118.179553], [34.0463, -81.11978], [34.031778, -117.758507], [28.451532, -81.113036], [29.967506, -90.107058], [32.747705, -97.312452], [36.792105, -76.163781], [38.74915900000001, -121.26728], [32.75971, -97.03706], [30.76321, -85.696738], [33.874272, -118.195735], [28.291565, -80.74179699999998], [36.99198, -121.38181000000002], [40.74261, -74.08595], [25.734056, -80.287787], [40.02542, -83.03655], [34.070170000000005, -117.295602], [33.777047, -117.899469], [34.206533, -118.200208], [28.538727, -81.382141], [25.66663, -80.430382], [34.73887, -86.603544], [40.69057, -73.99886], [40.699012, -74.15613], [46.624636, -112.096734], [45.675498, -92.991811], [34.035771000000004, -117.550062], [33.87275, -118.27013], [40.77248, -74.15592], [34.274311, -118.542794], [33.75, -117.844703], [41.707416, -122.642747], [37.645693, -120.460761], [30.463436, -84.121025], [39.127891, -121.544619], [25.626457, -80.382217], [38.870218, -77.046062], [37.69043, -122.0907], [37.549999, -77.474337], [33.96884, -117.328293], [38.906607, -77.03456700000002], [47.29823, -122.1861], [35.848014, -78.680374], [33.290690000000005, -111.97152], [40.864983, -73.824717], [38.592805, -77.33438699999998], [29.211391, -82.18439599999998], [37.468947, -79.811327], [26.678668, -81.80908000000002], [32.781220000000005, -117.13918], [40.838936, -73.92968499999998], [41.009979, -73.852253], [25.574669, -80.373521], [33.588752, -112.260982], [32.75908, -96.9174], [36.180311, -86.746566], [35.184641, -85.24645100000002], [40.71361, -111.824969], [33.87385, -117.88054], [38.92401, -76.55899000000002], [33.415228000000006, -86.75541700000002], [33.58764, -112.117034], [37.632768, -121.802044], [38.663948, -121.229301], [34.740818, -81.034952], [37.226325, -76.51533], [34.148547, -118.067716], [45.499964, -122.649333], [34.06385, -117.81195], [34.116765, -117.519811], [32.269213, -86.556326], [30.33488, -97.70265], [26.009942, -80.210145], [30.439989, -91.206267], [41.54039, -87.95218], [25.827932, -80.313711], [40.302206, -75.290625], [33.506170000000004, -117.65974], [39.663752, -84.160085], [41.758243, -124.154098], [33.541821, -112.056347], [38.029227, -122.537463], [34.5064, -117.892845], [30.13681, -81.50873], [35.198157, -80.79006], [45.507258, -122.718953], [45.82326, -119.2711], [38.243712, -122.122347], [41.736523, -124.15433], [35.876957, -87.463188], [34.108497, -118.01043500000002], [34.204291, -80.771237], [28.07279, -82.4548], [25.933409, -80.180364], [30.343722, -81.66809], [36.17412, -115.16078], [33.97862, -117.702273], [34.90932, -82.32691], [26.308211, -80.1184], [45.43256, -122.3625], [32.9763, -117.25161], [32.335333, -90.245455], [32.769897, -96.82106], [34.072571999999994, -117.879736], [33.18399, -117.327402], [36.266722, -119.363721], [38.994605, -77.158113], [38.64766, -77.313591], [37.690905, -122.129849], [27.906073, -82.632876], [25.644956, -80.336005], [38.550779, -121.423089], [39.819763, -121.626213], [33.187755, -87.271517], [34.637436, -111.82139], [45.51509, -123.08667], [40.460686, -74.33986], [37.43156, -77.43123], [39.15778, -77.192], [40.844065, -73.925967], [34.192382, -79.345589], [36.144156, -86.73865699999998], [37.1603, -113.60671], [43.488961, -75.331546], [32.72201, -117.10362], [28.256342, -81.488739], [36.749493, -119.79894], [34.441158, -119.815566], [33.73072, -117.986716], [46.664698, -92.510762], [44.83359, -93.19123], [30.17364, -97.823814], [44.86142, -93.19086], [26.627812, -80.067639], [33.85974, -118.29428], [30.508701, -87.238374], [40.78229, -74.20124100000002], [32.76757, -96.89088], [35.550845, -82.609065], [28.397194, -81.311125], [34.030113, -117.693943], [40.80527, -73.93214], [33.86437100000001, -118.221584]],\n",
              "                {&quot;blur&quot;: 15, &quot;maxZoom&quot;: 18, &quot;minOpacity&quot;: 0.5, &quot;radius&quot;: 25}\n",
              "            ).addTo(map_7118454dd77981c1ccd84f04ed69eb51);\n",
              "        \n",
              "&lt;/script&gt;\" style=\"position:absolute;width:100%;height:100%;left:0;top:0;border:none !important;\" allowfullscreen webkitallowfullscreen mozallowfullscreen></iframe></div></div>"
            ],
            "text/plain": [
              "<folium.folium.Map at 0x7f608b3ed250>"
            ]
          },
          "execution_count": 27,
          "metadata": {},
          "output_type": "execute_result"
        }
      ],
      "source": [
        "from folium.plugins import HeatMap\n",
        "map = folium.Map()\n",
        "HeatMap(lat_lng_pairs).add_to(map) # Here we are adding HeatMap data to the world map we created\n",
        "map"
      ]
    },
    {
      "cell_type": "markdown",
      "metadata": {
        "id": "_3ovr_2iqr9N"
      },
      "source": [
        "As we can see in the heatmap above, most of the accidents happened on or near the coastal areas."
      ]
    },
    {
      "cell_type": "markdown",
      "metadata": {
        "id": "MA-jCBSeq39N"
      },
      "source": [
        "### Severity"
      ]
    },
    {
      "cell_type": "code",
      "execution_count": null,
      "metadata": {
        "colab": {
          "base_uri": "https://localhost:8080/"
        },
        "id": "5Djp9A_rEbx1",
        "outputId": "935977ee-0590-4a2d-e29f-a39f85802d15"
      },
      "outputs": [
        {
          "data": {
            "text/plain": [
              "0          3\n",
              "1          2\n",
              "2          2\n",
              "3          2\n",
              "4          3\n",
              "          ..\n",
              "2845337    2\n",
              "2845338    2\n",
              "2845339    2\n",
              "2845340    2\n",
              "2845341    2\n",
              "Name: Severity, Length: 2845342, dtype: int64"
            ]
          },
          "execution_count": 34,
          "metadata": {},
          "output_type": "execute_result"
        }
      ],
      "source": [
        "new_df.Severity"
      ]
    },
    {
      "cell_type": "code",
      "execution_count": null,
      "metadata": {
        "colab": {
          "base_uri": "https://localhost:8080/"
        },
        "id": "OVwxGdbpEb0i",
        "outputId": "bc04c907-8866-41d5-92b3-4e595d64b3e8"
      },
      "outputs": [
        {
          "data": {
            "text/plain": [
              "array([3, 2, 4, 1])"
            ]
          },
          "execution_count": 35,
          "metadata": {},
          "output_type": "execute_result"
        }
      ],
      "source": [
        "new_df.Severity.unique()"
      ]
    },
    {
      "cell_type": "markdown",
      "metadata": {
        "id": "hw_JWKtPrHE8"
      },
      "source": [
        "So, it looks like the column `Severity` contains four values 1 to 4 , where 1 indicates the least impact on traffic (i.e., short delay as a result of the accident) and 4 indicates a significant impact on traffic (i.e., long delay)."
      ]
    },
    {
      "cell_type": "code",
      "execution_count": null,
      "metadata": {
        "id": "F0ZO_WgDEb3T"
      },
      "outputs": [],
      "source": [
        "Severity_count =  new_df.Severity.value_counts()"
      ]
    },
    {
      "cell_type": "code",
      "execution_count": null,
      "metadata": {
        "colab": {
          "base_uri": "https://localhost:8080/",
          "height": 520
        },
        "id": "QVAnAXCNEb52",
        "outputId": "195b3b76-ac01-4c92-8b63-6ffd172afa39"
      },
      "outputs": [
        {
          "data": {
            "image/png": "[encoded data removed]",
            "text/plain": [
              "<Figure size 648x648 with 1 Axes>"
            ]
          },
          "metadata": {},
          "output_type": "display_data"
        }
      ],
      "source": [
        "plt.figure(figsize = (9,9))\n",
        "plt.pie(Severity_count, labels = Severity_count.index, autopct = '%.2f',  );"
      ]
    },
    {
      "cell_type": "markdown",
      "metadata": {
        "id": "0Mcn2h1auwrY"
      },
      "source": [
        "Thus, 89 % of the accidents had severity of 2 which means moderate impact on traffic. And 4.61 % of the accidents had a huge impact on the traffic."
      ]
    },
    {
      "cell_type": "code",
      "execution_count": null,
      "metadata": {
        "colab": {
          "base_uri": "https://localhost:8080/",
          "height": 300
        },
        "id": "9fZp2UCMsiXG",
        "outputId": "2c383009-51e3-46e9-996c-c973b3e91ecd"
      },
      "outputs": [
        {
          "data": {
            "text/html": [
              "\n",
              "  <div id=\"df-e22bb762-5199-4291-ae27-8c1a97366d2f\">\n",
              "    <div class=\"colab-df-container\">\n",
              "      <div>\n",
              "<style scoped>\n",
              "    .dataframe tbody tr th:only-of-type {\n",
              "        vertical-align: middle;\n",
              "    }\n",
              "\n",
              "    .dataframe tbody tr th {\n",
              "        vertical-align: top;\n",
              "    }\n",
              "\n",
              "    .dataframe thead th {\n",
              "        text-align: right;\n",
              "    }\n",
              "</style>\n",
              "<table border=\"1\" class=\"dataframe\">\n",
              "  <thead>\n",
              "    <tr style=\"text-align: right;\">\n",
              "      <th></th>\n",
              "      <th>Severity</th>\n",
              "      <th>Start_Lat</th>\n",
              "      <th>Start_Lng</th>\n",
              "      <th>Temperature(F)</th>\n",
              "    </tr>\n",
              "  </thead>\n",
              "  <tbody>\n",
              "    <tr>\n",
              "      <th>count</th>\n",
              "      <td>2845342.000</td>\n",
              "      <td>2845342.000</td>\n",
              "      <td>2845342.000</td>\n",
              "      <td>2776068.000</td>\n",
              "    </tr>\n",
              "    <tr>\n",
              "      <th>mean</th>\n",
              "      <td>2.138</td>\n",
              "      <td>36.245</td>\n",
              "      <td>-97.115</td>\n",
              "      <td>61.794</td>\n",
              "    </tr>\n",
              "    <tr>\n",
              "      <th>std</th>\n",
              "      <td>0.479</td>\n",
              "      <td>5.364</td>\n",
              "      <td>18.318</td>\n",
              "      <td>18.623</td>\n",
              "    </tr>\n",
              "    <tr>\n",
              "      <th>min</th>\n",
              "      <td>1.000</td>\n",
              "      <td>24.566</td>\n",
              "      <td>-124.548</td>\n",
              "      <td>-89.000</td>\n",
              "    </tr>\n",
              "    <tr>\n",
              "      <th>25%</th>\n",
              "      <td>2.000</td>\n",
              "      <td>33.445</td>\n",
              "      <td>-118.033</td>\n",
              "      <td>50.000</td>\n",
              "    </tr>\n",
              "    <tr>\n",
              "      <th>50%</th>\n",
              "      <td>2.000</td>\n",
              "      <td>36.099</td>\n",
              "      <td>-92.418</td>\n",
              "      <td>64.000</td>\n",
              "    </tr>\n",
              "    <tr>\n",
              "      <th>75%</th>\n",
              "      <td>2.000</td>\n",
              "      <td>40.160</td>\n",
              "      <td>-80.372</td>\n",
              "      <td>76.000</td>\n",
              "    </tr>\n",
              "    <tr>\n",
              "      <th>max</th>\n",
              "      <td>4.000</td>\n",
              "      <td>49.001</td>\n",
              "      <td>-67.113</td>\n",
              "      <td>196.000</td>\n",
              "    </tr>\n",
              "  </tbody>\n",
              "</table>\n",
              "</div>\n",
              "      <button class=\"colab-df-convert\" onclick=\"convertToInteractive('df-e22bb762-5199-4291-ae27-8c1a97366d2f')\"\n",
              "              title=\"Convert this dataframe to an interactive table.\"\n",
              "              style=\"display:none;\">\n",
              "        \n",
              "  <svg xmlns=\"http://www.w3.org/2000/svg\" height=\"24px\"viewBox=\"0 0 24 24\"\n",
              "       width=\"24px\">\n",
              "    <path d=\"M0 0h24v24H0V0z\" fill=\"none\"/>\n",
              "    <path d=\"M18.56 5.44l.94 2.06.94-2.06 2.06-.94-2.06-.94-.94-2.06-.94 2.06-2.06.94zm-11 1L8.5 8.5l.94-2.06 2.06-.94-2.06-.94L8.5 2.5l-.94 2.06-2.06.94zm10 10l.94 2.06.94-2.06 2.06-.94-2.06-.94-.94-2.06-.94 2.06-2.06.94z\"/><path d=\"M17.41 7.96l-1.37-1.37c-.4-.4-.92-.59-1.43-.59-.52 0-1.04.2-1.43.59L10.3 9.45l-7.72 7.72c-.78.78-.78 2.05 0 2.83L4 21.41c.39.39.9.59 1.41.59.51 0 1.02-.2 1.41-.59l7.78-7.78 2.81-2.81c.8-.78.8-2.07 0-2.86zM5.41 20L4 18.59l7.72-7.72 1.47 1.35L5.41 20z\"/>\n",
              "  </svg>\n",
              "      </button>\n",
              "      \n",
              "  <style>\n",
              "    .colab-df-container {\n",
              "      display:flex;\n",
              "      flex-wrap:wrap;\n",
              "      gap: 12px;\n",
              "    }\n",
              "\n",
              "    .colab-df-convert {\n",
              "      background-color: #E8F0FE;\n",
              "      border: none;\n",
              "      border-radius: 50%;\n",
              "      cursor: pointer;\n",
              "      display: none;\n",
              "      fill: #1967D2;\n",
              "      height: 32px;\n",
              "      padding: 0 0 0 0;\n",
              "      width: 32px;\n",
              "    }\n",
              "\n",
              "    .colab-df-convert:hover {\n",
              "      background-color: #E2EBFA;\n",
              "      box-shadow: 0px 1px 2px rgba(60, 64, 67, 0.3), 0px 1px 3px 1px rgba(60, 64, 67, 0.15);\n",
              "      fill: #174EA6;\n",
              "    }\n",
              "\n",
              "    [theme=dark] .colab-df-convert {\n",
              "      background-color: #3B4455;\n",
              "      fill: #D2E3FC;\n",
              "    }\n",
              "\n",
              "    [theme=dark] .colab-df-convert:hover {\n",
              "      background-color: #434B5C;\n",
              "      box-shadow: 0px 1px 3px 1px rgba(0, 0, 0, 0.15);\n",
              "      filter: drop-shadow(0px 1px 2px rgba(0, 0, 0, 0.3));\n",
              "      fill: #FFFFFF;\n",
              "    }\n",
              "  </style>\n",
              "\n",
              "      <script>\n",
              "        const buttonEl =\n",
              "          document.querySelector('#df-e22bb762-5199-4291-ae27-8c1a97366d2f button.colab-df-convert');\n",
              "        buttonEl.style.display =\n",
              "          google.colab.kernel.accessAllowed ? 'block' : 'none';\n",
              "\n",
              "        async function convertToInteractive(key) {\n",
              "          const element = document.querySelector('#df-e22bb762-5199-4291-ae27-8c1a97366d2f');\n",
              "          const dataTable =\n",
              "            await google.colab.kernel.invokeFunction('convertToInteractive',\n",
              "                                                     [key], {});\n",
              "          if (!dataTable) return;\n",
              "\n",
              "          const docLinkHtml = 'Like what you see? Visit the ' +\n",
              "            '<a target=\"_blank\" href=https://colab.research.google.com/notebooks/data_table.ipynb>data table notebook</a>'\n",
              "            + ' to learn more about interactive tables.';\n",
              "          element.innerHTML = '';\n",
              "          dataTable['output_type'] = 'display_data';\n",
              "          await google.colab.output.renderOutput(dataTable, element);\n",
              "          const docLink = document.createElement('div');\n",
              "          docLink.innerHTML = docLinkHtml;\n",
              "          element.appendChild(docLink);\n",
              "        }\n",
              "      </script>\n",
              "    </div>\n",
              "  </div>\n",
              "  "
            ],
            "text/plain": [
              "          Severity    Start_Lat    Start_Lng Temperature(F)\n",
              "count  2845342.000  2845342.000  2845342.000    2776068.000\n",
              "mean         2.138       36.245      -97.115         61.794\n",
              "std          0.479        5.364       18.318         18.623\n",
              "min          1.000       24.566     -124.548        -89.000\n",
              "25%          2.000       33.445     -118.033         50.000\n",
              "50%          2.000       36.099      -92.418         64.000\n",
              "75%          2.000       40.160      -80.372         76.000\n",
              "max          4.000       49.001      -67.113        196.000"
            ]
          },
          "execution_count": 53,
          "metadata": {},
          "output_type": "execute_result"
        }
      ],
      "source": [
        "new_df.describe().applymap(lambda x: f\"{x:0.3f}\")  # This command gives the output upto 3 significant digits."
      ]
    },
    {
      "cell_type": "markdown",
      "metadata": {
        "id": "6ei6H3g64hqw"
      },
      "source": [
        "As we can see in the table above, on an average, the severity of an accident is 2.138."
      ]
    },
    {
      "cell_type": "markdown",
      "metadata": {
        "id": "jhqKLwVlaGwk"
      },
      "source": [
        "There are dozens of more columns that can be analysed in this dataset. I have analysed some of the columns that piqued my interest . \n",
        "\n",
        "In the next section, I have summarised all my findings during EDA of the dataset."
      ]
    },
    {
      "cell_type": "markdown",
      "metadata": {
        "id": "Zn_x76mzvewz"
      },
      "source": [
        "## Summary and Conclusion"
      ]
    },
    {
      "cell_type": "markdown",
      "metadata": {
        "id": "l8tQruNPkUCY"
      },
      "source": [
        "1. The dataset covers 49 states and more than 11000 cities of USA. `Miami` is the city with the maximum number of accidents. New York and Chicago are the two most populated cities, but still they do not appear in the list of top 20 Cities with maximum number of accidents.\n",
        "\n",
        "2. `34` cities have witnessed more than 10,000 accidents over the 6 years. `4%` of the Cities have accidents between 1000 and 10,000. Around `2000` cities have reported 1 or 2 accidents over past 5 years, which is quite unbelievable.\n",
        "Less and less cities have high number of accidents. In fact, the number of accidents per city seems to decrease exponentially.\n",
        "\n",
        "3. Morning(`8 AM to 9 AM`) and Evening(`3 PM to 7 PM`) rush hours witness the highest number of accidents in a day. Weekdays account for higher number of accidents compared to Weekends in a week. The trend of accidents by hour follows the same pattern on Mondays as on all days of the week combined. However, on weekends, the distribution is more spread out.\n",
        "\n",
        "4. The distribution of accidents is quite balanced over the months for the years 2016, 2017 and 2018. However, for the years 2019, 2020 and 2021 , the summer months account for lower number of accidents comparatively. The pace picks up from September-October and peaks around December.\n",
        "\n",
        "      Over the 6 years, we see an `increasing` trend in the number of accidents.\n",
        "\n",
        "5. Most of the accidents have occurred on or near the `coastal areas`.  \n",
        "`89%` of the accidents had severity of `2` which means moderate impact on traffic. And `4.61% `of the accidents had a huge impact on the traffic eith a severity of `4`. On an average, the severity of an accident was `2.138`."
      ]
    },
    {
      "cell_type": "code",
      "execution_count": null,
      "metadata": {
        "colab": {
          "base_uri": "https://localhost:8080/",
          "height": 88
        },
        "id": "hNtGyYEBvewz",
        "outputId": "af0694d4-a847-420b-b16b-f47ec7580f0e"
      },
      "outputs": [
        {
          "name": "stdout",
          "output_type": "stream",
          "text": [
            "[jovian] Detected Colab notebook...\u001b[0m\n",
            "[jovian] Uploading colab notebook to Jovian...\u001b[0m\n",
            "Committed successfully! https://jovian.ai/palak780nain/us-accidents-eda-project\n"
          ]
        },
        {
          "data": {
            "application/vnd.google.colaboratory.intrinsic+json": {
              "type": "string"
            },
            "text/plain": [
              "'https://jovian.ai/palak780nain/us-accidents-eda-project'"
            ]
          },
          "execution_count": 38,
          "metadata": {},
          "output_type": "execute_result"
        }
      ],
      "source": [
        "# Execute this command to save new versions of the notebook\n",
        "jovian.commit(project=\"us-accidents-eda-project\")"
      ]
    },
    {
      "cell_type": "markdown",
      "metadata": {
        "id": "ZvAYctF8Ccam"
      },
      "source": [
        "Lessons: \n",
        "1. Whenever you notice something unusual, take note of it and explore it later on. \n",
        "2. Always use external data to validate your findings during analysis.\n",
        "3. When you select a column, you really wanna understand that column.\n",
        "4. Use the same data that you have at different levels of granularity to check the validity of your hypothesis e.g. Do winter months face higher number of accidents? Check this for all the 5 years and then year-on-year basis to find if the pattern stays the same everywhere.\n",
        "5. Whenever you are putting dots on a map or doing some aggregations, it always helps to pick a sample because the sample will always have more or less the same characteristics as the overall dataset.\n",
        "6. Data Analysis is not so much about knowing these tools by heart. It's about being able to find the right function to do what you want. You should know how to figure out.\n",
        "7. `About Domain Knowledge`: So you will have to do some special learning about the domain, but generally that is more of a surface-level learning. Initially it will suffice where you will be told in the orientation about what the company does and what the data looks like. But, you may want to overtime get deeper and deeper. You uncover the information about the domain you are getting into slowly and it happens very organically. So, don't be close to it. Be open to it. You don't need to spend a year learning about the domain to get into that field. You'll get into the field and keep digging in and keep learning the things that you need to learn. "
      ]
    }
  ],
  "metadata": {
    "colab": {
      "provenance": []
    },
    "kernelspec": {
      "display_name": "Python 3 (ipykernel)",
      "language": "python",
      "name": "python3"
    },
    "language_info": {
      "codemirror_mode": {
        "name": "ipython",
        "version": 3
      },
      "file_extension": ".py",
      "mimetype": "text/x-python",
      "name": "python",
      "nbconvert_exporter": "python",
      "pygments_lexer": "ipython3",
      "version": "3.9.6"
    }
  },
  "nbformat": 4,
  "nbformat_minor": 0
}